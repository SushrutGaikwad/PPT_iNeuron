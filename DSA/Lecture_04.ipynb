{
 "cells": [
  {
   "attachments": {},
   "cell_type": "markdown",
   "metadata": {},
   "source": [
    "[Annotated notes](https://file.notion.so/f/s/4d0cd4de-6f40-4eb5-91ba-2e28be7d4062/Annotated_Notes_4.pdf?id=411fbb9c-b445-4547-8c77-09690eab2092&table=block&spaceId=6fae2e0f-dedc-48e9-bc59-af2654c78209&expirationTimestamp=1685505063317&signature=F589UJfqDa5AftBlB5l7nJf_m3Mw_jbvPgm6HXoYqbQ&downloadName=Annotated+Notes+4.pdf)"
   ]
  },
  {
   "attachments": {},
   "cell_type": "markdown",
   "metadata": {},
   "source": [
    "# 2D Arrays"
   ]
  },
  {
   "attachments": {},
   "cell_type": "markdown",
   "metadata": {},
   "source": [
    "A 2D array is nothing but a matrix. Elements are arranged in the form of rows and columns.\n",
    "$$\\begin{bmatrix}\n",
    "a_{00} & a_{01} & a_{02} & a_{03}\\\\\n",
    "a_{10} & a_{11} & a_{12} & a_{13}\\\\\n",
    "a_{20} & a_{21} & a_{22} & a_{23}\\\\\n",
    "a_{30} & a_{31} & a_{32} & a_{33}\n",
    "\\end{bmatrix}$$\n",
    "The first subscript corresponds to rows, and the second subscript corresponds to columns. 2D arrays are important when it comes to advanced topics like dynamic programming. If we have a $3\\times 4$ integer array, it will have a size of $4\\times 3\\times 4 = 48$ bytes. This is because each integer takes $4$ bytes. To get a value in the array corresponding to the third row and fourth column, we do `arr[2][3]`.\n",
    "\n",
    "A square 2D array is an array with the same number of rows and column, i.e., $n=m$. A rectangular 2D array is obvious now, i.e., $n\\neq m$. The principle diagonal elements and the non-principle diagonal elements are also just like matrices."
   ]
  },
  {
   "attachments": {},
   "cell_type": "markdown",
   "metadata": {},
   "source": [
    "**Question:** Given an `m × n` matrix, return all the elements in the matrix in a spiral order.\n",
    "\n",
    "**Example:**\n",
    "$$\\begin{bmatrix}\n",
    "1 & 2 & 3\\\\\n",
    "4 & 5 & 6\\\\\n",
    "7 & 8 & 9\n",
    "\\end{bmatrix}$$\n",
    "\n",
    "Input: `matrix = [[1, 2, 3], [4, 5, 6], [7, 8, 9]]`.\n",
    "\n",
    "Output: `[1, 2, 3, 6, 9, 8, 7, 4, 5]`"
   ]
  },
  {
   "attachments": {},
   "cell_type": "markdown",
   "metadata": {},
   "source": [
    "**Solution:**\n",
    "\n",
    "We will have four pointers, `up` pointing at `1`, `down` pointing at  `7`, `left` pointing at `1`, and `right` pointing at `3`."
   ]
  },
  {
   "cell_type": "code",
   "execution_count": 1,
   "metadata": {},
   "outputs": [
    {
     "data": {
      "text/plain": [
       "[[1, 2, 3], [4, 5, 6], [7, 8, 9]]"
      ]
     },
     "execution_count": 1,
     "metadata": {},
     "output_type": "execute_result"
    }
   ],
   "source": [
    "matrix = [\n",
    "    [1, 2, 3],\n",
    "    [4, 5, 6],\n",
    "    [7, 8, 9]\n",
    "]\n",
    "matrix"
   ]
  },
  {
   "cell_type": "code",
   "execution_count": 2,
   "metadata": {},
   "outputs": [
    {
     "name": "stdout",
     "output_type": "stream",
     "text": [
      "3 3\n"
     ]
    }
   ],
   "source": [
    "no_of_columns = len(matrix[0])\n",
    "no_of_rows = len(matrix)\n",
    "\n",
    "print(no_of_columns, no_of_rows)"
   ]
  },
  {
   "cell_type": "code",
   "execution_count": 3,
   "metadata": {},
   "outputs": [],
   "source": [
    "up = 0\n",
    "down = no_of_rows - 1\n",
    "left = 0\n",
    "right = no_of_columns - 1\n",
    "\n",
    "spiral = []"
   ]
  },
  {
   "cell_type": "code",
   "execution_count": 4,
   "metadata": {},
   "outputs": [
    {
     "data": {
      "text/plain": [
       "[1, 2, 3, 6, 9, 8, 7, 4, 5]"
      ]
     },
     "execution_count": 4,
     "metadata": {},
     "output_type": "execute_result"
    }
   ],
   "source": [
    "for col in range(left, right+1):\n",
    "    spiral.append(matrix[up][col])\n",
    "up += 1\n",
    "for row in range(up, down+1):\n",
    "    spiral.append(matrix[row][right])\n",
    "right -= 1\n",
    "for col in range(right, left-1, -1):\n",
    "    spiral.append(matrix[down][col])\n",
    "down -= 1\n",
    "for row in range(down, up-1, -1):\n",
    "    spiral.append(matrix[row][left])\n",
    "left += 1\n",
    "for col in range(left, right+1):\n",
    "    spiral.append(matrix[up][col])\n",
    "\n",
    "spiral"
   ]
  },
  {
   "attachments": {},
   "cell_type": "markdown",
   "metadata": {},
   "source": [
    "However, this code will not work for a 2D array of the form\n",
    "$$\\begin{bmatrix}\n",
    "1 & 2 & 3 & 4\n",
    "\\end{bmatrix}$$\n",
    "When we are going from `right` to `left` (third block in the code), we need to check if there are elements left. In other words, we wil check if `up <= down`, if it is true, only then we will proceed. Similarly, before the fourth block, we must check whether `left <= right`. If it is, only then we can proceed. This second condition will be helpful in case the input matrix is a column matrix."
   ]
  },
  {
   "cell_type": "code",
   "execution_count": 5,
   "metadata": {},
   "outputs": [
    {
     "data": {
      "text/plain": [
       "[1, 2, 3, 6, 9, 8, 7, 4, 5]"
      ]
     },
     "execution_count": 5,
     "metadata": {},
     "output_type": "execute_result"
    }
   ],
   "source": [
    "matrix = [\n",
    "    [1, 2, 3],\n",
    "    [4, 5, 6],\n",
    "    [7, 8, 9]\n",
    "]\n",
    "\n",
    "no_of_columns = len(matrix[0])\n",
    "no_of_rows = len(matrix)\n",
    "\n",
    "up = 0\n",
    "down = no_of_rows - 1\n",
    "left = 0\n",
    "right = no_of_columns - 1\n",
    "\n",
    "spiral = []\n",
    "\n",
    "for col in range(left, right+1):\n",
    "    spiral.append(matrix[up][col])\n",
    "up += 1\n",
    "for row in range(up, down+1):\n",
    "    spiral.append(matrix[row][right])\n",
    "right -= 1\n",
    "if up <= down:\n",
    "    for col in range(right, left-1, -1):\n",
    "        spiral.append(matrix[down][col])\n",
    "    down -= 1\n",
    "    if left <= right:\n",
    "        for row in range(down, up-1, -1):\n",
    "            spiral.append(matrix[row][left])\n",
    "        left += 1\n",
    "        for col in range(left, right+1):\n",
    "            spiral.append(matrix[up][col])\n",
    "\n",
    "spiral"
   ]
  },
  {
   "cell_type": "code",
   "execution_count": 6,
   "metadata": {},
   "outputs": [
    {
     "data": {
      "text/plain": [
       "[1, 2, 3, 4]"
      ]
     },
     "execution_count": 6,
     "metadata": {},
     "output_type": "execute_result"
    }
   ],
   "source": [
    "matrix = [\n",
    "    [1, 2, 3, 4]\n",
    "]\n",
    "\n",
    "no_of_columns = len(matrix[0])\n",
    "no_of_rows = len(matrix)\n",
    "\n",
    "up = 0\n",
    "down = no_of_rows - 1\n",
    "left = 0\n",
    "right = no_of_columns - 1\n",
    "\n",
    "spiral = []\n",
    "\n",
    "for col in range(left, right+1):\n",
    "    spiral.append(matrix[up][col])\n",
    "up += 1\n",
    "for row in range(up, down+1):\n",
    "    spiral.append(matrix[row][right])\n",
    "right -= 1\n",
    "if up <= down:\n",
    "    for col in range(right, left-1, -1):\n",
    "        spiral.append(matrix[down][col])\n",
    "    down -= 1\n",
    "    if left <= right:\n",
    "        for row in range(down, up-1, -1):\n",
    "            spiral.append(matrix[row][left])\n",
    "        left += 1\n",
    "        for col in range(left, right+1):\n",
    "            spiral.append(matrix[up][col])\n",
    "\n",
    "spiral"
   ]
  },
  {
   "cell_type": "code",
   "execution_count": 7,
   "metadata": {},
   "outputs": [
    {
     "data": {
      "text/plain": [
       "[1, 2, 3, 4]"
      ]
     },
     "execution_count": 7,
     "metadata": {},
     "output_type": "execute_result"
    }
   ],
   "source": [
    "matrix = [\n",
    "    [1],\n",
    "    [2],\n",
    "    [3],\n",
    "    [4]\n",
    "]\n",
    "\n",
    "no_of_columns = len(matrix[0])\n",
    "no_of_rows = len(matrix)\n",
    "\n",
    "up = 0\n",
    "down = no_of_rows - 1\n",
    "left = 0\n",
    "right = no_of_columns - 1\n",
    "\n",
    "spiral = []\n",
    "\n",
    "for col in range(left, right+1):\n",
    "    spiral.append(matrix[up][col])\n",
    "up += 1\n",
    "for row in range(up, down+1):\n",
    "    spiral.append(matrix[row][right])\n",
    "right -= 1\n",
    "if up <= down:\n",
    "    for col in range(right, left-1, -1):\n",
    "        spiral.append(matrix[down][col])\n",
    "    down -= 1\n",
    "    if left <= right:\n",
    "        for row in range(down, up-1, -1):\n",
    "            spiral.append(matrix[row][left])\n",
    "        left += 1\n",
    "        for col in range(left, right+1):\n",
    "            spiral.append(matrix[up][col])\n",
    "\n",
    "spiral"
   ]
  },
  {
   "cell_type": "code",
   "execution_count": 8,
   "metadata": {},
   "outputs": [],
   "source": [
    "# Ma'am's solution\n",
    "\n",
    "class Solution:\n",
    "    def spiral_order(self, matrix: list):\n",
    "        result = []\n",
    "        \n",
    "        rows = len(matrix)\n",
    "        columns = len(matrix[0])\n",
    "        \n",
    "        up = 0\n",
    "        left = 0\n",
    "        right = columns - 1\n",
    "        down = rows - 1\n",
    "        \n",
    "        while (up <= down) and (left <= right):\n",
    "            # Traversing from left to right\n",
    "            for col in range(left, right + 1):\n",
    "                result.append(matrix[up][col])\n",
    "            up += 1\n",
    "            \n",
    "            # Traversing from up to down\n",
    "            for row in range(up, down + 1):\n",
    "                result.append(matrix[row][right])\n",
    "            right -= 1\n",
    "            \n",
    "            # Making sure we are on a different row\n",
    "            if up <= down:\n",
    "                \n",
    "                # Traversing from right to left\n",
    "                for col in range(right, left - 1, -1):\n",
    "                    result.append(matrix[down][col])\n",
    "                down -= 1\n",
    "                \n",
    "                # Traversing from down to up\n",
    "                for row in range(down, up - 1, -1):\n",
    "                    result.append(matrix[row][left])\n",
    "                left += 1\n",
    "        \n",
    "        return result\n",
    "\n",
    "solution = Solution()"
   ]
  },
  {
   "cell_type": "code",
   "execution_count": 9,
   "metadata": {},
   "outputs": [
    {
     "data": {
      "text/plain": [
       "[1, 2, 3, 6, 9, 8, 7, 4, 5]"
      ]
     },
     "execution_count": 9,
     "metadata": {},
     "output_type": "execute_result"
    }
   ],
   "source": [
    "matrix = [\n",
    "    [1, 2, 3],\n",
    "    [4, 5, 6],\n",
    "    [7, 8, 9]\n",
    "]\n",
    "\n",
    "solution.spiral_order(matrix)"
   ]
  },
  {
   "cell_type": "code",
   "execution_count": 10,
   "metadata": {},
   "outputs": [
    {
     "data": {
      "text/plain": [
       "[1,\n",
       " 2,\n",
       " 3,\n",
       " 4,\n",
       " 5,\n",
       " 10,\n",
       " 15,\n",
       " 20,\n",
       " 25,\n",
       " 24,\n",
       " 23,\n",
       " 22,\n",
       " 21,\n",
       " 16,\n",
       " 11,\n",
       " 6,\n",
       " 7,\n",
       " 8,\n",
       " 9,\n",
       " 14,\n",
       " 19,\n",
       " 18,\n",
       " 17,\n",
       " 12,\n",
       " 13]"
      ]
     },
     "execution_count": 10,
     "metadata": {},
     "output_type": "execute_result"
    }
   ],
   "source": [
    "matrix = [\n",
    "    [1, 2, 3, 4, 5],\n",
    "    [6, 7, 8, 9, 10],\n",
    "    [11, 12, 13, 14, 15],\n",
    "    [16, 17, 18, 19, 20],\n",
    "    [21, 22, 23, 24, 25]\n",
    "]\n",
    "\n",
    "solution.spiral_order(matrix)"
   ]
  },
  {
   "cell_type": "code",
   "execution_count": 11,
   "metadata": {},
   "outputs": [
    {
     "data": {
      "text/plain": [
       "[1, 2, 3, 4, 5, 10, 15, 20, 25, 24, 23, 22, 21, 16, 11, 6, 7, 8, 9]"
      ]
     },
     "execution_count": 11,
     "metadata": {},
     "output_type": "execute_result"
    }
   ],
   "source": [
    "# My approach does not work for other matrices, but ma'am's does because of her use of the while loop\n",
    "\n",
    "matrix = [\n",
    "    [1, 2, 3, 4, 5],\n",
    "    [6, 7, 8, 9, 10],\n",
    "    [11, 12, 13, 14, 15],\n",
    "    [16, 17, 18, 19, 20],\n",
    "    [21, 22, 23, 24, 25]\n",
    "]\n",
    "\n",
    "no_of_columns = len(matrix[0])\n",
    "no_of_rows = len(matrix)\n",
    "\n",
    "up = 0\n",
    "down = no_of_rows - 1\n",
    "left = 0\n",
    "right = no_of_columns - 1\n",
    "\n",
    "spiral = []\n",
    "\n",
    "for col in range(left, right+1):\n",
    "    spiral.append(matrix[up][col])\n",
    "up += 1\n",
    "for row in range(up, down+1):\n",
    "    spiral.append(matrix[row][right])\n",
    "right -= 1\n",
    "if up <= down:\n",
    "    for col in range(right, left-1, -1):\n",
    "        spiral.append(matrix[down][col])\n",
    "    down -= 1\n",
    "    if left <= right:\n",
    "        for row in range(down, up-1, -1):\n",
    "            spiral.append(matrix[row][left])\n",
    "        left += 1\n",
    "        for col in range(left, right+1):\n",
    "            spiral.append(matrix[up][col])\n",
    "\n",
    "spiral"
   ]
  },
  {
   "attachments": {},
   "cell_type": "markdown",
   "metadata": {},
   "source": [
    "The time complexity of this algorithm is $\\mathcal{O}\\left( mn \\right)$, where $m$ is the number of rows, and $n$ is the number of columns. The space complexity is $\\mathcal{O}\\left( 1 \\right)$."
   ]
  },
  {
   "attachments": {},
   "cell_type": "markdown",
   "metadata": {},
   "source": [
    "**Question:** Given a square matrix `mat`, return the sum of its diagonals. Only include the sum of all the elements on the primary diagonal and all the elements on the secondary diagonal that are not a part of the primary diagonal.\n",
    "\n",
    "**Example:**\n",
    "$$\\begin{bmatrix}\n",
    "\\textbf{1} & 2 & \\textbf{3}\\\\\n",
    "4 & \\textbf{5} & 6\\\\\n",
    "\\textbf{7} & 8 & \\textbf{9}\n",
    "\\end{bmatrix}$$\n",
    "Input: `mat = [[1, 2, 3], [4, 5, 6], [7, 8, 9]]`.\n",
    "\n",
    "Output: `25`.\n",
    "\n",
    "Explanation: Diagonals sum: `1 + 5 + 9 + 3 + 7 = 25`. Notice that the element `mat[1][1] = 5` is only counted once."
   ]
  },
  {
   "attachments": {},
   "cell_type": "markdown",
   "metadata": {},
   "source": [
    "**Solution:** Pretty simple question."
   ]
  },
  {
   "cell_type": "code",
   "execution_count": 12,
   "metadata": {},
   "outputs": [],
   "source": [
    "# My solution\n",
    "\n",
    "class Solution:\n",
    "    def matrix_diagonal_sum(self, mat: list):\n",
    "        order = len(mat)\n",
    "        sum = 0\n",
    "        \n",
    "        # Principle diagonal\n",
    "        for i in range(order):\n",
    "            sum += mat[i][i]\n",
    "        \n",
    "        # for r in range(order):  # This commented implementation has TC as O(n^2)\n",
    "        #     for c in range(order):\n",
    "        #         if r == c:\n",
    "        #             sum += mat[r][c]\n",
    "\n",
    "        # Non-principle diagonal\n",
    "        for i in range(order):\n",
    "            if i != order - 1 - i:\n",
    "                sum += mat[i][order - 1 - i]\n",
    "        \n",
    "        # for r in range(order):  # This commented implementation has TC as O(n^2)\n",
    "        #     for c in range(order):\n",
    "        #         if r + c == (order - 1) and r != c:\n",
    "        #             sum += mat[r][c]\n",
    "        \n",
    "        return sum\n",
    "\n",
    "solution = Solution()"
   ]
  },
  {
   "cell_type": "code",
   "execution_count": 13,
   "metadata": {},
   "outputs": [
    {
     "data": {
      "text/plain": [
       "25"
      ]
     },
     "execution_count": 13,
     "metadata": {},
     "output_type": "execute_result"
    }
   ],
   "source": [
    "mat = [\n",
    "    [1, 2, 3],\n",
    "    [4, 5, 6],\n",
    "    [7, 8, 9]\n",
    "]\n",
    "\n",
    "solution.matrix_diagonal_sum(mat)"
   ]
  },
  {
   "cell_type": "code",
   "execution_count": 14,
   "metadata": {},
   "outputs": [
    {
     "data": {
      "text/plain": [
       "68"
      ]
     },
     "execution_count": 14,
     "metadata": {},
     "output_type": "execute_result"
    }
   ],
   "source": [
    "mat = [\n",
    "    [1, 2, 3, 4],\n",
    "    [5, 6, 7, 8],\n",
    "    [9, 10, 11, 12],\n",
    "    [13, 14, 15, 16]\n",
    "]\n",
    "\n",
    "solution.matrix_diagonal_sum(mat)"
   ]
  },
  {
   "attachments": {},
   "cell_type": "markdown",
   "metadata": {},
   "source": [
    "Since we are just iterating over the order (i.e., $n$), the time complexity is $\\mathcal{O}\\left( n \\right)$, and the space complexity is $\\mathcal{O}\\left( 1 \\right)$."
   ]
  },
  {
   "attachments": {},
   "cell_type": "markdown",
   "metadata": {},
   "source": [
    "**Question:** Given an `m × n` matrix `grid` which is sorted in non-increasing order, both row-wise and column-wise, return the number of negative numbers in the `grid`.\n",
    "\n",
    "**Example:**\n",
    "$$\\begin{bmatrix}\n",
    "4 & 3 & 2 & -1 \\\\\n",
    "3 & 2 & 1 & -1 \\\\\n",
    "1 & 1 & -1 & -2 \\\\\n",
    "-1 & -1 & -2 & -3\n",
    "\\end{bmatrix}$$\n",
    "Input: `grid = [[4, 3, 2, -1], [3, 2, 1, -1], [1, 1, -1, -2], [-1, -1, -2, -3]]`.\n",
    "\n",
    "Output: `8`.\n",
    "\n",
    "Explanation: There are `8` negative numbers in the matrix `grid`."
   ]
  },
  {
   "attachments": {},
   "cell_type": "markdown",
   "metadata": {},
   "source": [
    "**Solution:**\n",
    "\n",
    "The brute force approach will be to use two for loops, and use a counter `count`. The time complexity will be $\\mathcal{O}\\left( mn \\right)$, and the time complexity will be $\\mathcal{O}\\left( 1 \\right)$.\n",
    "\n",
    "A better solution is to carry out binary search (note that binary search only works on sorted arrays). We will use the given fact that the elements are in a non-increasing order, both row-wise and column-wise. Using binary search, we will find the first negative element in a particular row. Once we find this element, all the elements in this row to the right of this element will be negative. To understand binary search, let us take a single row as follows:\n",
    "$$\\begin{bmatrix}\n",
    "10 & 4 & 4 & 0 & -1 & -1 & -5\n",
    "\\end{bmatrix}$$\n",
    "We will have two pointers, `left = 0` (pointing at `10`), and `right = 6` (pointing at `-5`). Doing this, we will calculate `mid = (left + right)//2 = (0 + 6) // 2 = 3`. The element at `mid` is `0`. Hence, we can say that all the elements to the left of it should be positive. So, we will now update `left = mid + 1 = 4`. Until now, the right has been at `6`. We will keep on following this process untill `left <= right`. So, the new value for `mid` is `mid = (4 + 6) // 2 = 5`. So, the value at `mid = 5` is `-1`. This may or may not be the first negative number. So, we will move `right = right - mid`, giving `right = 4`. Since `left = right = 4`, this is the first negative element. The time complexity for this is $\\mathcal{O}\\left( \\log n \\right)$. So, for each row, we can carry out this binary search process and find the first negative element, giving all elements to its right also as negative.\n",
    "\n",
    "The following is the algorithm:\n",
    "1. Initialize `count = 0` (number of negative elements).\n",
    "2. Let `n` be the number of columns and `m` be the number of rows.\n",
    "3. Iterate on each row and find the index of first negative element. Let this index be `left`. So, all elements from `left` to `n` will be negative. Increment `count` by `(n - left)`.\n",
    "\n",
    "Since we are using binary search for each row, the time complexity is $\\mathcal{O}\\left( m \\log n \\right)$, and space complexity is $\\mathcal{O}\\left( 1 \\right)$."
   ]
  },
  {
   "cell_type": "code",
   "execution_count": 15,
   "metadata": {},
   "outputs": [],
   "source": [
    "class Solution:\n",
    "    def number_of_negative_elements_in_a_non_decreasing_grid(self, grid: list):\n",
    "        count = 0\n",
    "        n = len(grid[0])\n",
    "        \n",
    "        # Iterating over all the rows of the matrix\n",
    "        for row in grid:\n",
    "            \n",
    "            # Carry out binary search to find the index of the first negative element in this row\n",
    "            left = 0\n",
    "            right = n - 1\n",
    "            \n",
    "            while left <= right:\n",
    "                mid = (right + left) // 2\n",
    "                \n",
    "                if row[mid] < 0:\n",
    "                    right = mid - 1\n",
    "                else:\n",
    "                    left = mid + 1\n",
    "            \n",
    "            count = count + (n - left)\n",
    "        \n",
    "        return count\n",
    "\n",
    "solution = Solution()"
   ]
  },
  {
   "cell_type": "code",
   "execution_count": 16,
   "metadata": {},
   "outputs": [
    {
     "data": {
      "text/plain": [
       "8"
      ]
     },
     "execution_count": 16,
     "metadata": {},
     "output_type": "execute_result"
    }
   ],
   "source": [
    "grid = [[4, 3, 2, -1], [3, 2, 1, -1], [1, 1, -1, -2], [-1, -1, -2, -3]]\n",
    "\n",
    "solution.number_of_negative_elements_in_a_non_decreasing_grid(grid)"
   ]
  },
  {
   "attachments": {},
   "cell_type": "markdown",
   "metadata": {},
   "source": [
    "**Question:** You are given an `m × n` matrix `accounts`, where `accounts[i][j]` is the amount of money the `i`-th customer has in the `j`-th bank. Return the wealth that the richest customer has. A customer's wealth is the amount of money they have in all their bank accounts. The richest customer is the customer with the largest wealth.\n",
    "\n",
    "**Example:**\n",
    "\n",
    "Input: `accounts = [[1, 2, 3], [3, 2, 1]]`.\n",
    "\n",
    "Output: `6`.\n",
    "\n",
    "Explanation:\n",
    "\n",
    "1st customer has a wealth of `1 + 2 + 3 = 6`.\\\n",
    "2nd customer has a wealth of `3 + 2 + 1 = 6`.\n",
    "\n",
    "Both customers are richest. Hence, return `6`."
   ]
  },
  {
   "attachments": {},
   "cell_type": "markdown",
   "metadata": {},
   "source": [
    "**Solution:** A very easy question."
   ]
  },
  {
   "cell_type": "code",
   "execution_count": 17,
   "metadata": {},
   "outputs": [],
   "source": [
    "# My solution\n",
    "\n",
    "class Solution:\n",
    "    def wealth_of_wealthiest_customer(self, accounts: list):\n",
    "        no_of_rows = len(accounts)\n",
    "        no_of_columns = len(accounts[0])\n",
    "\n",
    "        wealth = []\n",
    "        for r in range(no_of_rows):\n",
    "            sum = 0\n",
    "            for c in range(no_of_columns):\n",
    "                sum += accounts[r][c]\n",
    "            wealth.append(sum)\n",
    "        \n",
    "        return max(wealth)\n",
    "\n",
    "solution = Solution()"
   ]
  },
  {
   "cell_type": "code",
   "execution_count": 18,
   "metadata": {},
   "outputs": [
    {
     "data": {
      "text/plain": [
       "6"
      ]
     },
     "execution_count": 18,
     "metadata": {},
     "output_type": "execute_result"
    }
   ],
   "source": [
    "accounts = [\n",
    "    [1, 2, 3],\n",
    "    [3, 2, 1]\n",
    "]\n",
    "\n",
    "solution.wealth_of_wealthiest_customer(accounts)"
   ]
  },
  {
   "cell_type": "code",
   "execution_count": 19,
   "metadata": {},
   "outputs": [
    {
     "data": {
      "text/plain": [
       "19"
      ]
     },
     "execution_count": 19,
     "metadata": {},
     "output_type": "execute_result"
    }
   ],
   "source": [
    "accounts = [\n",
    "    [5, 6, 8],\n",
    "    [3, 2, 1]\n",
    "]\n",
    "\n",
    "solution.wealth_of_wealthiest_customer(accounts)"
   ]
  },
  {
   "attachments": {},
   "cell_type": "markdown",
   "metadata": {},
   "source": [
    "The time complexity is $\\mathcal{O}\\left( mn \\right)$ since we are traversing the entire array. The space complexity is $\\mathcal{O}\\left( 1 \\right)$."
   ]
  }
 ],
 "metadata": {
  "kernelspec": {
   "display_name": "Python 3",
   "language": "python",
   "name": "python3"
  },
  "language_info": {
   "codemirror_mode": {
    "name": "ipython",
    "version": 3
   },
   "file_extension": ".py",
   "mimetype": "text/x-python",
   "name": "python",
   "nbconvert_exporter": "python",
   "pygments_lexer": "ipython3",
   "version": "3.10.0"
  },
  "orig_nbformat": 4
 },
 "nbformat": 4,
 "nbformat_minor": 2
}
