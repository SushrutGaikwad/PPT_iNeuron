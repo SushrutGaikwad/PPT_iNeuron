{
 "cells": [
  {
   "attachments": {},
   "cell_type": "markdown",
   "metadata": {},
   "source": [
    "[Annotated notes](https://pwskills.notion.site/Annotated-Notes-8-8049690a97844b5eb0840ff8ff961494)\\\n",
    "[Notes with code](https://pwskills.notion.site/Class-Notes-8-bb3463cefe554343afe65b7603f1e31b)"
   ]
  },
  {
   "attachments": {},
   "cell_type": "markdown",
   "metadata": {},
   "source": [
    "# Strings (Continued)"
   ]
  },
  {
   "attachments": {},
   "cell_type": "markdown",
   "metadata": {},
   "source": [
    "**Question:** You're given strings `jewels` representing the types of stones that are jewels, and `stones` representing the stones you have. Each character in `stones` is a type of stone you have. You want to know how many of the stones you have are also jewels. Letters are case sensitive, so `\"a\"` is considered a different type of stone from `\"A\"`.\n",
    "\n",
    "**Example:**\n",
    "\n",
    "Input: `jewels = \"aA\"`, `stones = \"aAAbbbb\"`.\n",
    "\n",
    "Output: `3`."
   ]
  },
  {
   "cell_type": "code",
   "execution_count": 1,
   "metadata": {},
   "outputs": [],
   "source": [
    "# My solution\n",
    "def number_of_stones_that_are_jewels(jewels: str, stones: str):\n",
    "    count = 0\n",
    "    \n",
    "    for i in range(len(stones)):\n",
    "        if stones[i] in jewels:\n",
    "            count += 1\n",
    "    \n",
    "    return count"
   ]
  },
  {
   "cell_type": "code",
   "execution_count": 2,
   "metadata": {},
   "outputs": [
    {
     "data": {
      "text/plain": [
       "3"
      ]
     },
     "execution_count": 2,
     "metadata": {},
     "output_type": "execute_result"
    }
   ],
   "source": [
    "jewels = \"aA\"\n",
    "stones = \"aAAbbbb\"\n",
    "\n",
    "number_of_stones_that_are_jewels(jewels, stones)"
   ]
  },
  {
   "attachments": {},
   "cell_type": "markdown",
   "metadata": {},
   "source": [
    "**Solution:**\n",
    "\n",
    "For each stone, check whether it matches any of the jewels. We can check efficiently with a Hash Set.\n",
    "\n",
    "Complexity Analysis\n",
    "- Time Complexity: O(J.length+S.length). The O(J.length) part comes from creating J. The O(S.length) part comes from searching S.\n",
    "- Space Complexity: O(J.length)."
   ]
  },
  {
   "cell_type": "code",
   "execution_count": 3,
   "metadata": {},
   "outputs": [],
   "source": [
    "def numJewelsInStones(J, S):\n",
    "    Jset = set(J)\n",
    "    ans = 0\n",
    "    for s in S:\n",
    "        if s in Jset:\n",
    "            ans += 1\n",
    "    return ans"
   ]
  },
  {
   "cell_type": "code",
   "execution_count": 4,
   "metadata": {},
   "outputs": [
    {
     "data": {
      "text/plain": [
       "3"
      ]
     },
     "execution_count": 4,
     "metadata": {},
     "output_type": "execute_result"
    }
   ],
   "source": [
    "jewels = \"aA\"\n",
    "stones = \"aAAbbbb\"\n",
    "\n",
    "numJewelsInStones(jewels, stones)"
   ]
  },
  {
   "attachments": {},
   "cell_type": "markdown",
   "metadata": {},
   "source": [
    "**Question:** Given two strings `s` and `t`, return `True` if `t` is an anagram of `s`, and `False` otherwise. An Anagram is a word or phrase formed by rearranging the letters of a different word or phrase, typically using all the original letters exactly once. You can assume that the strings only have lower case letters.\n",
    "\n",
    "**Example:**\n",
    "\n",
    "Input: `s = \"anagram\"`, `t = \"nagaram\"`.\n",
    "\n",
    "Output: `True`."
   ]
  },
  {
   "cell_type": "code",
   "execution_count": 5,
   "metadata": {},
   "outputs": [],
   "source": [
    "# My solution\n",
    "\n",
    "def anagram(s: str, t: str):\n",
    "    if len(s) != len(t):\n",
    "        return False\n",
    "    if set(s) == set(t):\n",
    "        return True\n",
    "    else: return False"
   ]
  },
  {
   "cell_type": "code",
   "execution_count": 6,
   "metadata": {},
   "outputs": [
    {
     "data": {
      "text/plain": [
       "True"
      ]
     },
     "execution_count": 6,
     "metadata": {},
     "output_type": "execute_result"
    }
   ],
   "source": [
    "s = \"anagram\"\n",
    "t = \"nagaram\"\n",
    "\n",
    "anagram(s, t)"
   ]
  },
  {
   "attachments": {},
   "cell_type": "markdown",
   "metadata": {},
   "source": [
    "**Solution:**\n",
    "\n",
    "The first approach is by sorting both the strings and then comparing. The time complexity for this is $\\mathcal{O}\\left( n \\log n \\right)$.\n",
    "\n",
    "A better approach is to create a zero array of size 26. Next, for each letter in `s`, we will add `1` to its corresponding index in the array, and for each letter in `t` will subtract `1` from the corresponding index in the array. At the end, if the sum of this array is zero, we will return `True`, else we will return `False`. The time complexity for this is $\\mathcal{O}\\left( n \\right)$, and the space complexity is $\\mathcal{O}\\left( 1 \\right)$."
   ]
  },
  {
   "cell_type": "code",
   "execution_count": 7,
   "metadata": {},
   "outputs": [],
   "source": [
    "def isAnagram(s, t):\n",
    "    if len(s) != len(t):\n",
    "        return False\n",
    "    counter = [0] * 26\n",
    "    for i in range(len(s)):\n",
    "        counter[ord(s[i]) - ord('a')] += 1\n",
    "        counter[ord(t[i]) - ord('a')] -= 1\n",
    "    for count in counter:\n",
    "        if count != 0:\n",
    "            return False\n",
    "    return True"
   ]
  },
  {
   "cell_type": "code",
   "execution_count": 8,
   "metadata": {},
   "outputs": [
    {
     "data": {
      "text/plain": [
       "True"
      ]
     },
     "execution_count": 8,
     "metadata": {},
     "output_type": "execute_result"
    }
   ],
   "source": [
    "s = \"anagram\"\n",
    "t = \"nagaram\"\n",
    "\n",
    "isAnagram(s, t)"
   ]
  },
  {
   "attachments": {},
   "cell_type": "markdown",
   "metadata": {},
   "source": [
    "**Question:** A phrase is a palindrome if, after converting all uppercase letters into lowercase letters and removing all non-alphanumeric characters, it reads the same forward and backward. Alphanumeric characters include letters and numbers. Given a string `s`, return `True` if it is a palindrome, or `False` otherwise.\n",
    "\n",
    "**Example:**\n",
    "\n",
    "Input: `s = \"A man, a plan, a canal: Panama\"`.\n",
    "\n",
    "Output: `True`.\n",
    "\n",
    "Explanation: `\"amanaplanacanalpanama\"` is a palindrome."
   ]
  },
  {
   "cell_type": "code",
   "execution_count": 9,
   "metadata": {},
   "outputs": [],
   "source": [
    "# My solution\n",
    "def palindrome(s: str):\n",
    "    s = s.lower()\n",
    "    \n",
    "    new_str = \"\"\n",
    "\n",
    "    for i in range(len(s)):\n",
    "        if s[i].isalpha():\n",
    "            new_str = \"\".join([new_str, s[i]])\n",
    "    \n",
    "    if new_str == new_str[::-1]:\n",
    "        return True\n",
    "    else:\n",
    "        return False"
   ]
  },
  {
   "cell_type": "code",
   "execution_count": 10,
   "metadata": {},
   "outputs": [
    {
     "data": {
      "text/plain": [
       "True"
      ]
     },
     "execution_count": 10,
     "metadata": {},
     "output_type": "execute_result"
    }
   ],
   "source": [
    "s = \"A man, a plan, a canal: Panama\"\n",
    "\n",
    "palindrome(s)"
   ]
  },
  {
   "attachments": {},
   "cell_type": "markdown",
   "metadata": {},
   "source": [
    "**Solution:**\n",
    "\n",
    "As a first approach, we can reverse and then compare. If they are equal, we will return `True`. This will have a time complexity of $\\mathcal{O}\\left( n \\right)$.\n",
    "\n",
    "For a second approach, we can use two pointers, one at the left, and the other at the right. As long as the characters at these pointers are the same, we will increment the left pointer and decrement the right pointer, till we reach the centre. Even if the characters at these pointers do not match just once, we will return `False`, else we will return `True`. The time complexity for this is again $\\mathcal{O}\\left( n \\right)$, and the space complexity is $\\mathcal{O}\\left( 1 \\right)$."
   ]
  },
  {
   "cell_type": "code",
   "execution_count": 11,
   "metadata": {},
   "outputs": [],
   "source": [
    "def isPalindrome(s):\n",
    "    l, r = 0, len(s) - 1\n",
    "    while l < r:\n",
    "        while l < r and not s[l].isalnum():\n",
    "            l += 1\n",
    "        while l < r and not s[r].isalnum():\n",
    "            r -= 1\n",
    "        if s[l].lower() != s[r].lower():\n",
    "            return False\n",
    "        l += 1\n",
    "        r -= 1\n",
    "    return True"
   ]
  },
  {
   "cell_type": "code",
   "execution_count": 12,
   "metadata": {},
   "outputs": [
    {
     "data": {
      "text/plain": [
       "True"
      ]
     },
     "execution_count": 12,
     "metadata": {},
     "output_type": "execute_result"
    }
   ],
   "source": [
    "s = \"A man, a plan, a canal: Panama\"\n",
    "\n",
    "isPalindrome(s)"
   ]
  },
  {
   "attachments": {},
   "cell_type": "markdown",
   "metadata": {},
   "source": [
    "**Question:** You are given an array of strings `words` (`0`-indexed). In one operation, pick two distinct indices `i` and `j`, where `words[i]` is a non-empty string, and move any character from `words[i]` to any position in `words[j]`. Return `True` if you can make every string in `words` equal using any number of operations, and `False` otherwise.\n",
    "\n",
    "**Example:**\n",
    "\n",
    "Input: `words = [\"abc\", \"aabc\", \"bc\"]`.\n",
    "\n",
    "Output: `True`.\n",
    "\n",
    "Explanation: Move the first `'a'` in `words[1]` to the front of `words[2]`, to make `words[1] = \"abc\"` and `words[2] = \"abc\"`. All the strings are now equal to `\"abc\"`, so return `True`."
   ]
  },
  {
   "cell_type": "code",
   "execution_count": 13,
   "metadata": {},
   "outputs": [],
   "source": [
    "# My solution\n",
    "def can_make_words_equal(words: list):\n",
    "    all_chars = \"\".join(words)\n",
    "    \n",
    "    frequency_map = {}\n",
    "\n",
    "    for char in all_chars:\n",
    "        if char in frequency_map.keys():\n",
    "            frequency_map[char] += 1\n",
    "        else:\n",
    "            frequency_map[char] = 1\n",
    "    \n",
    "    chars = []\n",
    "    \n",
    "    for k in frequency_map.keys():\n",
    "        if frequency_map[k] % len(words) != 0:\n",
    "            chars.append(k)\n",
    "            \n",
    "    if len(chars) == 0:\n",
    "        return True\n",
    "    else:\n",
    "        return False"
   ]
  },
  {
   "cell_type": "code",
   "execution_count": 14,
   "metadata": {},
   "outputs": [
    {
     "data": {
      "text/plain": [
       "True"
      ]
     },
     "execution_count": 14,
     "metadata": {},
     "output_type": "execute_result"
    }
   ],
   "source": [
    "words = [\"abc\", \"aabc\", \"bc\"]\n",
    "\n",
    "can_make_words_equal(words)"
   ]
  },
  {
   "cell_type": "code",
   "execution_count": 15,
   "metadata": {},
   "outputs": [
    {
     "data": {
      "text/plain": [
       "False"
      ]
     },
     "execution_count": 15,
     "metadata": {},
     "output_type": "execute_result"
    }
   ],
   "source": [
    "words = [\"ab\", \"b\", \"bb\"]\n",
    "\n",
    "can_make_words_equal(words)"
   ]
  },
  {
   "cell_type": "code",
   "execution_count": 16,
   "metadata": {},
   "outputs": [
    {
     "data": {
      "text/plain": [
       "True"
      ]
     },
     "execution_count": 16,
     "metadata": {},
     "output_type": "execute_result"
    }
   ],
   "source": [
    "words = [\"cabcd\", \"dabcab\", \"d\"]\n",
    "\n",
    "can_make_words_equal(words)"
   ]
  },
  {
   "cell_type": "code",
   "execution_count": 17,
   "metadata": {},
   "outputs": [
    {
     "data": {
      "text/plain": [
       "False"
      ]
     },
     "execution_count": 17,
     "metadata": {},
     "output_type": "execute_result"
    }
   ],
   "source": [
    "words = [\"ab\", \"a\"]\n",
    "\n",
    "can_make_words_equal(words)"
   ]
  },
  {
   "cell_type": "code",
   "execution_count": 18,
   "metadata": {},
   "outputs": [
    {
     "data": {
      "text/plain": [
       "True"
      ]
     },
     "execution_count": 18,
     "metadata": {},
     "output_type": "execute_result"
    }
   ],
   "source": [
    "words = [\"aab\", \"ab\", \"aaab\"]\n",
    "\n",
    "can_make_words_equal(words)"
   ]
  },
  {
   "attachments": {},
   "cell_type": "markdown",
   "metadata": {},
   "source": [
    "**Solution:**\n",
    "\n",
    "Your approach is correct. The time complexity is $\\mathcal{O}\\left( n \\right)$, where $n$ is the sum of the length of all the words. The time complexity is $\\mathcal{O}\\left( 1 \\right)$."
   ]
  },
  {
   "cell_type": "code",
   "execution_count": 19,
   "metadata": {},
   "outputs": [],
   "source": [
    "# Ma'am's solution\n",
    "\n",
    "def makeEqual(words):\n",
    "    n = len(words)\n",
    "    array = [0] * 26\n",
    "\n",
    "    for word in words:\n",
    "        for c in word:\n",
    "            array[ord(c) - ord('a')] += 1\n",
    "\n",
    "    for fq in array:\n",
    "        if fq % n != 0:\n",
    "            return False\n",
    "\n",
    "    return True"
   ]
  },
  {
   "cell_type": "code",
   "execution_count": 20,
   "metadata": {},
   "outputs": [
    {
     "data": {
      "text/plain": [
       "True"
      ]
     },
     "execution_count": 20,
     "metadata": {},
     "output_type": "execute_result"
    }
   ],
   "source": [
    "words = [\"abc\", \"aabc\", \"bc\"]\n",
    "\n",
    "makeEqual(words)"
   ]
  },
  {
   "attachments": {},
   "cell_type": "markdown",
   "metadata": {},
   "source": [
    "**Question:** Balanced strings are those that have an equal quantity of `'L'` and `'R'` characters. Given a balanced string `s`, split it into some number of substrings such that:\n",
    "* Each substring is balanced.\n",
    "\n",
    "Return the maximum number of balanced strings you can obtain.\n",
    "\n",
    "**Example:**\n",
    "\n",
    "Input: `s = \"RLRRLLRLRL\"`.\n",
    "\n",
    "Output: `4`.\n",
    "\n",
    "Explanation: `s` can be split into `\"RL\"`, `\"RRLL\"`, `\"RL\"`, `\"RL\"`, each substring contains same number of `'L'` and `'R'`."
   ]
  },
  {
   "attachments": {},
   "cell_type": "markdown",
   "metadata": {},
   "source": [
    "**Solution:**\n",
    "\n",
    "We can maintain a counter for `\"L\"`. Whenever we see an `\"L\"`, we increment this counter, and whenever we see an `\"R\"`, we decrement this counter. At any point of time if the value of the counter becomes `0`, we will increment our value of result. The time complexity for this is $\\mathcal{O}\\left( n \\right)$, and the space complexity is $\\mathcal{O}\\left( 1 \\right)$."
   ]
  },
  {
   "cell_type": "code",
   "execution_count": 21,
   "metadata": {},
   "outputs": [],
   "source": [
    "def balancedStringSplit(s):\n",
    "    res = 0\n",
    "    cnt = 0\n",
    "    for i in range(len(s)):\n",
    "        cnt += 1 if s[i] == 'L' else -1\n",
    "        if cnt == 0:\n",
    "            res += 1\n",
    "    return res"
   ]
  },
  {
   "cell_type": "code",
   "execution_count": 22,
   "metadata": {},
   "outputs": [
    {
     "data": {
      "text/plain": [
       "4"
      ]
     },
     "execution_count": 22,
     "metadata": {},
     "output_type": "execute_result"
    }
   ],
   "source": [
    "s = \"RLRRLLRLRL\"\n",
    "\n",
    "balancedStringSplit(s)"
   ]
  },
  {
   "cell_type": "code",
   "execution_count": 23,
   "metadata": {},
   "outputs": [
    {
     "data": {
      "text/plain": [
       "2"
      ]
     },
     "execution_count": 23,
     "metadata": {},
     "output_type": "execute_result"
    }
   ],
   "source": [
    "s = \"RLRRRLLRLL\"\n",
    "\n",
    "balancedStringSplit(s)"
   ]
  },
  {
   "cell_type": "code",
   "execution_count": 24,
   "metadata": {},
   "outputs": [
    {
     "data": {
      "text/plain": [
       "1"
      ]
     },
     "execution_count": 24,
     "metadata": {},
     "output_type": "execute_result"
    }
   ],
   "source": [
    "s = \"LLLLRRRR\"\n",
    "\n",
    "balancedStringSplit(s)"
   ]
  },
  {
   "attachments": {},
   "cell_type": "markdown",
   "metadata": {},
   "source": [
    "**Question:** Given a string `s`, reverse only all the vowels in the string and return it. The vowels are `'a'`, `'e'`, `'i'`, `'o'`, and `'u'`, and they can appear in both lower and upper cases, more than once.\n",
    "\n",
    "**Example:**\n",
    "\n",
    "Input: `s = \"hello\"`.\n",
    "\n",
    "Output: `\"holle\"`."
   ]
  },
  {
   "cell_type": "code",
   "execution_count": 25,
   "metadata": {},
   "outputs": [],
   "source": [
    "# My solution\n",
    "def reverse_vowels(s: str):\n",
    "    vowels = [\"a\", \"e\", \"i\", \"o\", \"u\"]\n",
    "    \n",
    "    s_arr = []\n",
    "    \n",
    "    for char in s:\n",
    "        s_arr.append(char)\n",
    "    \n",
    "    vowel_indices = []\n",
    "    \n",
    "    for i in range(len(s_arr)):\n",
    "        if s_arr[i].lower() in vowels:\n",
    "            vowel_indices.append(i)\n",
    "\n",
    "    j = len(vowel_indices) - 1\n",
    "\n",
    "    for i in range(len(vowel_indices) // 2):\n",
    "        s_arr[vowel_indices[i]], s_arr[vowel_indices[j]] = s_arr[vowel_indices[j]], s_arr[vowel_indices[i]]\n",
    "        j -= 1\n",
    "    \n",
    "    s_arr = \"\".join(s_arr)\n",
    "    \n",
    "    return s_arr"
   ]
  },
  {
   "cell_type": "code",
   "execution_count": 26,
   "metadata": {},
   "outputs": [
    {
     "data": {
      "text/plain": [
       "'holle'"
      ]
     },
     "execution_count": 26,
     "metadata": {},
     "output_type": "execute_result"
    }
   ],
   "source": [
    "s = \"hello\"\n",
    "\n",
    "reverse_vowels(s)"
   ]
  },
  {
   "cell_type": "code",
   "execution_count": 27,
   "metadata": {},
   "outputs": [
    {
     "data": {
      "text/plain": [
       "'leotcede'"
      ]
     },
     "execution_count": 27,
     "metadata": {},
     "output_type": "execute_result"
    }
   ],
   "source": [
    "s = \"leetcode\"\n",
    "reverse_vowels(s)"
   ]
  },
  {
   "attachments": {},
   "cell_type": "markdown",
   "metadata": {},
   "source": [
    "**Solution:**\n",
    "\n",
    "We will create two pointers, left and right. We will keep incrementing the left pointer till it points to a vowel. Similarly, keep decrementing right pointer till it points to a vowel. When both are pointing to a vowel, we will swap the characters. Next, we will increment the left pointer and decrement the right pointer. We will keep on doing this untill the right pointer and the left pointer points at the same character. The time complexity is $\\mathcal{O}\\left( n \\right)$."
   ]
  },
  {
   "cell_type": "code",
   "execution_count": 28,
   "metadata": {},
   "outputs": [],
   "source": [
    "# Ma'am's solution\n",
    "\n",
    "class Solution:\n",
    "    # Return True if the character is a vowel (case-insensitive)\n",
    "    def isVowel(self, c):\n",
    "        return c in ['a', 'e', 'i', 'o', 'u', 'A', 'E', 'I', 'O', 'U']\n",
    "\n",
    "    # Function to swap characters at index x and y\n",
    "    def swap(self, chars, x, y):\n",
    "        chars[x], chars[y] = chars[y], chars[x]\n",
    "\n",
    "    def reverseVowels(self, s):\n",
    "        start = 0\n",
    "        end = len(s) - 1\n",
    "        # Convert string to list of characters as strings are immutable in Python\n",
    "        s_list = list(s)\n",
    "\n",
    "        # While we still have characters to traverse\n",
    "        while start < end:\n",
    "            # Find the leftmost vowel\n",
    "            while start < len(s) and not self.isVowel(s_list[start]):\n",
    "                start += 1\n",
    "            # Find the rightmost vowel\n",
    "            while end >= 0 and not self.isVowel(s_list[end]):\n",
    "                end -= 1\n",
    "            # Swap them if start is left of end\n",
    "            if start < end:\n",
    "                self.swap(s_list, start, end)\n",
    "                start += 1\n",
    "                end -= 1\n",
    "\n",
    "        # Converting list of characters back to string\n",
    "        return ''.join(s_list)\n",
    "\n",
    "solution = Solution()"
   ]
  },
  {
   "cell_type": "code",
   "execution_count": 29,
   "metadata": {},
   "outputs": [
    {
     "data": {
      "text/plain": [
       "'holle'"
      ]
     },
     "execution_count": 29,
     "metadata": {},
     "output_type": "execute_result"
    }
   ],
   "source": [
    "s = \"hello\"\n",
    "\n",
    "solution.reverseVowels(s)"
   ]
  },
  {
   "cell_type": "code",
   "execution_count": 30,
   "metadata": {},
   "outputs": [
    {
     "data": {
      "text/plain": [
       "'leotcede'"
      ]
     },
     "execution_count": 30,
     "metadata": {},
     "output_type": "execute_result"
    }
   ],
   "source": [
    "s = \"leetcode\"\n",
    "\n",
    "solution.reverseVowels(s)"
   ]
  }
 ],
 "metadata": {
  "kernelspec": {
   "display_name": "Python 3",
   "language": "python",
   "name": "python3"
  },
  "language_info": {
   "codemirror_mode": {
    "name": "ipython",
    "version": 3
   },
   "file_extension": ".py",
   "mimetype": "text/x-python",
   "name": "python",
   "nbconvert_exporter": "python",
   "pygments_lexer": "ipython3",
   "version": "3.10.0"
  },
  "orig_nbformat": 4
 },
 "nbformat": 4,
 "nbformat_minor": 2
}
