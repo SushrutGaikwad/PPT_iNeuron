{
 "cells": [
  {
   "attachments": {},
   "cell_type": "markdown",
   "metadata": {},
   "source": [
    "[Notes with code](https://drive.google.com/file/d/1OKeR4xVp5XmttYAy8qGugtF69bYozrdy/view)\\\n",
    "[Annotated notes](https://drive.google.com/drive/folders/1kIZFQEeh3IxS0v3nVHZnsthYN_I6J8s0)"
   ]
  },
  {
   "attachments": {},
   "cell_type": "markdown",
   "metadata": {},
   "source": [
    "# Arrays (Continued)"
   ]
  },
  {
   "attachments": {},
   "cell_type": "markdown",
   "metadata": {},
   "source": [
    "**Question:** Given an array `nums` containing $n$ distinct numbers in the range $[0, n]$, return the only number in the range that is missing from the array.\n",
    "\n",
    "**Example:**\n",
    "\n",
    "Input: nums = `[3, 0, 1]`.\n",
    "\n",
    "Output: `2`.\n",
    "\n",
    "Explanation: $n=3$ since there are $3$ numbers in `nums`. So, all the numbers are in the range $[0, 3]$. We can see that $2$ is missing."
   ]
  },
  {
   "attachments": {},
   "cell_type": "markdown",
   "metadata": {},
   "source": [
    "**Solution:**\n",
    "\n",
    "The first approach is to first sort the array, and check if all the elements are present. The time complexity would be $\\mathcal{O}\\left( n \\log n \\right) + \\mathcal{O}\\left( n \\right)\\Rightarrow \\mathcal{O}\\left( n \\log n \\right)$.\n",
    "\n",
    "A better approach is to use a HashSet. We will put the input `nums` in a HashSet, and check if the HashSet contains elements in the range $[0, n]$. The algorithm is the following:\n",
    "1. Maintain a HashSet of elements.\n",
    "2. The number of elements possible is `n + 1`.\n",
    "3. Check if numbers from `0` to `n + 1` are present in the HashSet.\n",
    "4. If a number is not present, we will return it.\n",
    "\n",
    "The time complexity of this is $\\mathcal{O}\\left( n \\right)$, and the space complexity is also $\\mathcal{O}\\left( n \\right)$ (as we are maintaining a HashSet of size $n$). The following is the python implementation."
   ]
  },
  {
   "cell_type": "code",
   "execution_count": 1,
   "metadata": {},
   "outputs": [],
   "source": [
    "class Solution:\n",
    "    def missingNumber(self, nums):\n",
    "        numSet = set(nums)\n",
    " \n",
    "        expectedNumCount = len(nums) + 1\n",
    "        for number in range(expectedNumCount):\n",
    "            if number not in numSet:\n",
    "                return number\n",
    " \n",
    "        return -1\n",
    "\n",
    "solution = Solution()"
   ]
  },
  {
   "cell_type": "code",
   "execution_count": 2,
   "metadata": {},
   "outputs": [
    {
     "data": {
      "text/plain": [
       "2"
      ]
     },
     "execution_count": 2,
     "metadata": {},
     "output_type": "execute_result"
    }
   ],
   "source": [
    "nums = [3, 0, 1]\n",
    "solution.missingNumber(nums)"
   ]
  },
  {
   "cell_type": "code",
   "execution_count": 3,
   "metadata": {},
   "outputs": [
    {
     "data": {
      "text/plain": [
       "8"
      ]
     },
     "execution_count": 3,
     "metadata": {},
     "output_type": "execute_result"
    }
   ],
   "source": [
    "nums = [9, 6, 4, 2, 3, 5, 7, 0, 1]\n",
    "solution.missingNumber(nums)"
   ]
  },
  {
   "attachments": {},
   "cell_type": "markdown",
   "metadata": {},
   "source": [
    "**Question:** Given an array of `intervals` where `intervals[i] = [starti, endi]`, merge all overlapping intervals, and return an array of the non-overlapping intervals that cover all the intervals in the input.\n",
    "\n",
    "**Example:**\n",
    "\n",
    "Input: `intervals = [[1, 3], [2, 6], [8, 10], [15, 18]]`.\n",
    "\n",
    "Output: `[[1, 6], [8, 10], [15, 18]]`.\n",
    "\n",
    "Explanation: Since intervals `[1, 3]` and `[2, 6]` overlap, merge them into `[1, 6]`."
   ]
  },
  {
   "attachments": {},
   "cell_type": "markdown",
   "metadata": {},
   "source": [
    "**Solution:**\n",
    "\n",
    "Firstly, all the intervals should be sorted based on the their starting bound. After this, we will merge the intervals. So, the algorithm is the following:\n",
    "1. Sort the intervals based on the starting bound or the starting element.\n",
    "2. Insert the first interval in the answer.\n",
    "3. Continue inserting the intervals\n",
    "    * If the starting bound of this interval is $\\leq$ the ending bound of the last interval, we merge them, i.e., we update the ending bound of the previously inserted interval with the ending bound of this interval.\n",
    "    * If it is not the case, we simply keep inserting the intervals.\n",
    "\n",
    "The time complexity of this algorithm will be $\\mathcal{O}\\left( n \\log n \\right) + \\mathcal{O}\\left( n \\right)\\Rightarrow \\mathcal{O}\\left( n \\log n \\right)$, and the space complexity is $\\mathcal{O}\\left( \\log n \\right)$. The following is the python implementation."
   ]
  },
  {
   "cell_type": "code",
   "execution_count": 4,
   "metadata": {},
   "outputs": [],
   "source": [
    "class Solution:\n",
    "    def merge(self, intervals):\n",
    "        intervals.sort(key=lambda x: x[0])\n",
    "        merged = []\n",
    "        for interval in intervals:\n",
    "            if not merged or merged[-1][1] < interval[0]:\n",
    "                merged.append(interval)\n",
    "            else:\n",
    "                merged[-1][1] = max(merged[-1][1], interval[1])\n",
    "        return merged\n",
    "\n",
    "solution = Solution()"
   ]
  },
  {
   "cell_type": "code",
   "execution_count": 5,
   "metadata": {},
   "outputs": [
    {
     "data": {
      "text/plain": [
       "[[1, 6], [8, 10], [15, 18]]"
      ]
     },
     "execution_count": 5,
     "metadata": {},
     "output_type": "execute_result"
    }
   ],
   "source": [
    "intervals = [[1, 3], [2, 6], [8, 10], [15, 18]]\n",
    "solution.merge(intervals)"
   ]
  },
  {
   "attachments": {},
   "cell_type": "markdown",
   "metadata": {},
   "source": [
    "**Question:** You are given two integer arrays `nums1` and `nums2`, sorted in non-decreasing order, and two integers `m` and `n`, representing the number of elements in `nums1` and `nums2` respectively. Merge `nums1` and `nums2` into a single array sorted in non-decreasing order. The final sorted array should not be returned by the function, but instead be stored inside the array `nums1`. To accommodate this, `nums1` has a length of `m + n`, where the first `m` elements denote the elements that should be merged, and the last `n` elements are set to `0` and should be ignored. `nums2` has a length of `n`.\n",
    "\n",
    "**Example:**\n",
    "\n",
    "Input: `nums1 = [1, 2, 3, 0, 0, 0]`, `m = 3`, `nums2 = [2,5,6]`, `n = 3`.\n",
    "\n",
    "Output: `[1, 2, 2, 3, 5, 6]`.\n",
    "\n",
    "Explanation: The arrays we are merging are `[1, 2, 3]` and `[2, 5, 6]`. The result of the merge is `[*1*, *2*, 2, *3*, 5, 6]` with the asterisk elements coming from `nums1`."
   ]
  },
  {
   "attachments": {},
   "cell_type": "markdown",
   "metadata": {},
   "source": [
    "**Solution:**\n",
    "\n",
    "First, we will create a new array from `nums1`, which will be `new = [1, 2, 3]`. Then, we will use two-pointer approach with the first pointer `p1` at the first element of `new` and `p2` at the first element of `nums2`. We will compare these elements on both the pointers to see which one is greater and which is smaller. If the element at `p1` is less than element at `p2`, we will keep this element in the answer, and increment `p1`. Again, we will compare. In this case, both will be equal. So, we will store the element, and increment any one pointer. Say, we increment `p1`. So, `p1` now is `3`, and `p2` is still at `2`. Here, we will update the answer with the value at `p2`, and increment `p2`. We keep on doing this till the end. Also, once a pointer gets out of an array, we will simply finish the answer with the elements in the other array.\n",
    "\n",
    "So, the algorithm is the following:\n",
    "1. Initialize a new array called `nums1copy` containing the first `n` elements of `nums1`.\n",
    "2. Initialize pointer `p1` to the first element of `nums1copy` and pointer `p2` to the first element of `nums2`.\n",
    "    - If `nums1copy[p1]` exists and is `<=` `nums2[p2]`, we will write `nums1copy[p1]` into `nums1` and increment `p1`.\n",
    "    - Else, write `nums2[p2]` in `nums1` and increment `p2`.\n",
    "\n",
    "The time complexity of this algorithm is $\\mathcal{O}\\left( m+n \\right)$, and the space complexity is $\\mathcal{O}\\left( m \\right)$. The following is the python implementation."
   ]
  },
  {
   "cell_type": "code",
   "execution_count": 6,
   "metadata": {},
   "outputs": [],
   "source": [
    "class Solution:\n",
    "    def merge(self, nums1, m, nums2, n):\n",
    "        nums1Copy = nums1[:m]\n",
    "        p1, p2 = 0, 0\n",
    "        p = 0\n",
    " \n",
    "        while p < m + n:\n",
    "            if p2 >= n or (p1 < m and nums1Copy[p1] < nums2[p2]):\n",
    "                nums1[p] = nums1Copy[p1]\n",
    "                p1 += 1\n",
    "            else:\n",
    "                nums1[p] = nums2[p2]\n",
    "                p2 += 1\n",
    "            p += 1\n",
    "        return nums1\n",
    "\n",
    "solution = Solution()"
   ]
  },
  {
   "cell_type": "code",
   "execution_count": 7,
   "metadata": {},
   "outputs": [
    {
     "data": {
      "text/plain": [
       "[1, 2, 2, 3, 5, 6]"
      ]
     },
     "execution_count": 7,
     "metadata": {},
     "output_type": "execute_result"
    }
   ],
   "source": [
    "nums1 = [1, 2, 3, 0, 0, 0]\n",
    "m = 3\n",
    "nums2 = [2, 5, 6]\n",
    "n = 3\n",
    "\n",
    "solution.merge(nums1, m, nums2, n)"
   ]
  },
  {
   "attachments": {},
   "cell_type": "markdown",
   "metadata": {},
   "source": [
    "**Question:** Given an array `nums` of size $n$, return the majority element. The majority element is the element that appears more than $\\left\\lfloor \\dfrac{n}{2} \\right\\rfloor$ times. You may assume that the majority element always exists in the array.\n",
    "\n",
    "**Example:**\n",
    "\n",
    "Input: `nums = [3, 2, 3]`.\n",
    "\n",
    "Output: `3`."
   ]
  },
  {
   "attachments": {},
   "cell_type": "markdown",
   "metadata": {},
   "source": [
    "**Solution:**\n",
    "\n",
    "The brute force approach will be to find out the number of times all elements appear, and then compare. This will have a time complexity of $\\mathcal{O}\\left( n^2 \\right)$.\n",
    "\n",
    "A better approach will be to first sort the array, which will give a time complexity of $\\mathcal{O}\\left(n \\log n\\right)$.\n",
    "\n",
    "An even better approach is to use a HashMap, which stores a number and its frequency. The time complexity will be $\\mathcal{O}\\left( n \\right)$, and a space complexity of $\\mathcal{O}\\left( n \\right)$. The algorithm is the following:\n",
    "1. We can use a hashmap to store elements and their count (or frequency).\n",
    "2. Return the element with frequency $>\\left\\lfloor \\frac{n}{2} \\right\\rfloor$"
   ]
  },
  {
   "cell_type": "code",
   "execution_count": 8,
   "metadata": {},
   "outputs": [],
   "source": [
    "class Solution:\n",
    "    def majority_element(self, nums: list):\n",
    "        n = len(nums)\n",
    "        dic = dict()\n",
    "        result = 0\n",
    "        for i in range(len(nums)):\n",
    "            if nums[i] in dic.keys():\n",
    "                dic[nums[i]] += 1\n",
    "            else:\n",
    "                dic[nums[i]] = 1\n",
    "            if dic[nums[i]] > n // 2:\n",
    "                result = nums[i]\n",
    "                break\n",
    "        return result\n",
    "\n",
    "solution = Solution()"
   ]
  },
  {
   "cell_type": "code",
   "execution_count": 9,
   "metadata": {},
   "outputs": [
    {
     "data": {
      "text/plain": [
       "3"
      ]
     },
     "execution_count": 9,
     "metadata": {},
     "output_type": "execute_result"
    }
   ],
   "source": [
    "nums = [3, 2, 3]\n",
    "solution.majority_element(nums)"
   ]
  },
  {
   "attachments": {},
   "cell_type": "markdown",
   "metadata": {},
   "source": [
    "**Question:** Given an array of integers `nums` containing $n+1$ integers where each integer is in the range $[1, n]$ inclusive. There is only one repeated number in `nums`, return this repeated number. You must solve the problem without modifying the array nums and uses only constant extra space.\n",
    "\n",
    "**Example:**\n",
    "\n",
    "Input: `nums = [1, 3, 4, 2, 2]`.\n",
    "\n",
    "Output: `2`."
   ]
  },
  {
   "attachments": {},
   "cell_type": "markdown",
   "metadata": {},
   "source": [
    "**Solution:**\n",
    "\n",
    "A brute force approach will involve two for loops, giving a time complexity of $\\mathcal{O}\\left( n^2 \\right)$.\n",
    "\n",
    "For a better approach, we can again use a hashmap."
   ]
  },
  {
   "cell_type": "code",
   "execution_count": 10,
   "metadata": {},
   "outputs": [],
   "source": [
    "class Solution:\n",
    "    def repeated_number(self, nums: list):\n",
    "        n = len(nums)\n",
    "        dic = dict()\n",
    "        result = 0\n",
    "        for i in range(len(nums)):\n",
    "            if nums[i] in dic.keys():\n",
    "                dic[nums[i]] += 1\n",
    "            else:\n",
    "                dic[nums[i]] = 1\n",
    "            if dic[nums[i]] > 1:\n",
    "                result = nums[i]\n",
    "                break\n",
    "        return result\n",
    "\n",
    "solution = Solution()"
   ]
  },
  {
   "cell_type": "code",
   "execution_count": 11,
   "metadata": {},
   "outputs": [
    {
     "data": {
      "text/plain": [
       "2"
      ]
     },
     "execution_count": 11,
     "metadata": {},
     "output_type": "execute_result"
    }
   ],
   "source": [
    "nums = [1, 3, 4, 2, 2]\n",
    "solution.repeated_number(nums)"
   ]
  },
  {
   "cell_type": "code",
   "execution_count": 12,
   "metadata": {},
   "outputs": [
    {
     "data": {
      "text/plain": [
       "4"
      ]
     },
     "execution_count": 12,
     "metadata": {},
     "output_type": "execute_result"
    }
   ],
   "source": [
    "nums = [1, 3, 4, 2, 5, 6, 7, 4]\n",
    "solution.repeated_number(nums)"
   ]
  },
  {
   "attachments": {},
   "cell_type": "markdown",
   "metadata": {},
   "source": [
    "A similarly good approach is to use a set."
   ]
  },
  {
   "cell_type": "code",
   "execution_count": 13,
   "metadata": {},
   "outputs": [],
   "source": [
    "class Solution:\n",
    "    def findDuplicate(self, nums):\n",
    "        seen = set()\n",
    "        for num in nums:\n",
    "            if num in seen:\n",
    "                return num\n",
    "            seen.add(num)\n",
    "        return -1\n",
    "\n",
    "solution = Solution()"
   ]
  },
  {
   "cell_type": "code",
   "execution_count": 14,
   "metadata": {},
   "outputs": [
    {
     "data": {
      "text/plain": [
       "2"
      ]
     },
     "execution_count": 14,
     "metadata": {},
     "output_type": "execute_result"
    }
   ],
   "source": [
    "nums = [1, 3, 4, 2, 2]\n",
    "solution.findDuplicate(nums)"
   ]
  },
  {
   "attachments": {},
   "cell_type": "markdown",
   "metadata": {},
   "source": [
    "**Question:** There are many situations where we use integer values as index in array to see presence or absence. We can use bit manipulations to optimize space in such problems. Let us consider the following problem as an example.\n",
    "\n",
    "Given two numbers, say `a` and `b`, mark the multiples of `2` and `5` between `a` and `b` and output each of the multiples.\n",
    "\n",
    "*Note*: We have to mark the multiples i.e., save (key, value) pairs in memory such that each key either has a value as `1` or `0` representing a multiple of `2` or `5` or not respectively.\n",
    "\n",
    "**Examples:**\n",
    "\n",
    "Input: `a=  2`, `b = 10`.\\\n",
    "Output: `2 4 5 6 8 10`.\n",
    "\n",
    "Input: `a = 60`, `b = 95`.\\\n",
    "Output: `60 62 64 65 66 68 70 72 74 75 76 78 80 82 84 85 86 88 90 92 94 95`."
   ]
  },
  {
   "attachments": {},
   "cell_type": "markdown",
   "metadata": {},
   "source": [
    "**Solution:**\n",
    "\n",
    "1. First create an array of zeros of length `b - a + 1`.\n",
    "2. For each number between and including `a` and `b`, check if it is divisible by either `2` or `5`. If it is, then mark that element in the array as `1`.\n",
    "3. Return the number for which the value in the array is `1`.\n",
    "\n",
    "The time complexity is $\\mathcal{O}\\left( b-a \\right)$."
   ]
  },
  {
   "cell_type": "code",
   "execution_count": 15,
   "metadata": {},
   "outputs": [],
   "source": [
    "def multiples_of_2_or_5(a, b):\n",
    "    size = b - a + 1\n",
    "    array = [0] * size\n",
    "    for i in range(a, b + 1):\n",
    "        if i % 2 == 0 or i % 5 == 0:\n",
    "            array[i - a] = 1\n",
    "\n",
    "    for i in range(a, b + 1):\n",
    "            if array[i - a] == 1:\n",
    "                print(i, end=' ')"
   ]
  },
  {
   "cell_type": "code",
   "execution_count": 16,
   "metadata": {},
   "outputs": [
    {
     "name": "stdout",
     "output_type": "stream",
     "text": [
      "2 4 5 6 8 10 "
     ]
    }
   ],
   "source": [
    "a = 2\n",
    "b = 10\n",
    "\n",
    "multiples_of_2_or_5(a, b)"
   ]
  },
  {
   "cell_type": "code",
   "execution_count": 17,
   "metadata": {},
   "outputs": [
    {
     "name": "stdout",
     "output_type": "stream",
     "text": [
      "60 62 64 65 66 68 70 72 74 75 76 78 80 82 84 85 86 88 90 92 94 95 "
     ]
    }
   ],
   "source": [
    "a = 60\n",
    "b = 95\n",
    "\n",
    "multiples_of_2_or_5(a, b)"
   ]
  },
  {
   "attachments": {},
   "cell_type": "markdown",
   "metadata": {},
   "source": [
    "**Question:** Given an array of positive integers. We need to make the given array a 'Palindrome'. The only allowed operation is *merging* (of two adjacent elements). Merging two adjacent elements means replacing them with their sum. The task is to find the minimum number of merge operations required to make the given array a palindrome.\n",
    "\n",
    "To make any array a palindrome, we can simply apply merge operation `n - 1` times where `n` is the size of the array (because a single-element array is always palindromic, similar to a single-character string). In that case, the size of array will be reduced to `1`. But in this problem, we are asked to do it in the minimum number of operations.\n",
    "\n",
    "**Examples:**\n",
    "\n",
    "Input: `arr[] = {15, 4, 15}`.\n",
    "Output: `0`.\n",
    "\n",
    "Array is already a palindrome. So we do not need any merge operation.\n",
    "\n",
    "Input: `arr[] = {1, 4, 5, 1}`.\n",
    "Output: `1`.\n",
    "\n",
    "We can make given array palindrome with minimum one merging (merging `4` and `5` to make `9`).\n",
    "\n",
    "Input: `arr[] = {11, 14, 15, 99}`.\n",
    "Output: `3`.\n",
    "\n",
    "We need to merge all elements to make a palindrome."
   ]
  },
  {
   "attachments": {},
   "cell_type": "markdown",
   "metadata": {},
   "source": [
    "**Solution:**\n",
    "\n",
    "To check if an array is a palindrome, we will use the 2-pointer approach. The left pointer points at the first element of the array, and the right pointer points at the last element. If the elements on both these pointers are the same, we increment the left pointer by one and decrease the right pointer by one, and do the same. If the elements on both the pointers are not the same, we will see which element is larger. If element at the right pointer is higher, we will sum the element on the left pointer with its right adjacent (if left pointer would have been higher, we would have added the element on the right pointer and its left adjacent). If after this addition the elements on both the pointers are the same, we will keep going further. If even after this addition the elements are not the same, we will again sum adjacents just like we did above.\n",
    "\n",
    "We can see that for any array, the maximum possible operations to convert it to a palindrome is `n - 1`. The following is the algorithm.\n",
    "1. Let `f(i, j)` be the minimum number of operations to make the subarray `[i, ..., j]` a palindrome.\n",
    "2. We start from `i = 0` and `j = n - 1`.\n",
    "    - If `arr[i] == arr[j]`, we do not need to do any operations.\n",
    "    - If `arr[i] > arr[j]`, we wil merge elements at `j - 1` and `j`, i.e., `arr[j - 1] = arr[j - 1] + arr[j]`, and `ans = 1 + f(i, j-1)`.\n",
    "    - If `arr[i] < arr[j]`, `arr[i + 1] = arr[i + 1] + arr[i]`, and `ans = 1 + f(i+1 , j)`.\n",
    "3. Return `f(0, n-1)`.\n",
    "\n",
    "The time complexity is $\\mathcal{O}\\left( n \\right)$, and space complexity is $\\mathcal{O}\\left( 1 \\right)$."
   ]
  },
  {
   "cell_type": "code",
   "execution_count": 18,
   "metadata": {},
   "outputs": [
    {
     "name": "stdout",
     "output_type": "stream",
     "text": [
      "Count of minimum operations is 1\n"
     ]
    }
   ],
   "source": [
    "def findMinOps(arr, n):\n",
    "    ans = 0  # Initialize result\n",
    " \n",
    "    # Start from two corners\n",
    "    i, j = 0, n - 1\n",
    "    while i <= j:\n",
    "        # If corner elements are the same,\n",
    "        # problem reduces arr[i+1..j-1]\n",
    "        if arr[i] == arr[j]:\n",
    "            i += 1\n",
    "            j -= 1\n",
    "        # If the left element is greater, then\n",
    "        # we merge the right two elements\n",
    "        elif arr[i] > arr[j]:\n",
    "            # Need to merge from the tail.\n",
    "            j -= 1\n",
    "            arr[j] += arr[j + 1]\n",
    "            ans += 1\n",
    "        # Else we merge the left two elements\n",
    "        else:\n",
    "            i += 1\n",
    "            arr[i] += arr[i - 1]\n",
    "            ans += 1\n",
    " \n",
    "    return ans\n",
    " \n",
    "# Driver method to test the above function\n",
    "arr = [1, 4, 5, 9, 1]\n",
    "print(\"Count of minimum operations is\", findMinOps(arr, len(arr)))"
   ]
  }
 ],
 "metadata": {
  "kernelspec": {
   "display_name": "Python 3",
   "language": "python",
   "name": "python3"
  },
  "language_info": {
   "codemirror_mode": {
    "name": "ipython",
    "version": 3
   },
   "file_extension": ".py",
   "mimetype": "text/x-python",
   "name": "python",
   "nbconvert_exporter": "python",
   "pygments_lexer": "ipython3",
   "version": "3.10.0"
  },
  "orig_nbformat": 4
 },
 "nbformat": 4,
 "nbformat_minor": 2
}
