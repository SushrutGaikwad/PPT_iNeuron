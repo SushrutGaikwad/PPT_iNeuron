{
 "cells": [
  {
   "attachments": {},
   "cell_type": "markdown",
   "metadata": {},
   "source": [
    "[Notes with code](https://drive.google.com/file/d/1OKeR4xVp5XmttYAy8qGugtF69bYozrdy/view)\\\n",
    "[Annotated notes](https://drive.google.com/drive/folders/1kIZFQEeh3IxS0v3nVHZnsthYN_I6J8s0)"
   ]
  },
  {
   "attachments": {},
   "cell_type": "markdown",
   "metadata": {},
   "source": [
    "# Arrays (Continued)"
   ]
  },
  {
   "attachments": {},
   "cell_type": "markdown",
   "metadata": {},
   "source": [
    "**Question:** Given an array `nums` containing $n$ distinct numbers in the range $[0, n]$, return the only number in the range that is missing from the array.\n",
    "\n",
    "**Example:**\n",
    "\n",
    "Input: nums = `[3, 0, 1]`.\n",
    "\n",
    "Output: `2`.\n",
    "\n",
    "Explanation: $n=3$ since there are $3$ numbers in `nums`. So, all the numbers are in the range $[0, 3]$. We can see that $2$ is missing."
   ]
  },
  {
   "attachments": {},
   "cell_type": "markdown",
   "metadata": {},
   "source": [
    "**Solution:**\n",
    "\n",
    "The first approach is to first sort the array, and check if all the elements are present. The time complexity would be $\\mathcal{O}\\left( n \\log n \\right) + \\mathcal{O}\\left( n \\right)\\Rightarrow \\mathcal{O}\\left( n \\log n \\right)$.\n",
    "\n",
    "A better approach is to use a HashSet. We will put the input `nums` in a HashSet, and check if the HashSet contains elements in the range $[0, n]$. The algorithm is the following:\n",
    "1. Maintain a HashSet of elements.\n",
    "2. The number of elements possible is `n + 1`.\n",
    "3. Check if numbers from `0` to `n + 1` are present in the HashSet.\n",
    "4. If a number is not present, we will return it.\n",
    "\n",
    "The time complexity of this is $\\mathcal{O}\\left( n \\right)$, and the space complexity is also $\\mathcal{O}\\left( n \\right)$ (as we are maintaining a HashSet of size $n$). The following is the python implementation."
   ]
  },
  {
   "cell_type": "code",
   "execution_count": 1,
   "metadata": {},
   "outputs": [
    {
     "data": {
      "text/plain": [
       "2"
      ]
     },
     "execution_count": 1,
     "metadata": {},
     "output_type": "execute_result"
    }
   ],
   "source": [
    "class Solution:\n",
    "    def missingNumber(self, nums):\n",
    "        numSet = set(nums)\n",
    " \n",
    "        expectedNumCount = len(nums) + 1\n",
    "        for number in range(expectedNumCount):\n",
    "            if number not in numSet:\n",
    "                return number\n",
    " \n",
    "        return -1\n",
    "\n",
    "solution = Solution()"
   ]
  },
  {
   "cell_type": "code",
   "execution_count": 3,
   "metadata": {},
   "outputs": [
    {
     "data": {
      "text/plain": [
       "2"
      ]
     },
     "execution_count": 3,
     "metadata": {},
     "output_type": "execute_result"
    }
   ],
   "source": [
    "nums = [3, 0, 1]\n",
    "solution.missingNumber(nums)"
   ]
  },
  {
   "cell_type": "code",
   "execution_count": 2,
   "metadata": {},
   "outputs": [
    {
     "data": {
      "text/plain": [
       "8"
      ]
     },
     "execution_count": 2,
     "metadata": {},
     "output_type": "execute_result"
    }
   ],
   "source": [
    "nums = [9, 6, 4, 2, 3, 5, 7, 0, 1]\n",
    "solution.missingNumber(nums)"
   ]
  },
  {
   "attachments": {},
   "cell_type": "markdown",
   "metadata": {},
   "source": [
    "**Question:** Given an array of `intervals` where `intervals[i] = [starti, endi]`, merge all overlapping intervals, and return an array of the non-overlapping intervals that cover all the intervals in the input.\n",
    "\n",
    "**Example:**\n",
    "\n",
    "Input: `intervals = [[1, 3], [2, 6], [8, 10], [15, 18]]`.\n",
    "\n",
    "Output: `[[1, 6], [8, 10], [15, 18]]`.\n",
    "\n",
    "Explanation: Since intervals `[1, 3]` and `[2, 6]` overlap, merge them into `[1, 6]`."
   ]
  },
  {
   "attachments": {},
   "cell_type": "markdown",
   "metadata": {},
   "source": [
    "**Solution:**\n",
    "\n",
    "Firstly, all the intervals should be sorted based on the their starting bound. After this, we will merge the intervals. So, the algorithm is the following:\n",
    "1. Sort the intervals based on the starting bound or the starting element.\n",
    "2. Insert the first interval in the answer.\n",
    "3. Continue inserting the intervals\n",
    "    * If the starting bound of this interval is $\\leq$ the ending bound of the last interval, we merge them, i.e., we update the ending bound of the previously inserted interval with the ending bound of this interval.\n",
    "    * If it is not the case, we simply keep inserting the intervals.\n",
    "\n",
    "The time complexity of this algorithm will be $\\mathcal{O}\\left( n \\log n \\right) + \\mathcal{O}\\left( n \\right)\\Rightarrow \\mathcal{O}\\left( n \\log n \\right)$, and the space complexity is $\\mathcal{O}\\left( \\log n \\right)$. The following is the python implementation."
   ]
  },
  {
   "cell_type": "code",
   "execution_count": 4,
   "metadata": {},
   "outputs": [],
   "source": [
    "class Solution:\n",
    "    def merge(self, intervals):\n",
    "        intervals.sort(key=lambda x: x[0])\n",
    "        merged = []\n",
    "        for interval in intervals:\n",
    "            if not merged or merged[-1][1] < interval[0]:\n",
    "                merged.append(interval)\n",
    "            else:\n",
    "                merged[-1][1] = max(merged[-1][1], interval[1])\n",
    "        return merged\n",
    "\n",
    "solution = Solution()"
   ]
  },
  {
   "cell_type": "code",
   "execution_count": 5,
   "metadata": {},
   "outputs": [
    {
     "data": {
      "text/plain": [
       "[[1, 6], [8, 10], [15, 18]]"
      ]
     },
     "execution_count": 5,
     "metadata": {},
     "output_type": "execute_result"
    }
   ],
   "source": [
    "intervals = [[1, 3], [2, 6], [8, 10], [15, 18]]\n",
    "solution.merge(intervals)"
   ]
  },
  {
   "attachments": {},
   "cell_type": "markdown",
   "metadata": {},
   "source": [
    "**Question:** You are given two integer arrays `nums1` and `nums2`, sorted in non-decreasing order, and two integers `m` and `n`, representing the number of elements in `nums1` and `nums2` respectively. Merge `nums1` and `nums2` into a single array sorted in non-decreasing order. The final sorted array should not be returned by the function, but instead be stored inside the array `nums1`. To accommodate this, `nums1` has a length of `m + n`, where the first `m` elements denote the elements that should be merged, and the last `n` elements are set to `0` and should be ignored. `nums2` has a length of `n`.\n",
    "\n",
    "**Example:**\n",
    "\n",
    "Input: `nums1 = [1, 2, 3, 0, 0, 0]`, `m = 3`, `nums2 = [2,5,6]`, `n = 3`.\n",
    "\n",
    "Output: `[1, 2, 2, 3, 5, 6]`.\n",
    "\n",
    "Explanation: The arrays we are merging are `[1, 2, 3]` and `[2, 5, 6]`. The result of the merge is `[*1*, *2*, 2, *3*, 5, 6]` with the asterisk elements coming from `nums1`."
   ]
  },
  {
   "attachments": {},
   "cell_type": "markdown",
   "metadata": {},
   "source": [
    "**Solution:**\n",
    "\n",
    "First, we will create a new array from `nums1`, which will be `new = [1, 2, 3]`. Then, we will use two-pointer approach with the first pointer `p1` at the first element of `new` and `p2` at the first element of `nums2`. We will compare these elements on both the pointers to see which one is greater and which is smaller. If the element at `p1` is less than element at `p2`, we will keep this element in the answer, and increment `p1`. Again, we will compare. In this case, both will be equal. So, we will store the element, and increment any one pointer. Say, we increment `p1`. So, `p1` now is `3`, and `p2` is still at `2`. Here, we will update the answer with the value at `p2`, and increment `p2`. We keep on doing this till the end. Also, once a pointer gets out of an array, we will simply finish the answer with the elements in the other array.\n",
    "\n",
    "So, the algorithm is the following:\n",
    "1. Initialize a new array called `nums1copy` containing the first `n` elements of `nums1`.\n",
    "2. Initialize pointer `p1` to the first element of `nums1copy` and pointer `p2` to the first element of `nums2`.\n",
    "    - If `nums1copy[p1]` exists and is `<=` `nums2[p2]`, we will write `nums1copy[p1]` into `nums1` and increment `p1`.\n",
    "    - Else, write `nums2[p2]` in `nums1` and increment `p2`.\n",
    "\n",
    "The time complexity of this algorithm is $\\mathcal{O}\\left( m+n \\right)$, and the space complexity is $\\mathcal{O}\\left( m \\right)$."
   ]
  },
  {
   "attachments": {},
   "cell_type": "markdown",
   "metadata": {},
   "source": []
  }
 ],
 "metadata": {
  "kernelspec": {
   "display_name": "Python 3",
   "language": "python",
   "name": "python3"
  },
  "language_info": {
   "codemirror_mode": {
    "name": "ipython",
    "version": 3
   },
   "file_extension": ".py",
   "mimetype": "text/x-python",
   "name": "python",
   "nbconvert_exporter": "python",
   "pygments_lexer": "ipython3",
   "version": "3.10.0"
  },
  "orig_nbformat": 4
 },
 "nbformat": 4,
 "nbformat_minor": 2
}
