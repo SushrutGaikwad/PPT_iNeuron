{
 "cells": [
  {
   "attachments": {},
   "cell_type": "markdown",
   "metadata": {},
   "source": [
    "[Annotated notes](https://file.notion.so/f/s/963f911d-4424-408e-a679-bf3e7f141454/Annotated_Notes_5.pdf?id=26940d66-7770-4118-9c78-15162f4527ab&table=block&spaceId=6fae2e0f-dedc-48e9-bc59-af2654c78209&expirationTimestamp=1685591298615&signature=dTnyKf7lXWJf8_timCFEP-EZjHOZS0wBJ-7IrBViCU4&downloadName=Annotated+Notes+5.pdf)"
   ]
  },
  {
   "attachments": {},
   "cell_type": "markdown",
   "metadata": {},
   "source": [
    "# 2D Arrays (Continued)"
   ]
  },
  {
   "attachments": {},
   "cell_type": "markdown",
   "metadata": {},
   "source": [
    "**Question:** Given an `m × n` matrix, return `True` if the matrix is Toeplitz. Otherwise, return `False`. A matrix is Toeplitz if every diagonal from top-left to bottom-right has the same elements.\n",
    "\n",
    "Example:\n",
    "$$\\begin{bmatrix}\n",
    "1 & 2 & 3 & 4 \\\\\n",
    "5 & 1 & 2 & 3 \\\\\n",
    "9 & 5 & 1 & 2\n",
    "\\end{bmatrix}$$\n",
    "\n",
    "Input: `matrix = [[1, 2, 3, 4], [5, 1, 2, 3], [9, 5, 1, 2]]`.\n",
    "\n",
    "Output: `True`.\n",
    "\n",
    "Explanation: In the above matrix, the diagonals are `[9]`, `[5, 5]`, `[1, 1, 1]`, `[2, 2, 2]`, `[3, 3]`, `[4]`. In each diagonal, all elements are the same, so the answer is `True`."
   ]
  },
  {
   "attachments": {},
   "cell_type": "markdown",
   "metadata": {},
   "source": [
    "**Solution:**\n",
    "\n",
    "We have\n",
    "$$\\begin{bmatrix}\n",
    "1 & 2 & 3 & 4 \\\\\n",
    "5 & 1 & 2 & 3 \\\\\n",
    "9 & 5 & 1 & 2\n",
    "\\end{bmatrix}$$\n",
    "\n",
    "To make it clearer, let us also see a matrix of `ij` values, as follows.\n",
    "\n",
    "$$\\begin{bmatrix}\n",
    "00 & 01 & 02 & 03 \\\\\n",
    "10 & 11 & 12 & 13 \\\\\n",
    "20 & 21 & 22 & 23\n",
    "\\end{bmatrix}$$\n",
    "\n",
    "We can see that for a particular diagonal, the difference `i - j` is constant.\n",
    "\n",
    "As a first approach, we can create a hashmap with keys as this `i - j` difference, and the value as the value of the element at this difference. So, the algorithm is\n",
    "1. Maintain a hashmap of the difference `i - j` and the corresponding value of the element.\n",
    "2. Keep on comparing the value of elements having the same difference `i - j`.\n",
    "3. If the difference is not equal, we return `False`, else we return `True`.\n",
    "\n",
    "The time complexity for this will be $\\mathcal{O}\\left( mn \\right)$, and the space complexity is also $\\mathcal{O}\\left( m+n \\right)$."
   ]
  },
  {
   "cell_type": "code",
   "execution_count": 1,
   "metadata": {},
   "outputs": [],
   "source": [
    "# My solution for the first approach\n",
    "def toeplitz_matrix_1(matrix: list):\n",
    "    n_rows = len(matrix)\n",
    "    n_cols = len(matrix[0])\n",
    "    \n",
    "    d = dict()\n",
    "    \n",
    "    for r in range(n_rows):\n",
    "        for c in range(n_cols):\n",
    "            if r - c in d.keys():\n",
    "                if d[r - c] != matrix[r][c]:\n",
    "                    return False\n",
    "                else:\n",
    "                    continue\n",
    "            else:\n",
    "                d[r - c] = matrix[r][c]\n",
    "    return True"
   ]
  },
  {
   "cell_type": "code",
   "execution_count": 2,
   "metadata": {},
   "outputs": [
    {
     "data": {
      "text/plain": [
       "False"
      ]
     },
     "execution_count": 2,
     "metadata": {},
     "output_type": "execute_result"
    }
   ],
   "source": [
    "matrix = [\n",
    "    [1, 2, 3, 4],\n",
    "    [5, 1, 2, 3],\n",
    "    [9, 4, 1, 2]\n",
    "]\n",
    "\n",
    "toeplitz_matrix_1(matrix)"
   ]
  },
  {
   "cell_type": "code",
   "execution_count": 3,
   "metadata": {},
   "outputs": [
    {
     "data": {
      "text/plain": [
       "True"
      ]
     },
     "execution_count": 3,
     "metadata": {},
     "output_type": "execute_result"
    }
   ],
   "source": [
    "matrix = [\n",
    "    [1, 2, 3, 4],\n",
    "    [5, 1, 2, 3],\n",
    "    [9, 5, 1, 2]\n",
    "]\n",
    "\n",
    "toeplitz_matrix_1(matrix)"
   ]
  },
  {
   "cell_type": "code",
   "execution_count": 4,
   "metadata": {},
   "outputs": [
    {
     "data": {
      "text/plain": [
       "True"
      ]
     },
     "execution_count": 4,
     "metadata": {},
     "output_type": "execute_result"
    }
   ],
   "source": [
    "matrix = [\n",
    "    [1, 2, 3, 4, 5],\n",
    "    [5, 1, 2, 3, 4],\n",
    "    [9, 5, 1, 2, 3]\n",
    "]\n",
    "\n",
    "toeplitz_matrix_1(matrix)"
   ]
  },
  {
   "cell_type": "code",
   "execution_count": 5,
   "metadata": {},
   "outputs": [
    {
     "data": {
      "text/plain": [
       "False"
      ]
     },
     "execution_count": 5,
     "metadata": {},
     "output_type": "execute_result"
    }
   ],
   "source": [
    "matrix = [\n",
    "    [1, 2, 3, 4, 5],\n",
    "    [5, 1, 2, 1, 4],\n",
    "    [9, 5, 1, 2, 3]\n",
    "]\n",
    "\n",
    "toeplitz_matrix_1(matrix)"
   ]
  },
  {
   "attachments": {},
   "cell_type": "markdown",
   "metadata": {},
   "source": [
    "Now, can there be an approach where we won't need the extra space, decreasing the space complexity? When we are going through the matrix, we can directly compare the elements. So, the algorithm for this is\n",
    "1. For every element that belongs to a diagonal, compare it with the previous element on the same diagonal (if it exists) on the same diagonal.\n",
    "2. If the element is not the same as the previous one, return `False`, else return `True`.\n",
    "\n",
    "The time complexity for this is the same as the previous approach, i.e., $\\mathcal{O}\\left( mn \\right)$, however, the space complexity has improved to $\\mathcal{O}\\left( 1 \\right)$ as we are not using any extra space."
   ]
  },
  {
   "cell_type": "code",
   "execution_count": 6,
   "metadata": {},
   "outputs": [],
   "source": [
    "# My solution\n",
    "def toeplitz_matrix_2(matrix: list):\n",
    "    n_rows = len(matrix)\n",
    "    n_cols = len(matrix[0])\n",
    "    for i in range(n_rows):\n",
    "        for j in range(n_cols):\n",
    "            if i >= 1 and j >= 1:\n",
    "                if matrix[i][j] != matrix[i-1][j-1]:\n",
    "                    return False\n",
    "    return True"
   ]
  },
  {
   "cell_type": "code",
   "execution_count": 7,
   "metadata": {},
   "outputs": [
    {
     "data": {
      "text/plain": [
       "True"
      ]
     },
     "execution_count": 7,
     "metadata": {},
     "output_type": "execute_result"
    }
   ],
   "source": [
    "matrix = [\n",
    "    [1, 2, 3, 4],\n",
    "    [5, 1, 2, 3],\n",
    "    [9, 5, 1, 2]\n",
    "]\n",
    "\n",
    "toeplitz_matrix_2(matrix)"
   ]
  },
  {
   "cell_type": "code",
   "execution_count": 8,
   "metadata": {},
   "outputs": [
    {
     "data": {
      "text/plain": [
       "False"
      ]
     },
     "execution_count": 8,
     "metadata": {},
     "output_type": "execute_result"
    }
   ],
   "source": [
    "matrix = [\n",
    "    [1, 2, 3, 4],\n",
    "    [5, 1, 1, 3],\n",
    "    [9, 5, 1, 2]\n",
    "]\n",
    "\n",
    "toeplitz_matrix_2(matrix)"
   ]
  },
  {
   "attachments": {},
   "cell_type": "markdown",
   "metadata": {},
   "source": [
    "**Question:** Given a 2D integer array `matrix`, return its transpose.\n",
    "\n",
    "**Example:**\n",
    "$$\\begin{bmatrix}\n",
    "1 & 2 & 3 \\\\\n",
    "4 & 5 & 6 \\\\\n",
    "7 & 8 & 9\n",
    "\\end{bmatrix}^{\\intercal} = \\begin{bmatrix}\n",
    "1 & 4 & 7 \\\\\n",
    "2 & 5 & 8 \\\\\n",
    "3 & 6 & 9\n",
    "\\end{bmatrix}$$ \n",
    "\n",
    "Input: `matrix = [[1, 2, 3], [4, 5, 6], [7, 8, 9]]`\n",
    "\n",
    "Output: `[[1, 4, 7], [2, 5, 8], [3, 6, 9]]`"
   ]
  },
  {
   "attachments": {},
   "cell_type": "markdown",
   "metadata": {},
   "source": [
    "**Answer:**"
   ]
  },
  {
   "cell_type": "code",
   "execution_count": 9,
   "metadata": {},
   "outputs": [],
   "source": [
    "# My solution\n",
    "def transpose(matrix: list):\n",
    "    \n",
    "    no_of_rows = len(matrix)\n",
    "    no_of_columns = len(matrix[0])\n",
    "\n",
    "    transpose = []\n",
    "\n",
    "    i = 0\n",
    "    while i < no_of_columns:\n",
    "        row_of_transpose = []\n",
    "        for row in matrix:\n",
    "            row_of_transpose.append(row[i])\n",
    "        transpose.append(row_of_transpose)\n",
    "        i += 1\n",
    "    \n",
    "    return transpose"
   ]
  },
  {
   "cell_type": "code",
   "execution_count": 10,
   "metadata": {},
   "outputs": [
    {
     "data": {
      "text/plain": [
       "[[1, 4, 7], [2, 5, 8], [3, 6, 9]]"
      ]
     },
     "execution_count": 10,
     "metadata": {},
     "output_type": "execute_result"
    }
   ],
   "source": [
    "matrix = [\n",
    "    [1, 2, 3],\n",
    "    [4, 5, 6],\n",
    "    [7, 8, 9]\n",
    "]\n",
    "transpose(matrix)"
   ]
  },
  {
   "cell_type": "code",
   "execution_count": 11,
   "metadata": {},
   "outputs": [
    {
     "data": {
      "text/plain": [
       "[[1, 5, 9], [2, 6, 10], [3, 7, 11], [4, 8, 12]]"
      ]
     },
     "execution_count": 11,
     "metadata": {},
     "output_type": "execute_result"
    }
   ],
   "source": [
    "matrix = [\n",
    "    [1, 2, 3, 4],\n",
    "    [5, 6, 7, 8],\n",
    "    [9, 10, 11, 12]\n",
    "]\n",
    "transpose(matrix)"
   ]
  },
  {
   "attachments": {},
   "cell_type": "markdown",
   "metadata": {},
   "source": [
    "The time complexity is $\\mathcal{O}\\left( mn \\right)$, and the space complexity is also $\\mathcal{O}\\left( mn \\right)$."
   ]
  },
  {
   "cell_type": "code",
   "execution_count": 12,
   "metadata": {},
   "outputs": [],
   "source": [
    "# Ma'am's solution\n",
    "def transpose_maam(matrix: list):\n",
    "    n_rows = len(matrix)\n",
    "    n_cols = len(matrix[0])\n",
    "    \n",
    "    transpose = []\n",
    "    \n",
    "    for r in range(n_cols):\n",
    "        transpose.append([0] * n_rows)\n",
    "    \n",
    "    for r in range(n_rows):\n",
    "        for c in range(n_cols):\n",
    "            transpose[c][r] = matrix[r][c]\n",
    "    \n",
    "    return transpose"
   ]
  },
  {
   "cell_type": "code",
   "execution_count": 13,
   "metadata": {},
   "outputs": [
    {
     "data": {
      "text/plain": [
       "[[1, 4, 7], [2, 5, 8], [3, 6, 9]]"
      ]
     },
     "execution_count": 13,
     "metadata": {},
     "output_type": "execute_result"
    }
   ],
   "source": [
    "matrix = [\n",
    "    [1, 2, 3],\n",
    "    [4, 5, 6],\n",
    "    [7, 8, 9]\n",
    "]\n",
    "\n",
    "transpose_maam(matrix)"
   ]
  },
  {
   "cell_type": "code",
   "execution_count": 14,
   "metadata": {},
   "outputs": [
    {
     "data": {
      "text/plain": [
       "[[1, 5, 9], [2, 6, 10], [3, 7, 11], [4, 8, 12]]"
      ]
     },
     "execution_count": 14,
     "metadata": {},
     "output_type": "execute_result"
    }
   ],
   "source": [
    "matrix = [\n",
    "    [1, 2, 3, 4],\n",
    "    [5, 6, 7, 8],\n",
    "    [9, 10, 11, 12]\n",
    "]\n",
    "\n",
    "transpose_maam(matrix)"
   ]
  },
  {
   "attachments": {},
   "cell_type": "markdown",
   "metadata": {},
   "source": [
    "**Question:** You are given an `n × n` matrix representing an image. Rotate the image by $90^{\\circ}$ clockwise. You have to rotate the image in-place.\n",
    "\n",
    "**Example:**\n",
    "$$\\begin{bmatrix}\n",
    "1 & 2 & 3 \\\\\n",
    "4 & 5 & 6 \\\\\n",
    "7 & 8 & 9\n",
    "\\end{bmatrix} \\rightarrow\n",
    "\\begin{bmatrix}\n",
    "7 & 4 & 1 \\\\\n",
    "8 & 5 & 2 \\\\\n",
    "9 & 6 & 3\n",
    "\\end{bmatrix}$$\n",
    "Input: `matrix = [[1, 2, 3], [4, 5, 6], [7, 8, 9]]`.\n",
    "\n",
    "Output: `[7, 4, 1], [8, 5, 2], [9, 6, 3]`."
   ]
  },
  {
   "attachments": {},
   "cell_type": "markdown",
   "metadata": {},
   "source": [
    "**Solution:**\n",
    "\n",
    "The first approach is to first take the transpose in-place and then take its mirror image about the vertical passing through the centre of the matrix. The time complexity for this is $\\mathcal{O}\\left( n^2 \\right)$, and the space complexity is $\\mathcal{O}\\left( 1 \\right)$."
   ]
  },
  {
   "cell_type": "code",
   "execution_count": 15,
   "metadata": {},
   "outputs": [],
   "source": [
    "# Ma'am's solution\n",
    "class Solution:\n",
    "    def rotate(self, matrix: list):\n",
    "        matrix = self.transpose(matrix)\n",
    "        matrix = self.reflect(matrix)\n",
    "        return matrix\n",
    "    \n",
    "    def transpose(self, matrix: list):\n",
    "        n = len(matrix)\n",
    "        for i in range(n):\n",
    "            for j in range(i+1, n):\n",
    "                tmp = matrix[j][i]\n",
    "                matrix[j][i] = matrix[i][j]\n",
    "                matrix[i][j] = tmp\n",
    "        return matrix\n",
    "    \n",
    "    def reflect(self, matrix: list):\n",
    "        n = len(matrix)\n",
    "        for i in range(n):\n",
    "            for j in range(n//2):\n",
    "                tmp = matrix[i][j]\n",
    "                matrix[i][j] = matrix[i][n - j - 1]\n",
    "                matrix[i][n - j - 1] = tmp\n",
    "        return matrix\n",
    "\n",
    "solution = Solution()"
   ]
  },
  {
   "cell_type": "code",
   "execution_count": 16,
   "metadata": {},
   "outputs": [
    {
     "data": {
      "text/plain": [
       "[[7, 4, 1], [8, 5, 2], [9, 6, 3]]"
      ]
     },
     "execution_count": 16,
     "metadata": {},
     "output_type": "execute_result"
    }
   ],
   "source": [
    "matrix = [\n",
    "    [1, 2, 3],\n",
    "    [4, 5, 6],\n",
    "    [7, 8, 9]\n",
    "]\n",
    "\n",
    "solution.rotate(matrix)"
   ]
  },
  {
   "attachments": {},
   "cell_type": "markdown",
   "metadata": {},
   "source": [
    "**Question:** Given a non-empty array `nums` of non-negative integers, the degree of this array is defined as the maximum frequency of any one of its elements. Your task is to find the smallest possible length of a (contiguous) subarray of `nums`, that has the same degree as `nums`.\n",
    "\n",
    "**Example 1:**\n",
    "\n",
    "Input = `nums = [1, 2, 2, 3, 1]`.\n",
    "\n",
    "Output = `2`.\n",
    "\n",
    "Explanation: The input array has a degree `2` because both elements `1` and `2` appear twice. Of the subarrays that have the same degree:\n",
    "```\n",
    "[1, 2, 2, 3, 1], [1, 2, 2, 3], [2, 2, 3, 1], [1, 2, 2], [2, 2, 3], [2, 2]\n",
    "```\n",
    "The shortest length is `2`. So, return `2`.\n",
    "\n",
    "**Example 2:**\n",
    "\n",
    "Input: `nums = [1, 2, 2, 3, 1, 4, 2]`.\n",
    "\n",
    "Output: `6`.\n",
    "\n",
    "Explanation: The degree is `3` because the element `2` is repeated `3` times. So `[2, 2, 3, 1, 4, 2]` is the shortest subarray, therefore returning `6`."
   ]
  },
  {
   "attachments": {},
   "cell_type": "markdown",
   "metadata": {},
   "source": [
    "**Solution:**\n",
    "\n",
    "We need three things, the count of the element, its first occurrence `left`, and its last occurrence `left`. We will find the element with the maximum count, and for that element we will return `right - left + 1`. If we have multiple elements with maximum count, we will find which element has the minimum value of `right - left + 1`, and return that. We will use hashmaps.\n",
    "\n",
    "The time complexity is $\\mathcal{O}\\left( n \\right)$, and the space complexity is also $\\mathcal{O}\\left( n \\right)$."
   ]
  }
 ],
 "metadata": {
  "kernelspec": {
   "display_name": "Python 3",
   "language": "python",
   "name": "python3"
  },
  "language_info": {
   "codemirror_mode": {
    "name": "ipython",
    "version": 3
   },
   "file_extension": ".py",
   "mimetype": "text/x-python",
   "name": "python",
   "nbconvert_exporter": "python",
   "pygments_lexer": "ipython3",
   "version": "3.10.0"
  },
  "orig_nbformat": 4
 },
 "nbformat": 4,
 "nbformat_minor": 2
}
