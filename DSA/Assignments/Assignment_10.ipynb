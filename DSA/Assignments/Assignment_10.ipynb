{
 "cells": [
  {
   "attachments": {},
   "cell_type": "markdown",
   "metadata": {},
   "source": [
    "# Assignment 10\n",
    "**Name: Sushrut Gaikwad**"
   ]
  },
  {
   "attachments": {},
   "cell_type": "markdown",
   "metadata": {},
   "source": [
    "## Question 1\n",
    "Given an integer `n`, return *`true` if it is a power of three. Otherwise, return `false`*. An integer `n` is a power of three, if there exists an integer `x` such that `n == 3x`.\n",
    "\n",
    "**Examples:**\n",
    "```\n",
    "Input: n = 27\n",
    "Output: true\n",
    "Explanation: 27 = 33\n",
    "```\n",
    "```\n",
    "Input: n = 0\n",
    "Output: false\n",
    "Explanation: There is no x where 3x = 0.\n",
    "```\n",
    "```\n",
    "Input: n = -1\n",
    "Output: false\n",
    "Explanation: There is no x where 3x = (-1).\n",
    "```"
   ]
  },
  {
   "attachments": {},
   "cell_type": "markdown",
   "metadata": {},
   "source": [
    "**Answer:**"
   ]
  },
  {
   "cell_type": "code",
   "execution_count": 1,
   "metadata": {},
   "outputs": [],
   "source": [
    "def is_power_of_3(n: int) -> bool:\n",
    "    if n == 1:\n",
    "        return True\n",
    "    if n < 1 or n % 3 != 0:\n",
    "        return False\n",
    "    return is_power_of_3(n // 3)"
   ]
  },
  {
   "cell_type": "code",
   "execution_count": 2,
   "metadata": {},
   "outputs": [
    {
     "data": {
      "text/plain": [
       "True"
      ]
     },
     "execution_count": 2,
     "metadata": {},
     "output_type": "execute_result"
    }
   ],
   "source": [
    "is_power_of_3(27)"
   ]
  },
  {
   "cell_type": "code",
   "execution_count": 3,
   "metadata": {},
   "outputs": [
    {
     "data": {
      "text/plain": [
       "False"
      ]
     },
     "execution_count": 3,
     "metadata": {},
     "output_type": "execute_result"
    }
   ],
   "source": [
    "is_power_of_3(0)"
   ]
  },
  {
   "cell_type": "code",
   "execution_count": 4,
   "metadata": {},
   "outputs": [
    {
     "data": {
      "text/plain": [
       "False"
      ]
     },
     "execution_count": 4,
     "metadata": {},
     "output_type": "execute_result"
    }
   ],
   "source": [
    "is_power_of_3(-1)"
   ]
  },
  {
   "attachments": {},
   "cell_type": "markdown",
   "metadata": {},
   "source": [
    "## Question 2\n",
    "You have a list `arr` of all integers in the range `[1, n]` sorted in a strictly increasing order. Apply the following algorithm on `arr`:\n",
    "* Starting from left to right, remove the first number and every other number afterward until you reach the end of the list.\n",
    "* Repeat the previous step again, but this time from right to left, remove the rightmost number and every other number from the remaining numbers.\n",
    "* Keep repeating the steps again, alternating left to right and right to left, until a single number remains.\n",
    "\n",
    "Given the integer `n`, return the last number that remains in `arr`.\n",
    "\n",
    "**Examples:**\n",
    "```\n",
    "Input: n = 9\n",
    "Output: 6\n",
    "Explanation:\n",
    "arr = [1, 2, 3, 4, 5, 6, 7, 8, 9]\n",
    "arr = [2, 4, 6, 8]\n",
    "arr = [2, 6]\n",
    "arr = [6]\n",
    "```\n",
    "```\n",
    "Input: n = 1\n",
    "Output: 1\n",
    "```"
   ]
  },
  {
   "attachments": {},
   "cell_type": "markdown",
   "metadata": {},
   "source": [
    "**Answer:**"
   ]
  },
  {
   "cell_type": "code",
   "execution_count": 7,
   "metadata": {},
   "outputs": [],
   "source": [
    "def remove_elements(n: int) -> int:\n",
    "    arr = []\n",
    "    for i in range(1, n+1):\n",
    "        arr.append(i)\n",
    "        \n",
    "    i = 0\n",
    "    zeroth_index = True\n",
    "    while len(arr) > 1:\n",
    "        if zeroth_index:\n",
    "            elements_to_remove = []\n",
    "            for i in range(0, len(arr), 2):\n",
    "                elements_to_remove.append(arr[i])\n",
    "            # print(elements_to_remove)\n",
    "            arr = [num for num in arr if num not in elements_to_remove]\n",
    "            zeroth_index = False\n",
    "        else:\n",
    "            elements_to_remove = []\n",
    "            for i in range(len(arr) - 1, -1, -2):\n",
    "                elements_to_remove.append(arr[i])\n",
    "            # print(elements_to_remove)\n",
    "            arr = [num for num in arr if num not in elements_to_remove]\n",
    "            zeroth_index = True\n",
    "    return arr[0]"
   ]
  },
  {
   "cell_type": "code",
   "execution_count": 8,
   "metadata": {},
   "outputs": [
    {
     "data": {
      "text/plain": [
       "6"
      ]
     },
     "execution_count": 8,
     "metadata": {},
     "output_type": "execute_result"
    }
   ],
   "source": [
    "remove_elements(16)"
   ]
  },
  {
   "cell_type": "code",
   "execution_count": 9,
   "metadata": {},
   "outputs": [
    {
     "data": {
      "text/plain": [
       "6"
      ]
     },
     "execution_count": 9,
     "metadata": {},
     "output_type": "execute_result"
    }
   ],
   "source": [
    "remove_elements(9)"
   ]
  },
  {
   "cell_type": "code",
   "execution_count": 10,
   "metadata": {},
   "outputs": [
    {
     "data": {
      "text/plain": [
       "1"
      ]
     },
     "execution_count": 10,
     "metadata": {},
     "output_type": "execute_result"
    }
   ],
   "source": [
    "remove_elements(1)"
   ]
  },
  {
   "attachments": {},
   "cell_type": "markdown",
   "metadata": {},
   "source": [
    "## Question 3\n",
    "Given a set represented as a string, write a recursive code to print all subsets of it. The subsets can be printed in any order.\n",
    "\n",
    "**Example:**\n",
    "\n",
    "Input :  set = “abc”\n",
    "\n",
    "Output : { “”, “a”, “b”, “c”, “ab”, “ac”, “bc”, “abc”}\n",
    "\n",
    "**Example:**\n",
    "\n",
    "Input : set = “abcd”\n",
    "\n",
    "Output : { “”, “a” ,”ab” ,”abc” ,”abcd”, “abd” ,”ac” ,”acd”, “ad” ,”b”, “bc” ,”bcd” ,”bd” ,”c” ,”cd” ,”d” }"
   ]
  },
  {
   "cell_type": "code",
   "execution_count": null,
   "metadata": {},
   "outputs": [],
   "source": [
    "def subsets(s: str, l, r, subsets=[]):\n",
    "    pass"
   ]
  },
  {
   "cell_type": "code",
   "execution_count": 20,
   "metadata": {},
   "outputs": [],
   "source": [
    "def subsets(s: str, l, r, subsets=[]):\n",
    "\n",
    "\t# Print current subset\n",
    "\tif l > r:\n",
    "\t\tprint(subsets)\n",
    "\t\treturn\n",
    "\n",
    "\t# Subset including arr[l]\n",
    "\tsubsets(s, l + 1, r, subsets=subsets.append(s[l]))\n",
    "\n",
    "\t# Subset excluding arr[l]\n",
    "\tsubsets(s, l + 1, r, subsets=subsets)"
   ]
  },
  {
   "cell_type": "code",
   "execution_count": 21,
   "metadata": {},
   "outputs": [
    {
     "ename": "TypeError",
     "evalue": "'list' object is not callable",
     "output_type": "error",
     "traceback": [
      "\u001b[1;31m---------------------------------------------------------------------------\u001b[0m",
      "\u001b[1;31mTypeError\u001b[0m                                 Traceback (most recent call last)",
      "Cell \u001b[1;32mIn[21], line 3\u001b[0m\n\u001b[0;32m      1\u001b[0m s \u001b[39m=\u001b[39m \u001b[39m\"\u001b[39m\u001b[39mabc\u001b[39m\u001b[39m\"\u001b[39m\n\u001b[1;32m----> 3\u001b[0m subsets(s\u001b[39m=\u001b[39;49ms, l\u001b[39m=\u001b[39;49m\u001b[39m0\u001b[39;49m, r\u001b[39m=\u001b[39;49m\u001b[39mlen\u001b[39;49m(\u001b[39mset\u001b[39;49m) \u001b[39m-\u001b[39;49m \u001b[39m1\u001b[39;49m)\n",
      "Cell \u001b[1;32mIn[20], line 9\u001b[0m, in \u001b[0;36msubsets\u001b[1;34m(s, l, r, subsets)\u001b[0m\n\u001b[0;32m      6\u001b[0m \t\u001b[39mreturn\u001b[39;00m\n\u001b[0;32m      8\u001b[0m \u001b[39m# Subset including arr[l]\u001b[39;00m\n\u001b[1;32m----> 9\u001b[0m subsets(s, l \u001b[39m+\u001b[39;49m \u001b[39m1\u001b[39;49m, r, subsets\u001b[39m=\u001b[39;49msubsets\u001b[39m.\u001b[39;49mappend(s[l]))\n\u001b[0;32m     11\u001b[0m \u001b[39m# Subset excluding arr[l]\u001b[39;00m\n\u001b[0;32m     12\u001b[0m subsets(s, l \u001b[39m+\u001b[39m \u001b[39m1\u001b[39m, r, subsets\u001b[39m=\u001b[39msubsets)\n",
      "\u001b[1;31mTypeError\u001b[0m: 'list' object is not callable"
     ]
    }
   ],
   "source": [
    "s = \"abc\"\n",
    "\n",
    "subsets(s=s, l=0, r=len(set) - 1)"
   ]
  },
  {
   "cell_type": "code",
   "execution_count": null,
   "metadata": {},
   "outputs": [],
   "source": []
  }
 ],
 "metadata": {
  "kernelspec": {
   "display_name": "Python 3",
   "language": "python",
   "name": "python3"
  },
  "language_info": {
   "codemirror_mode": {
    "name": "ipython",
    "version": 3
   },
   "file_extension": ".py",
   "mimetype": "text/x-python",
   "name": "python",
   "nbconvert_exporter": "python",
   "pygments_lexer": "ipython3",
   "version": "3.10.0"
  },
  "orig_nbformat": 4
 },
 "nbformat": 4,
 "nbformat_minor": 2
}
