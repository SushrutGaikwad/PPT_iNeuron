{
 "cells": [
  {
   "attachments": {},
   "cell_type": "markdown",
   "metadata": {},
   "source": [
    "# Assignment 8\n",
    "**Name: Sushrut Gaikwad**"
   ]
  },
  {
   "attachments": {},
   "cell_type": "markdown",
   "metadata": {},
   "source": [
    "## Question 1\n",
    "Given two strings `s1` and `s2`, return the lowest ASCII sum of deleted characters to make two strings equal.\n",
    "\n",
    "**Example:**\n",
    "\n",
    "Input: `s1 = \"sea\"`, `s2 = \"eat\"`.\n",
    "\n",
    "Output: `231`.\n",
    "\n",
    "Explanation: Deleting `\"s\"` from `\"sea\"` adds the ASCII value of `\"s\"` (`115`) to the sum.\n",
    "\n",
    "Deleting `\"t\"` from `\"eat\"` adds `116` to the sum.\n",
    "\n",
    "At the end, both strings are equal, and `115 + 116 = 231` is the minimum sum possible to achieve this."
   ]
  },
  {
   "attachments": {},
   "cell_type": "markdown",
   "metadata": {},
   "source": [
    "**Answer:**"
   ]
  },
  {
   "cell_type": "code",
   "execution_count": 6,
   "metadata": {},
   "outputs": [],
   "source": [
    "s1 = \"sea\"\n",
    "s2 = \"eat\""
   ]
  },
  {
   "cell_type": "code",
   "execution_count": 7,
   "metadata": {},
   "outputs": [
    {
     "data": {
      "text/plain": [
       "'seaeat'"
      ]
     },
     "execution_count": 7,
     "metadata": {},
     "output_type": "execute_result"
    }
   ],
   "source": [
    "s1s2 = s1+s2\n",
    "s1s2"
   ]
  },
  {
   "cell_type": "code",
   "execution_count": 8,
   "metadata": {},
   "outputs": [
    {
     "data": {
      "text/plain": [
       "{'s': 1, 'e': 2, 'a': 2, 't': 1}"
      ]
     },
     "execution_count": 8,
     "metadata": {},
     "output_type": "execute_result"
    }
   ],
   "source": [
    "hashmap = dict()\n",
    "\n",
    "for i in range(len(s1s2)):\n",
    "    if s1s2[i] in hashmap.keys():\n",
    "        hashmap[s1s2[i]] += 1\n",
    "    else:\n",
    "        hashmap[s1s2[i]] = 1\n",
    "\n",
    "hashmap"
   ]
  },
  {
   "cell_type": "code",
   "execution_count": 10,
   "metadata": {},
   "outputs": [
    {
     "data": {
      "text/plain": [
       "['s']"
      ]
     },
     "execution_count": 10,
     "metadata": {},
     "output_type": "execute_result"
    }
   ],
   "source": [
    "chars_to_delete_from_s1 = []\n",
    "\n",
    "for key in hashmap.keys():\n",
    "    if hashmap[key] % 2 != 0:\n",
    "        if key in s1:\n",
    "            chars_to_delete_from_s1.append(key)\n",
    "\n",
    "chars_to_delete_from_s1"
   ]
  },
  {
   "cell_type": "code",
   "execution_count": 11,
   "metadata": {},
   "outputs": [
    {
     "data": {
      "text/plain": [
       "['t']"
      ]
     },
     "execution_count": 11,
     "metadata": {},
     "output_type": "execute_result"
    }
   ],
   "source": [
    "chars_to_delete_from_s2 = []\n",
    "\n",
    "for key in hashmap.keys():\n",
    "    if hashmap[key] % 2 != 0:\n",
    "        if key in s2:\n",
    "            chars_to_delete_from_s2.append(key)\n",
    "\n",
    "chars_to_delete_from_s2"
   ]
  },
  {
   "cell_type": "code",
   "execution_count": 12,
   "metadata": {},
   "outputs": [],
   "source": [
    "s1 = \"delete\"\n",
    "s2 = \"leet\""
   ]
  },
  {
   "cell_type": "code",
   "execution_count": 13,
   "metadata": {},
   "outputs": [
    {
     "data": {
      "text/plain": [
       "'deleteleet'"
      ]
     },
     "execution_count": 13,
     "metadata": {},
     "output_type": "execute_result"
    }
   ],
   "source": [
    "s1s2 = s1+s2\n",
    "s1s2"
   ]
  },
  {
   "cell_type": "code",
   "execution_count": 14,
   "metadata": {},
   "outputs": [
    {
     "data": {
      "text/plain": [
       "{'d': 1, 'e': 5, 'l': 2, 't': 2}"
      ]
     },
     "execution_count": 14,
     "metadata": {},
     "output_type": "execute_result"
    }
   ],
   "source": [
    "hashmap = dict()\n",
    "\n",
    "for i in range(len(s1s2)):\n",
    "    if s1s2[i] in hashmap.keys():\n",
    "        hashmap[s1s2[i]] += 1\n",
    "    else:\n",
    "        hashmap[s1s2[i]] = 1\n",
    "\n",
    "hashmap"
   ]
  },
  {
   "cell_type": "code",
   "execution_count": 15,
   "metadata": {},
   "outputs": [
    {
     "data": {
      "text/plain": [
       "['d', 'e']"
      ]
     },
     "execution_count": 15,
     "metadata": {},
     "output_type": "execute_result"
    }
   ],
   "source": [
    "chars_to_delete_from_s1 = []\n",
    "\n",
    "for key in hashmap.keys():\n",
    "    if hashmap[key] % 2 != 0:\n",
    "        if key in s1:\n",
    "            chars_to_delete_from_s1.append(key)\n",
    "\n",
    "chars_to_delete_from_s1"
   ]
  },
  {
   "cell_type": "code",
   "execution_count": 16,
   "metadata": {},
   "outputs": [
    {
     "data": {
      "text/plain": [
       "['e']"
      ]
     },
     "execution_count": 16,
     "metadata": {},
     "output_type": "execute_result"
    }
   ],
   "source": [
    "chars_to_delete_from_s2 = []\n",
    "\n",
    "for key in hashmap.keys():\n",
    "    if hashmap[key] % 2 != 0:\n",
    "        if key in s2:\n",
    "            chars_to_delete_from_s2.append(key)\n",
    "\n",
    "chars_to_delete_from_s2"
   ]
  },
  {
   "cell_type": "code",
   "execution_count": null,
   "metadata": {},
   "outputs": [],
   "source": []
  },
  {
   "cell_type": "code",
   "execution_count": null,
   "metadata": {},
   "outputs": [],
   "source": []
  },
  {
   "cell_type": "code",
   "execution_count": null,
   "metadata": {},
   "outputs": [],
   "source": []
  },
  {
   "cell_type": "code",
   "execution_count": 1,
   "metadata": {},
   "outputs": [
    {
     "data": {
      "text/plain": [
       "115"
      ]
     },
     "execution_count": 1,
     "metadata": {},
     "output_type": "execute_result"
    }
   ],
   "source": [
    "ord(\"s\")"
   ]
  },
  {
   "cell_type": "code",
   "execution_count": 2,
   "metadata": {},
   "outputs": [
    {
     "data": {
      "text/plain": [
       "97"
      ]
     },
     "execution_count": 2,
     "metadata": {},
     "output_type": "execute_result"
    }
   ],
   "source": [
    "ord(\"a\")"
   ]
  },
  {
   "cell_type": "code",
   "execution_count": 3,
   "metadata": {},
   "outputs": [
    {
     "data": {
      "text/plain": [
       "122"
      ]
     },
     "execution_count": 3,
     "metadata": {},
     "output_type": "execute_result"
    }
   ],
   "source": [
    "ord(\"z\")"
   ]
  },
  {
   "attachments": {},
   "cell_type": "markdown",
   "metadata": {},
   "source": [
    "## Question 2\n",
    "Given a string `s` containing only three types of characters: `'('`, `')'`, and `'*'`, return `True` if `s` is valid.\n",
    "\n",
    "The following rules define a *valid* string:\n",
    "* Any left parenthesis `'('` must have a corresponding right parenthesis `')'`.\n",
    "* Any right parenthesis `')'` must have a corresponding left parenthesis `'('`.\n",
    "* Left parenthesis `'('` must go before the corresponding right parenthesis `')'`.\n",
    "* `'*'` could be treated as a single right parenthesis `')'` or a single left parenthesis `'('` or an empty string `\"\"`.\n",
    "\n",
    "**Example:**\n",
    "\n",
    "Input: `s = \"()\"`.\n",
    "\n",
    "Output: `True`."
   ]
  },
  {
   "attachments": {},
   "cell_type": "markdown",
   "metadata": {},
   "source": [
    "**Answer:**"
   ]
  },
  {
   "cell_type": "code",
   "execution_count": null,
   "metadata": {},
   "outputs": [],
   "source": []
  }
 ],
 "metadata": {
  "kernelspec": {
   "display_name": "Python 3",
   "language": "python",
   "name": "python3"
  },
  "language_info": {
   "codemirror_mode": {
    "name": "ipython",
    "version": 3
   },
   "file_extension": ".py",
   "mimetype": "text/x-python",
   "name": "python",
   "nbconvert_exporter": "python",
   "pygments_lexer": "ipython3",
   "version": "3.10.0"
  },
  "orig_nbformat": 4
 },
 "nbformat": 4,
 "nbformat_minor": 2
}
