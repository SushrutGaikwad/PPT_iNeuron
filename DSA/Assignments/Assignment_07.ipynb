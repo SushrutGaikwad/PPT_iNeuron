{
 "cells": [
  {
   "attachments": {},
   "cell_type": "markdown",
   "metadata": {},
   "source": [
    "# Assignment 7\n",
    "**Name: Sushrut Gaikwad**"
   ]
  },
  {
   "attachments": {},
   "cell_type": "markdown",
   "metadata": {},
   "source": [
    "## Question 1\n",
    "Given two strings `s` and `t`, determine if they are isomorphic. Two strings `s` and `t` are isomorphic if the characters in `s` can be replaced to get `t`. All occurrences of a character must be replaced with another character while preserving the order of characters. No two characters may map to the same character, but a character may map to itself.\n",
    "\n",
    "**Example:**\n",
    "\n",
    "Input: `s = \"egg\"`, `t = \"add\"`.\n",
    "\n",
    "Output: `True`."
   ]
  },
  {
   "attachments": {},
   "cell_type": "markdown",
   "metadata": {},
   "source": [
    "**Answer:**"
   ]
  },
  {
   "cell_type": "code",
   "execution_count": 1,
   "metadata": {},
   "outputs": [],
   "source": [
    "def isomorphic(s: str, t: str):\n",
    "    if len(s) != len(t):\n",
    "        return False\n",
    "    else:\n",
    "        hm_s = dict()\n",
    "        hm_t = dict()\n",
    "\n",
    "        for i in range(len(s)):\n",
    "            if s[i] in hm_s.keys():\n",
    "                hm_s[s[i]] += 1\n",
    "            else:\n",
    "                hm_s[s[i]] = 1\n",
    "\n",
    "        for i in range(len(t)):\n",
    "            if t[i] in hm_t.keys():\n",
    "                hm_t[t[i]] += 1\n",
    "            else:\n",
    "                hm_t[t[i]] = 1\n",
    "\n",
    "        return list(hm_s.values()) == list(hm_t.values())"
   ]
  },
  {
   "cell_type": "code",
   "execution_count": 2,
   "metadata": {},
   "outputs": [
    {
     "data": {
      "text/plain": [
       "True"
      ]
     },
     "execution_count": 2,
     "metadata": {},
     "output_type": "execute_result"
    }
   ],
   "source": [
    "s = \"egg\"\n",
    "t = \"add\"\n",
    "\n",
    "isomorphic(s, t)"
   ]
  },
  {
   "cell_type": "code",
   "execution_count": 3,
   "metadata": {},
   "outputs": [
    {
     "data": {
      "text/plain": [
       "False"
      ]
     },
     "execution_count": 3,
     "metadata": {},
     "output_type": "execute_result"
    }
   ],
   "source": [
    "s = \"foo\"\n",
    "t = \"bar\"\n",
    "\n",
    "isomorphic(s, t)"
   ]
  },
  {
   "cell_type": "code",
   "execution_count": 4,
   "metadata": {},
   "outputs": [
    {
     "data": {
      "text/plain": [
       "True"
      ]
     },
     "execution_count": 4,
     "metadata": {},
     "output_type": "execute_result"
    }
   ],
   "source": [
    "s = \"paper\"\n",
    "t = \"title\"\n",
    "\n",
    "isomorphic(s, t)"
   ]
  },
  {
   "attachments": {},
   "cell_type": "markdown",
   "metadata": {},
   "source": [
    "## Question 2\n",
    "Given a string `num` which represents an integer, return `True` if `num` is a strobogrammatic number. A strobogrammatic number is a number that looks the same when rotated 180 degrees (looked at upside down).\n",
    "\n",
    "**Example:**\n",
    "\n",
    "Input: `num = \"69\"`.\n",
    "\n",
    "Output: `True`."
   ]
  },
  {
   "attachments": {},
   "cell_type": "markdown",
   "metadata": {},
   "source": [
    "**Answer:**"
   ]
  },
  {
   "cell_type": "code",
   "execution_count": 5,
   "metadata": {},
   "outputs": [],
   "source": [
    "def reverse_arr(arr: list):\n",
    "    arr2 = arr.copy()\n",
    "    j = len(arr2) - 1\n",
    "    for i in range(len(arr2) // 2):\n",
    "        arr2[i], arr2[j] = arr2[j], arr2[i]\n",
    "        j -= 1\n",
    "    return arr2\n",
    "\n",
    "def strobogrammatic_number(num: str):\n",
    "    num_arr = []\n",
    "\n",
    "    for char in num:\n",
    "        num_arr.append(char)\n",
    "\n",
    "    rev_num_arr = reverse_arr(num_arr)\n",
    "\n",
    "    i = 0\n",
    "    while i < len(rev_num_arr):\n",
    "        if rev_num_arr[i] == \"9\":\n",
    "            rev_num_arr[i] = \"6\"\n",
    "        elif rev_num_arr[i] == \"6\":\n",
    "            rev_num_arr[i] = \"9\"\n",
    "        i += 1\n",
    "\n",
    "    if rev_num_arr == num_arr:\n",
    "        return True\n",
    "    else:\n",
    "        return False"
   ]
  },
  {
   "cell_type": "code",
   "execution_count": 6,
   "metadata": {},
   "outputs": [
    {
     "data": {
      "text/plain": [
       "True"
      ]
     },
     "execution_count": 6,
     "metadata": {},
     "output_type": "execute_result"
    }
   ],
   "source": [
    "num = \"69\"\n",
    "\n",
    "strobogrammatic_number(num)"
   ]
  },
  {
   "cell_type": "code",
   "execution_count": 7,
   "metadata": {},
   "outputs": [
    {
     "data": {
      "text/plain": [
       "False"
      ]
     },
     "execution_count": 7,
     "metadata": {},
     "output_type": "execute_result"
    }
   ],
   "source": [
    "num = \"6996\"\n",
    "\n",
    "strobogrammatic_number(num)"
   ]
  },
  {
   "cell_type": "code",
   "execution_count": 8,
   "metadata": {},
   "outputs": [
    {
     "data": {
      "text/plain": [
       "True"
      ]
     },
     "execution_count": 8,
     "metadata": {},
     "output_type": "execute_result"
    }
   ],
   "source": [
    "num = \"1001\"\n",
    "\n",
    "strobogrammatic_number(num)"
   ]
  },
  {
   "cell_type": "code",
   "execution_count": 9,
   "metadata": {},
   "outputs": [
    {
     "data": {
      "text/plain": [
       "True"
      ]
     },
     "execution_count": 9,
     "metadata": {},
     "output_type": "execute_result"
    }
   ],
   "source": [
    "num = \"1691\"\n",
    "\n",
    "strobogrammatic_number(num)"
   ]
  },
  {
   "cell_type": "code",
   "execution_count": 10,
   "metadata": {},
   "outputs": [
    {
     "data": {
      "text/plain": [
       "True"
      ]
     },
     "execution_count": 10,
     "metadata": {},
     "output_type": "execute_result"
    }
   ],
   "source": [
    "num = \"11\"\n",
    "\n",
    "strobogrammatic_number(num)"
   ]
  },
  {
   "cell_type": "code",
   "execution_count": 11,
   "metadata": {},
   "outputs": [
    {
     "data": {
      "text/plain": [
       "False"
      ]
     },
     "execution_count": 11,
     "metadata": {},
     "output_type": "execute_result"
    }
   ],
   "source": [
    "num = \"10\"\n",
    "\n",
    "strobogrammatic_number(num)"
   ]
  },
  {
   "cell_type": "code",
   "execution_count": 12,
   "metadata": {},
   "outputs": [
    {
     "data": {
      "text/plain": [
       "False"
      ]
     },
     "execution_count": 12,
     "metadata": {},
     "output_type": "execute_result"
    }
   ],
   "source": [
    "num = \"6\"\n",
    "\n",
    "strobogrammatic_number(num)"
   ]
  },
  {
   "cell_type": "code",
   "execution_count": 13,
   "metadata": {},
   "outputs": [
    {
     "data": {
      "text/plain": [
       "True"
      ]
     },
     "execution_count": 13,
     "metadata": {},
     "output_type": "execute_result"
    }
   ],
   "source": [
    "num = \"1\"\n",
    "\n",
    "strobogrammatic_number(num)"
   ]
  },
  {
   "attachments": {},
   "cell_type": "markdown",
   "metadata": {},
   "source": [
    "## Question 3\n",
    "Given two non-negative integers, `num1` and `num2` represented as string, return the sum of `num1` and `num2` as a string. You must solve the problem without using any built-in library for handling large integers (such as BigInteger). You must also not convert the inputs to integers directly.\n",
    "\n",
    "Example:\n",
    "\n",
    "Input: `num1 = \"11\"`, `num2 = \"123\"`.\n",
    "\n",
    "Output: `\"134\"`."
   ]
  },
  {
   "attachments": {},
   "cell_type": "markdown",
   "metadata": {},
   "source": [
    "**Answer:**"
   ]
  },
  {
   "cell_type": "code",
   "execution_count": 14,
   "metadata": {},
   "outputs": [],
   "source": [
    "def str_to_num(num: str):\n",
    "    result = 0\n",
    "    for digit in num:\n",
    "        result = result * 10 + ord(digit) - ord(\"0\")\n",
    "    return result\n",
    "\n",
    "def add_num_in_str_format(num1: int, num2: int):\n",
    "    return str_to_num(num1) + str_to_num(num2)"
   ]
  },
  {
   "cell_type": "code",
   "execution_count": 15,
   "metadata": {},
   "outputs": [
    {
     "data": {
      "text/plain": [
       "134"
      ]
     },
     "execution_count": 15,
     "metadata": {},
     "output_type": "execute_result"
    }
   ],
   "source": [
    "num1 = \"11\"\n",
    "num2 = \"123\"\n",
    "\n",
    "add_num_in_str_format(num1, num2)"
   ]
  },
  {
   "attachments": {},
   "cell_type": "markdown",
   "metadata": {},
   "source": [
    "## Question 4\n",
    "Given a string `s`, reverse the order of characters in each word within a sentence while still preserving whitespace and initial word order.\n",
    "\n",
    "**Example:**\n",
    "\n",
    "Input: `s = \"Let's take LeetCode contest\"`.\n",
    "\n",
    "Output: `\"s'teL ekat edoCteeL tsetnoc\"`."
   ]
  },
  {
   "attachments": {},
   "cell_type": "markdown",
   "metadata": {},
   "source": [
    "**Answer:**"
   ]
  },
  {
   "cell_type": "code",
   "execution_count": 16,
   "metadata": {},
   "outputs": [],
   "source": [
    "def reverse_word_chars(s: str):\n",
    "    s = \"\".join([s, \" \"])\n",
    "    s_split_arr = []\n",
    "    j = 0\n",
    "    for i in range(len(s)):\n",
    "        if s[i] == \" \":\n",
    "            s_split_arr.append(s[j:i])\n",
    "            i += 1\n",
    "            j = i\n",
    "    for i in range(len(s_split_arr)):\n",
    "        s_split_arr[i] = s_split_arr[i][::-1]\n",
    "    result = \" \".join(s_split_arr)\n",
    "    return result"
   ]
  },
  {
   "cell_type": "code",
   "execution_count": 17,
   "metadata": {},
   "outputs": [
    {
     "data": {
      "text/plain": [
       "\"s'teL ekat edoCteeL tsetnoc\""
      ]
     },
     "execution_count": 17,
     "metadata": {},
     "output_type": "execute_result"
    }
   ],
   "source": [
    "s = \"Let's take LeetCode contest\"\n",
    "\n",
    "reverse_word_chars(s)"
   ]
  },
  {
   "cell_type": "code",
   "execution_count": 18,
   "metadata": {},
   "outputs": [
    {
     "data": {
      "text/plain": [
       "'doG gniD'"
      ]
     },
     "execution_count": 18,
     "metadata": {},
     "output_type": "execute_result"
    }
   ],
   "source": [
    "s = \"God Ding\"\n",
    "reverse_word_chars(s)"
   ]
  },
  {
   "attachments": {},
   "cell_type": "markdown",
   "metadata": {},
   "source": [
    "## Question 5\n",
    "Given a string `s` and an integer `k`, reverse the first `k` characters for every `2k` characters counting from the start of the string. If there are fewer than `k` characters left, reverse all of them. If there are less than `2k` but greater than or equal to `k` characters, then reverse the first `k` characters and leave the other as original.\n",
    "\n",
    "**Example:**\n",
    "\n",
    "Input: `s = \"abcdefg\"`, `k = 2`.\n",
    "\n",
    "Output: `\"bacdfeg\"`."
   ]
  },
  {
   "attachments": {},
   "cell_type": "markdown",
   "metadata": {},
   "source": [
    "**Answer:**"
   ]
  },
  {
   "cell_type": "code",
   "execution_count": null,
   "metadata": {},
   "outputs": [],
   "source": []
  },
  {
   "attachments": {},
   "cell_type": "markdown",
   "metadata": {},
   "source": [
    "## Question 6\n",
    "Given two strings `s` and `goal`, return `True` if and only if `s` can become `goal` after some number of shifts on `s`. A shift on `s` consists of moving the leftmost character of `s` to the rightmost position.\n",
    "* For example, if `s = \"abcde\"`, then it will be `\"bcdea\"` after one shift.\n",
    "\n",
    "**Example:**\n",
    "\n",
    "Input: `s = \"abcde\"`, `goal = \"cdeab\"`.\n",
    "\n",
    "Output: `True`."
   ]
  },
  {
   "attachments": {},
   "cell_type": "markdown",
   "metadata": {},
   "source": [
    "**Answer:**"
   ]
  },
  {
   "cell_type": "code",
   "execution_count": 19,
   "metadata": {},
   "outputs": [],
   "source": [
    "def s_can_become_goal(s: str, goal: str):\n",
    "    list_s = list(s)\n",
    "    list_goal = list(goal)\n",
    "\n",
    "    for _ in range(len(list_s)):\n",
    "        if list_s == list_goal:\n",
    "            return True\n",
    "        list_s.append(list_s[0])\n",
    "        list_s = list_s[1:]\n",
    "    return False"
   ]
  },
  {
   "cell_type": "code",
   "execution_count": 20,
   "metadata": {},
   "outputs": [
    {
     "data": {
      "text/plain": [
       "True"
      ]
     },
     "execution_count": 20,
     "metadata": {},
     "output_type": "execute_result"
    }
   ],
   "source": [
    "s = \"abcde\"\n",
    "goal = \"cdeab\"\n",
    "\n",
    "s_can_become_goal(s, goal)"
   ]
  },
  {
   "cell_type": "code",
   "execution_count": 21,
   "metadata": {},
   "outputs": [
    {
     "data": {
      "text/plain": [
       "False"
      ]
     },
     "execution_count": 21,
     "metadata": {},
     "output_type": "execute_result"
    }
   ],
   "source": [
    "s = \"abcde\"\n",
    "goal = \"abced\"\n",
    "\n",
    "s_can_become_goal(s, goal)"
   ]
  },
  {
   "attachments": {},
   "cell_type": "markdown",
   "metadata": {},
   "source": [
    "## Question 7\n",
    "Given two strings `s` and `t`, return `True` if they are equal when both are typed into empty text editors. `'#'` means a backspace character. Note that after backspacing an empty text, the text will continue empty.\n",
    "\n",
    "**Example:**\n",
    "\n",
    "Input: `s = \"ab#c\"`, `t = \"ad#c\"`.\n",
    "\n",
    "Output: `True`.\n",
    "\n",
    "Explanation: Both `s` and `t` become `\"ac\"`."
   ]
  },
  {
   "attachments": {},
   "cell_type": "markdown",
   "metadata": {},
   "source": [
    "**Answer:**"
   ]
  },
  {
   "cell_type": "code",
   "execution_count": 22,
   "metadata": {},
   "outputs": [],
   "source": [
    "def backspace(s: str):\n",
    "    new_s = \"\"\n",
    "\n",
    "    for i in range(len(s)):\n",
    "        if s[i] != \"#\":\n",
    "            new_s += s[i]\n",
    "        else:\n",
    "            new_s = new_s[:-1]\n",
    "    \n",
    "    return new_s\n",
    "\n",
    "def equal_after_backspace(s: str, t: str):\n",
    "    s = backspace(s)\n",
    "    t = backspace(t)\n",
    "    \n",
    "    if s == t:\n",
    "        return True\n",
    "    else:\n",
    "        return False"
   ]
  },
  {
   "cell_type": "code",
   "execution_count": 23,
   "metadata": {},
   "outputs": [
    {
     "data": {
      "text/plain": [
       "True"
      ]
     },
     "execution_count": 23,
     "metadata": {},
     "output_type": "execute_result"
    }
   ],
   "source": [
    "s = \"ab#c\"\n",
    "t = \"ad#c\"\n",
    "\n",
    "equal_after_backspace(s, t)"
   ]
  },
  {
   "cell_type": "code",
   "execution_count": 24,
   "metadata": {},
   "outputs": [
    {
     "data": {
      "text/plain": [
       "True"
      ]
     },
     "execution_count": 24,
     "metadata": {},
     "output_type": "execute_result"
    }
   ],
   "source": [
    "s = \"ab##\"\n",
    "t = \"c#d#\"\n",
    "\n",
    "equal_after_backspace(s, t)"
   ]
  },
  {
   "cell_type": "code",
   "execution_count": 25,
   "metadata": {},
   "outputs": [
    {
     "data": {
      "text/plain": [
       "False"
      ]
     },
     "execution_count": 25,
     "metadata": {},
     "output_type": "execute_result"
    }
   ],
   "source": [
    "s = \"a#c\"\n",
    "t = \"b\"\n",
    "\n",
    "equal_after_backspace(s, t)"
   ]
  },
  {
   "attachments": {
    "Ass_7_q_8.png": {
     "image/png": "[encoded data removed]"
    }
   },
   "cell_type": "markdown",
   "metadata": {},
   "source": [
    "## Question 8\n",
    "You are given an array coordinates, `coordinates[i] = [x, y]`, where `[x, y]` represents the coordinate of a point. Check if these points make a straight line in the `XY` plane.\n",
    "\n",
    "**Example:**\n",
    "\n",
    "![Ass_7_q_8.png](attachment:Ass_7_q_8.png)\n",
    "\n",
    "Input: `coordinates = [[1, 2], [2, 3], [3, 4], [4, 5], [5, 6], [6, 7]]`.\n",
    "\n",
    "Output: `True`."
   ]
  },
  {
   "attachments": {},
   "cell_type": "markdown",
   "metadata": {},
   "source": [
    "**Answer:**"
   ]
  },
  {
   "cell_type": "code",
   "execution_count": 26,
   "metadata": {},
   "outputs": [],
   "source": [
    "def straight_line(coordinates: list):\n",
    "    x = []\n",
    "    y = []\n",
    "\n",
    "    for coordinate in coordinates:\n",
    "        x.append(coordinate[0])\n",
    "        y.append(coordinate[1])\n",
    "\n",
    "    for i in range(len(coordinates) - 2):\n",
    "        # Checking if all the slopes are the same\n",
    "        if ((y[i + 1] - y[i])*(x[i + 2] - x[i + 1])) != ((y[i + 2] - y[i + 1]) * (x[i + 1] - x[i])):\n",
    "            return False\n",
    "    \n",
    "    return True"
   ]
  },
  {
   "cell_type": "code",
   "execution_count": 27,
   "metadata": {},
   "outputs": [
    {
     "data": {
      "text/plain": [
       "True"
      ]
     },
     "execution_count": 27,
     "metadata": {},
     "output_type": "execute_result"
    }
   ],
   "source": [
    "coordinates = [[1, 2], [2, 3], [3, 4], [4, 5], [5, 6], [6, 7]]\n",
    "\n",
    "straight_line(coordinates)"
   ]
  },
  {
   "cell_type": "code",
   "execution_count": 28,
   "metadata": {},
   "outputs": [
    {
     "data": {
      "text/plain": [
       "False"
      ]
     },
     "execution_count": 28,
     "metadata": {},
     "output_type": "execute_result"
    }
   ],
   "source": [
    "coordinates = [[1, 1], [2, 2], [3, 4], [4, 5], [5, 6], [7, 7]]\n",
    "\n",
    "straight_line(coordinates)"
   ]
  },
  {
   "cell_type": "code",
   "execution_count": 29,
   "metadata": {},
   "outputs": [
    {
     "data": {
      "text/plain": [
       "True"
      ]
     },
     "execution_count": 29,
     "metadata": {},
     "output_type": "execute_result"
    }
   ],
   "source": [
    "coordinates = [[0,0],[0,1],[0,-1]]\n",
    "\n",
    "straight_line(coordinates)"
   ]
  }
 ],
 "metadata": {
  "kernelspec": {
   "display_name": "Python 3",
   "language": "python",
   "name": "python3"
  },
  "language_info": {
   "codemirror_mode": {
    "name": "ipython",
    "version": 3
   },
   "file_extension": ".py",
   "mimetype": "text/x-python",
   "name": "python",
   "nbconvert_exporter": "python",
   "pygments_lexer": "ipython3",
   "version": "3.10.0"
  },
  "orig_nbformat": 4
 },
 "nbformat": 4,
 "nbformat_minor": 2
}
