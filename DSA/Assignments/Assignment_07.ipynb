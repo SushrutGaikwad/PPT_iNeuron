{
 "cells": [
  {
   "attachments": {},
   "cell_type": "markdown",
   "metadata": {},
   "source": [
    "# Assignment 7\n",
    "**Name: Sushrut Gaikwad**"
   ]
  },
  {
   "attachments": {},
   "cell_type": "markdown",
   "metadata": {},
   "source": [
    "## Question 1\n",
    "Given two strings `s` and `t`, determine if they are isomorphic. Two strings `s` and `t` are isomorphic if the characters in `s` can be replaced to get `t`. All occurrences of a character must be replaced with another character while preserving the order of characters. No two characters may map to the same character, but a character may map to itself.\n",
    "\n",
    "**Example:**\n",
    "\n",
    "Input: `s = \"egg\"`, `t = \"add\"`.\n",
    "\n",
    "Output: `True`."
   ]
  },
  {
   "attachments": {},
   "cell_type": "markdown",
   "metadata": {},
   "source": [
    "**Answer:**"
   ]
  },
  {
   "cell_type": "code",
   "execution_count": 46,
   "metadata": {},
   "outputs": [],
   "source": [
    "def isomorphic(s: str, t: str):\n",
    "    if len(s) != len(t):\n",
    "        return False\n",
    "    else:\n",
    "        hm_s = dict()\n",
    "        hm_t = dict()\n",
    "\n",
    "        for i in range(len(s)):\n",
    "            if s[i] in hm_s.keys():\n",
    "                hm_s[s[i]] += 1\n",
    "            else:\n",
    "                hm_s[s[i]] = 1\n",
    "\n",
    "        for i in range(len(t)):\n",
    "            if t[i] in hm_t.keys():\n",
    "                hm_t[t[i]] += 1\n",
    "            else:\n",
    "                hm_t[t[i]] = 1\n",
    "\n",
    "        return list(hm_s.values()) == list(hm_t.values())"
   ]
  },
  {
   "cell_type": "code",
   "execution_count": 47,
   "metadata": {},
   "outputs": [
    {
     "data": {
      "text/plain": [
       "True"
      ]
     },
     "execution_count": 47,
     "metadata": {},
     "output_type": "execute_result"
    }
   ],
   "source": [
    "s = \"egg\"\n",
    "t = \"add\"\n",
    "\n",
    "isomorphic(s, t)"
   ]
  },
  {
   "cell_type": "code",
   "execution_count": 48,
   "metadata": {},
   "outputs": [
    {
     "data": {
      "text/plain": [
       "False"
      ]
     },
     "execution_count": 48,
     "metadata": {},
     "output_type": "execute_result"
    }
   ],
   "source": [
    "s = \"foo\"\n",
    "t = \"bar\"\n",
    "\n",
    "isomorphic(s, t)"
   ]
  },
  {
   "cell_type": "code",
   "execution_count": 49,
   "metadata": {},
   "outputs": [
    {
     "data": {
      "text/plain": [
       "True"
      ]
     },
     "execution_count": 49,
     "metadata": {},
     "output_type": "execute_result"
    }
   ],
   "source": [
    "s = \"paper\"\n",
    "t = \"title\"\n",
    "\n",
    "isomorphic(s, t)"
   ]
  },
  {
   "attachments": {},
   "cell_type": "markdown",
   "metadata": {},
   "source": [
    "## Question 2\n",
    "Given a string `num` which represents an integer, return `True` if `num` is a strobogrammatic number. A strobogrammatic number is a number that looks the same when rotated 180 degrees (looked at upside down).\n",
    "\n",
    "**Example:**\n",
    "\n",
    "Input: `num = \"69\"`.\n",
    "\n",
    "Output: `True`."
   ]
  },
  {
   "attachments": {},
   "cell_type": "markdown",
   "metadata": {},
   "source": [
    "**Answer:**"
   ]
  },
  {
   "cell_type": "code",
   "execution_count": 118,
   "metadata": {},
   "outputs": [],
   "source": [
    "def reverse_arr(arr: list):\n",
    "    arr2 = arr.copy()\n",
    "    j = len(arr2) - 1\n",
    "    for i in range(len(arr2) // 2):\n",
    "        arr2[i], arr2[j] = arr2[j], arr2[i]\n",
    "        j -= 1\n",
    "    return arr2\n",
    "\n",
    "def strobogrammatic_number(num: str):\n",
    "    num_arr = []\n",
    "\n",
    "    for char in num:\n",
    "        num_arr.append(char)\n",
    "\n",
    "    rev_num_arr = reverse_arr(num_arr)\n",
    "\n",
    "    i = 0\n",
    "    while i < len(rev_num_arr):\n",
    "        if rev_num_arr[i] == \"9\":\n",
    "            rev_num_arr[i] = \"6\"\n",
    "        elif rev_num_arr[i] == \"6\":\n",
    "            rev_num_arr[i] = \"9\"\n",
    "        i += 1\n",
    "\n",
    "    if rev_num_arr == num_arr:\n",
    "        return True\n",
    "    else:\n",
    "        return False"
   ]
  },
  {
   "cell_type": "code",
   "execution_count": 119,
   "metadata": {},
   "outputs": [
    {
     "data": {
      "text/plain": [
       "True"
      ]
     },
     "execution_count": 119,
     "metadata": {},
     "output_type": "execute_result"
    }
   ],
   "source": [
    "num = \"69\"\n",
    "\n",
    "strobogrammatic_number(num)"
   ]
  },
  {
   "cell_type": "code",
   "execution_count": 120,
   "metadata": {},
   "outputs": [
    {
     "data": {
      "text/plain": [
       "False"
      ]
     },
     "execution_count": 120,
     "metadata": {},
     "output_type": "execute_result"
    }
   ],
   "source": [
    "num = \"6996\"\n",
    "\n",
    "strobogrammatic_number(num)"
   ]
  },
  {
   "cell_type": "code",
   "execution_count": 121,
   "metadata": {},
   "outputs": [
    {
     "data": {
      "text/plain": [
       "True"
      ]
     },
     "execution_count": 121,
     "metadata": {},
     "output_type": "execute_result"
    }
   ],
   "source": [
    "num = \"1001\"\n",
    "\n",
    "strobogrammatic_number(num)"
   ]
  },
  {
   "cell_type": "code",
   "execution_count": 122,
   "metadata": {},
   "outputs": [
    {
     "data": {
      "text/plain": [
       "True"
      ]
     },
     "execution_count": 122,
     "metadata": {},
     "output_type": "execute_result"
    }
   ],
   "source": [
    "num = \"1691\"\n",
    "\n",
    "strobogrammatic_number(num)"
   ]
  },
  {
   "cell_type": "code",
   "execution_count": 123,
   "metadata": {},
   "outputs": [
    {
     "data": {
      "text/plain": [
       "True"
      ]
     },
     "execution_count": 123,
     "metadata": {},
     "output_type": "execute_result"
    }
   ],
   "source": [
    "num = \"11\"\n",
    "\n",
    "strobogrammatic_number(num)"
   ]
  },
  {
   "cell_type": "code",
   "execution_count": 124,
   "metadata": {},
   "outputs": [
    {
     "data": {
      "text/plain": [
       "False"
      ]
     },
     "execution_count": 124,
     "metadata": {},
     "output_type": "execute_result"
    }
   ],
   "source": [
    "num = \"10\"\n",
    "\n",
    "strobogrammatic_number(num)"
   ]
  },
  {
   "cell_type": "code",
   "execution_count": 125,
   "metadata": {},
   "outputs": [
    {
     "data": {
      "text/plain": [
       "False"
      ]
     },
     "execution_count": 125,
     "metadata": {},
     "output_type": "execute_result"
    }
   ],
   "source": [
    "num = \"6\"\n",
    "\n",
    "strobogrammatic_number(num)"
   ]
  },
  {
   "cell_type": "code",
   "execution_count": 126,
   "metadata": {},
   "outputs": [
    {
     "data": {
      "text/plain": [
       "True"
      ]
     },
     "execution_count": 126,
     "metadata": {},
     "output_type": "execute_result"
    }
   ],
   "source": [
    "num = \"1\"\n",
    "\n",
    "strobogrammatic_number(num)"
   ]
  },
  {
   "attachments": {},
   "cell_type": "markdown",
   "metadata": {},
   "source": [
    "## Question 3\n",
    "Given two non-negative integers, `num1` and `num2` represented as string, return the sum of `num1` and `num2` as a string. You must solve the problem without using any built-in library for handling large integers (such as BigInteger). You must also not convert the inputs to integers directly.\n",
    "\n",
    "Example:\n",
    "\n",
    "Input: `num1 = \"11\"`, `num2 = \"123\"`.\n",
    "\n",
    "Output: `\"134\"`."
   ]
  },
  {
   "attachments": {},
   "cell_type": "markdown",
   "metadata": {},
   "source": [
    "**Answer:**"
   ]
  },
  {
   "cell_type": "code",
   "execution_count": 133,
   "metadata": {},
   "outputs": [],
   "source": [
    "def str_to_num(num: str):\n",
    "    result = 0\n",
    "    for digit in num:\n",
    "        result = result * 10 + ord(digit) - ord(\"0\")\n",
    "    return result\n",
    "\n",
    "def add_num_in_str_format(num1: int, num2: int):\n",
    "    return str_to_num(num1) + str_to_num(num2)"
   ]
  },
  {
   "cell_type": "code",
   "execution_count": 134,
   "metadata": {},
   "outputs": [
    {
     "data": {
      "text/plain": [
       "134"
      ]
     },
     "execution_count": 134,
     "metadata": {},
     "output_type": "execute_result"
    }
   ],
   "source": [
    "num1 = \"11\"\n",
    "num2 = \"123\"\n",
    "\n",
    "add_num_in_str_format(num1, num2)"
   ]
  },
  {
   "attachments": {},
   "cell_type": "markdown",
   "metadata": {},
   "source": [
    "## Question 4\n",
    "Given a string `s`, reverse the order of characters in each word within a sentence while still preserving whitespace and initial word order.\n",
    "\n",
    "**Example:**\n",
    "\n",
    "Input: `s = \"Let's take LeetCode contest\"`.\n",
    "\n",
    "Output: `\"s'teL ekat edoCteeL tsetnoc\"`."
   ]
  },
  {
   "attachments": {},
   "cell_type": "markdown",
   "metadata": {},
   "source": [
    "**Answer:**"
   ]
  },
  {
   "cell_type": "code",
   "execution_count": 157,
   "metadata": {},
   "outputs": [],
   "source": [
    "def reverse_word_chars(s: str):\n",
    "    s = \"\".join([s, \" \"])\n",
    "    s_split_arr = []\n",
    "    j = 0\n",
    "    for i in range(len(s)):\n",
    "        if s[i] == \" \":\n",
    "            s_split_arr.append(s[j:i])\n",
    "            i += 1\n",
    "            j = i\n",
    "    for i in range(len(s_split_arr)):\n",
    "        s_split_arr[i] = s_split_arr[i][::-1]\n",
    "    result = \" \".join(s_split_arr)\n",
    "    return result"
   ]
  },
  {
   "cell_type": "code",
   "execution_count": 158,
   "metadata": {},
   "outputs": [
    {
     "data": {
      "text/plain": [
       "\"s'teL ekat edoCteeL tsetnoc\""
      ]
     },
     "execution_count": 158,
     "metadata": {},
     "output_type": "execute_result"
    }
   ],
   "source": [
    "s = \"Let's take LeetCode contest\"\n",
    "\n",
    "reverse_word_chars(s)"
   ]
  },
  {
   "cell_type": "code",
   "execution_count": 159,
   "metadata": {},
   "outputs": [
    {
     "data": {
      "text/plain": [
       "'doG gniD'"
      ]
     },
     "execution_count": 159,
     "metadata": {},
     "output_type": "execute_result"
    }
   ],
   "source": [
    "s = \"God Ding\"\n",
    "reverse_word_chars(s)"
   ]
  },
  {
   "attachments": {},
   "cell_type": "markdown",
   "metadata": {},
   "source": [
    "## Question 5\n",
    "Given a string `s` and an integer `k`, reverse the first `k` characters for every `2k` characters counting from the start of the string. If there are fewer than `k` characters left, reverse all of them. If there are less than `2k` but greater than or equal to `k` characters, then reverse the first `k` characters and leave the other as original.\n",
    "\n",
    "**Example:**\n",
    "\n",
    "Input: `s = \"abcdefg\"`, `k = 2`.\n",
    "\n",
    "Output: `\"bacdfeg\"`."
   ]
  },
  {
   "attachments": {},
   "cell_type": "markdown",
   "metadata": {},
   "source": [
    "**Answer:**"
   ]
  },
  {
   "cell_type": "code",
   "execution_count": null,
   "metadata": {},
   "outputs": [],
   "source": []
  },
  {
   "attachments": {},
   "cell_type": "markdown",
   "metadata": {},
   "source": [
    "## Question 6\n",
    "Given two strings `s` and `goal`, return `True` if and only if `s` can become `goal` after some number of shifts on `s`. A shift on `s` consists of moving the leftmost character of `s` to the rightmost position.\n",
    "* For example, if `s = \"abcde\"`, then it will be `\"bcdea\"` after one shift.\n",
    "\n",
    "**Example:**\n",
    "\n",
    "Input: `s = \"abcde\"`, `goal = \"cdeab\"`.\n",
    "\n",
    "Output: `True`."
   ]
  },
  {
   "attachments": {},
   "cell_type": "markdown",
   "metadata": {},
   "source": [
    "**Answer:**"
   ]
  },
  {
   "cell_type": "code",
   "execution_count": 191,
   "metadata": {},
   "outputs": [],
   "source": [
    "def s_can_become_goal(s: str, goal: str):\n",
    "    list_s = list(s)\n",
    "    list_goal = list(goal)\n",
    "\n",
    "    for _ in range(len(list_s)):\n",
    "        if list_s == list_goal:\n",
    "            return True\n",
    "        list_s.append(list_s[0])\n",
    "        list_s = list_s[1:]\n",
    "    return False"
   ]
  },
  {
   "cell_type": "code",
   "execution_count": 192,
   "metadata": {},
   "outputs": [
    {
     "data": {
      "text/plain": [
       "True"
      ]
     },
     "execution_count": 192,
     "metadata": {},
     "output_type": "execute_result"
    }
   ],
   "source": [
    "s = \"abcde\"\n",
    "goal = \"cdeab\"\n",
    "\n",
    "s_can_become_goal(s, goal)"
   ]
  },
  {
   "cell_type": "code",
   "execution_count": 193,
   "metadata": {},
   "outputs": [
    {
     "data": {
      "text/plain": [
       "False"
      ]
     },
     "execution_count": 193,
     "metadata": {},
     "output_type": "execute_result"
    }
   ],
   "source": [
    "s = \"abcde\"\n",
    "goal = \"abced\"\n",
    "\n",
    "s_can_become_goal(s, goal)"
   ]
  },
  {
   "attachments": {},
   "cell_type": "markdown",
   "metadata": {},
   "source": [
    "## Question 7\n",
    "Given two strings `s` and `t`, return `True` if they are equal when both are typed into empty text editors. `'#'` means a backspace character. Note that after backspacing an empty text, the text will continue empty.\n",
    "\n",
    "**Example:**\n",
    "\n",
    "Input: `s = \"ab#c\"`, `t = \"ad#c\"`.\n",
    "\n",
    "Output: `True`.\n",
    "\n",
    "Explanation: Both `s` and `t` become `\"ac\"`."
   ]
  },
  {
   "cell_type": "code",
   "execution_count": 228,
   "metadata": {},
   "outputs": [],
   "source": [
    "def backspace_equal(s: str, t:str):\n",
    "    s_rev_list = []\n",
    "\n",
    "    i = len(s) - 1\n",
    "    while i >= 0:\n",
    "        if s[i] != \"#\":\n",
    "            s_rev_list.append(s[i])\n",
    "            i -= 1\n",
    "        else:\n",
    "            i -= 2\n",
    "\n",
    "    t_rev_list = []\n",
    "\n",
    "    i = len(t) - 1\n",
    "    while i >= 0:\n",
    "        if t[i] != \"#\":\n",
    "            t_rev_list.append(t[i])\n",
    "            i -= 1\n",
    "        else:\n",
    "            i -= 2\n",
    "    \n",
    "    if s_rev_list == t_rev_list:\n",
    "        return True\n",
    "    else:\n",
    "        return False"
   ]
  },
  {
   "cell_type": "code",
   "execution_count": 229,
   "metadata": {},
   "outputs": [
    {
     "data": {
      "text/plain": [
       "True"
      ]
     },
     "execution_count": 229,
     "metadata": {},
     "output_type": "execute_result"
    }
   ],
   "source": [
    "s = \"ab#c\"\n",
    "t = \"ad#c\"\n",
    "\n",
    "backspace_equal(s, t)"
   ]
  },
  {
   "cell_type": "code",
   "execution_count": 230,
   "metadata": {},
   "outputs": [
    {
     "data": {
      "text/plain": [
       "True"
      ]
     },
     "execution_count": 230,
     "metadata": {},
     "output_type": "execute_result"
    }
   ],
   "source": [
    "s = \"abcd#e\"\n",
    "t = \"abf#ce\"\n",
    "\n",
    "backspace_equal(s, t)"
   ]
  },
  {
   "cell_type": "code",
   "execution_count": null,
   "metadata": {},
   "outputs": [],
   "source": [
    "s = \"abcd#e\"\n",
    "t = \"abf#ce\"\n",
    "\n",
    "backspace_equal(s, t)"
   ]
  },
  {
   "cell_type": "code",
   "execution_count": null,
   "metadata": {},
   "outputs": [],
   "source": []
  },
  {
   "cell_type": "code",
   "execution_count": null,
   "metadata": {},
   "outputs": [],
   "source": []
  },
  {
   "cell_type": "code",
   "execution_count": 215,
   "metadata": {},
   "outputs": [],
   "source": [
    "s = \"ab#c\"\n",
    "t = \"ad#c\""
   ]
  },
  {
   "cell_type": "code",
   "execution_count": 216,
   "metadata": {},
   "outputs": [
    {
     "data": {
      "text/plain": [
       "['c', 'a']"
      ]
     },
     "execution_count": 216,
     "metadata": {},
     "output_type": "execute_result"
    }
   ],
   "source": [
    "s_rev_list = []\n",
    "\n",
    "i = len(s) - 1\n",
    "while i >= 0:\n",
    "    if s[i] != \"#\":\n",
    "        s_rev_list.append(s[i])\n",
    "        i -= 1\n",
    "    else:\n",
    "        i -= 2\n",
    "\n",
    "s_rev_list"
   ]
  },
  {
   "cell_type": "code",
   "execution_count": 217,
   "metadata": {},
   "outputs": [
    {
     "data": {
      "text/plain": [
       "['c', 'a']"
      ]
     },
     "execution_count": 217,
     "metadata": {},
     "output_type": "execute_result"
    }
   ],
   "source": [
    "t_rev_list = []\n",
    "\n",
    "i = len(t) - 1\n",
    "while i >= 0:\n",
    "    if t[i] != \"#\":\n",
    "        t_rev_list.append(t[i])\n",
    "        i -= 1\n",
    "    else:\n",
    "        i -= 2\n",
    "\n",
    "t_rev_list"
   ]
  },
  {
   "cell_type": "code",
   "execution_count": 221,
   "metadata": {},
   "outputs": [],
   "source": [
    "s = \"abcd#e\"\n",
    "t = \"abf#ce\"\n",
    "\n",
    "s_rev_list = []\n",
    "\n",
    "i = len(s) - 1\n",
    "while i >= 0:\n",
    "    if s[i] != \"#\":\n",
    "        s_rev_list.append(s[i])\n",
    "        i -= 1\n",
    "    else:\n",
    "        i -= 2\n",
    "\n",
    "t_rev_list = []\n",
    "\n",
    "i = len(t) - 1\n",
    "while i >= 0:\n",
    "    if t[i] != \"#\":\n",
    "        t_rev_list.append(t[i])\n",
    "        i -= 1\n",
    "    else:\n",
    "        i -= 2"
   ]
  },
  {
   "cell_type": "code",
   "execution_count": 222,
   "metadata": {},
   "outputs": [
    {
     "data": {
      "text/plain": [
       "['e', 'c', 'b', 'a']"
      ]
     },
     "execution_count": 222,
     "metadata": {},
     "output_type": "execute_result"
    }
   ],
   "source": [
    "s_rev_list"
   ]
  },
  {
   "cell_type": "code",
   "execution_count": 223,
   "metadata": {},
   "outputs": [
    {
     "data": {
      "text/plain": [
       "['e', 'c', 'b', 'a']"
      ]
     },
     "execution_count": 223,
     "metadata": {},
     "output_type": "execute_result"
    }
   ],
   "source": [
    "t_rev_list"
   ]
  },
  {
   "cell_type": "code",
   "execution_count": null,
   "metadata": {},
   "outputs": [],
   "source": []
  },
  {
   "cell_type": "code",
   "execution_count": 226,
   "metadata": {},
   "outputs": [],
   "source": [
    "s = \"abc##de\"\n",
    "t = \"abcde\"\n",
    "\n",
    "s_rev_list = []\n",
    "\n",
    "i = len(s) - 1\n",
    "while i >= 0:\n",
    "    if s[i] != \"#\":\n",
    "        s_rev_list.append(s[i])\n",
    "        i -= 1\n",
    "    else:\n",
    "        i -= 2\n",
    "\n",
    "t_rev_list = []\n",
    "\n",
    "i = len(t) - 1\n",
    "while i >= 0:\n",
    "    if t[i] != \"#\":\n",
    "        t_rev_list.append(t[i])\n",
    "        i -= 1\n",
    "    else:\n",
    "        i -= 2"
   ]
  },
  {
   "cell_type": "code",
   "execution_count": 227,
   "metadata": {},
   "outputs": [
    {
     "data": {
      "text/plain": [
       "(['e', 'd', 'c', 'b', 'a'], ['e', 'd', 'c', 'b', 'a'])"
      ]
     },
     "execution_count": 227,
     "metadata": {},
     "output_type": "execute_result"
    }
   ],
   "source": [
    "s_rev_list, t_rev_list"
   ]
  },
  {
   "cell_type": "code",
   "execution_count": null,
   "metadata": {},
   "outputs": [],
   "source": []
  },
  {
   "cell_type": "code",
   "execution_count": null,
   "metadata": {},
   "outputs": [],
   "source": []
  },
  {
   "cell_type": "code",
   "execution_count": null,
   "metadata": {},
   "outputs": [],
   "source": []
  },
  {
   "cell_type": "code",
   "execution_count": 203,
   "metadata": {},
   "outputs": [],
   "source": [
    "ps = len(s) - 1\n",
    "pt = len(t) - 1"
   ]
  },
  {
   "cell_type": "code",
   "execution_count": null,
   "metadata": {},
   "outputs": [],
   "source": [
    "equal = True\n",
    "\n",
    "while ps >= 0 and pt >= 0:\n",
    "    if s[p] == \"#\" and t[p]"
   ]
  },
  {
   "cell_type": "code",
   "execution_count": null,
   "metadata": {},
   "outputs": [],
   "source": []
  },
  {
   "cell_type": "code",
   "execution_count": null,
   "metadata": {},
   "outputs": [],
   "source": []
  },
  {
   "cell_type": "code",
   "execution_count": null,
   "metadata": {},
   "outputs": [],
   "source": []
  },
  {
   "cell_type": "code",
   "execution_count": 195,
   "metadata": {},
   "outputs": [],
   "source": [
    "list_s = list(s)\n",
    "list_t = list(t)"
   ]
  },
  {
   "cell_type": "code",
   "execution_count": 196,
   "metadata": {},
   "outputs": [
    {
     "data": {
      "text/plain": [
       "['a', 'b', '#', 'c']"
      ]
     },
     "execution_count": 196,
     "metadata": {},
     "output_type": "execute_result"
    }
   ],
   "source": [
    "list_s"
   ]
  },
  {
   "cell_type": "code",
   "execution_count": 197,
   "metadata": {},
   "outputs": [
    {
     "data": {
      "text/plain": [
       "['a', 'd', '#', 'c']"
      ]
     },
     "execution_count": 197,
     "metadata": {},
     "output_type": "execute_result"
    }
   ],
   "source": [
    "list_t"
   ]
  },
  {
   "cell_type": "code",
   "execution_count": null,
   "metadata": {},
   "outputs": [],
   "source": []
  }
 ],
 "metadata": {
  "kernelspec": {
   "display_name": "Python 3",
   "language": "python",
   "name": "python3"
  },
  "language_info": {
   "codemirror_mode": {
    "name": "ipython",
    "version": 3
   },
   "file_extension": ".py",
   "mimetype": "text/x-python",
   "name": "python",
   "nbconvert_exporter": "python",
   "pygments_lexer": "ipython3",
   "version": "3.10.0"
  },
  "orig_nbformat": 4
 },
 "nbformat": 4,
 "nbformat_minor": 2
}
