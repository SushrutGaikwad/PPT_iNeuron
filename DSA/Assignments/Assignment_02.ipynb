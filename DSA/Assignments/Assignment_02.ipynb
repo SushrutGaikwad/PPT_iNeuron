{
 "cells": [
  {
   "attachments": {},
   "cell_type": "markdown",
   "metadata": {},
   "source": [
    "# Assignment 2\n",
    "**Name: Sushrut Gaikwad**"
   ]
  },
  {
   "attachments": {},
   "cell_type": "markdown",
   "metadata": {},
   "source": [
    "## Question 1\n",
    "Given an integer array `nums` of `2n` integers, group these integers into `n` pairs `(a1, b1)`, `(a2, b2)`, ..., `(an, bn)`, such that the sum of `min(ai, bi)` for all `i` is maximized. Return the maximized sum.\n",
    "\n",
    "**Example:**\n",
    "\n",
    "Input: `nums = [1, 4, 3, 2]`.\n",
    "\n",
    "Output: `4`.\n",
    "\n",
    "Explanation: All possible pairings (ignoring the ordering of elements) are:\n",
    "1. `(1, 4)`, `(2, 3)` -> `min(1, 4) + min(2, 3)` = `1 + 2` = `3`.\n",
    "2. `(1, 3)`, `(2, 4)` -> `min(1, 3) + min(2, 4)` = `1 + 2` = `3`.\n",
    "3. `(1, 2)`, `(3, 4)` -> `min(1, 2) + min(3, 4)` = `1 + 3` = `4`.\n",
    "\n",
    "So the maximum possible sum is 4."
   ]
  },
  {
   "attachments": {},
   "cell_type": "markdown",
   "metadata": {},
   "source": [
    "**Answer:**"
   ]
  },
  {
   "cell_type": "code",
   "execution_count": 5,
   "metadata": {},
   "outputs": [],
   "source": [
    "def maximized_sum(nums: list):\n",
    "    # Initializing the max_sum to 0\n",
    "    max_sum = 0\n",
    "    \n",
    "    # Sorting `nums`\n",
    "    nums.sort()\n",
    "    \n",
    "    # Looping over `nums` in steps of 2 to only get element at odd index\n",
    "    for i in range(0, len(nums) - 1, 2):\n",
    "        \n",
    "        # Incrementing max_sum\n",
    "        max_sum += nums[i]\n",
    "        \n",
    "    return max_sum"
   ]
  },
  {
   "cell_type": "code",
   "execution_count": 6,
   "metadata": {},
   "outputs": [
    {
     "data": {
      "text/plain": [
       "4"
      ]
     },
     "execution_count": 6,
     "metadata": {},
     "output_type": "execute_result"
    }
   ],
   "source": [
    "nums = [1, 4, 3, 2]\n",
    "maximized_sum(nums)"
   ]
  },
  {
   "cell_type": "code",
   "execution_count": 7,
   "metadata": {},
   "outputs": [
    {
     "data": {
      "text/plain": [
       "9"
      ]
     },
     "execution_count": 7,
     "metadata": {},
     "output_type": "execute_result"
    }
   ],
   "source": [
    "nums = [1, 4, 2, 5, 3, 7, 9]\n",
    "maximized_sum(nums)"
   ]
  },
  {
   "attachments": {},
   "cell_type": "markdown",
   "metadata": {},
   "source": [
    "## Question 2\n",
    "Alice has `n` candies, where the `i`-th candy is of type `candyType[i]`. Alice noticed that she started to gain weight, so she visited a doctor. The doctor advised Alice to only eat `n / 2` of the candies she has (`n` is always even). Alice likes her candies very much, and she wants to eat the maximum number of different types of candies while still following the doctor's advice. Given the integer array `candyType` of length `n`, return the maximum number of different types of candies she can eat if she only eats `n / 2` of them.\n",
    "\n",
    "**Example:**\n",
    "\n",
    "Input: `candyType = [1, 1, 2, 2, 3, 3]`.\n",
    "\n",
    "Output: `3`.\n",
    "\n",
    "Explanation: Alice can only eat `6 / 2 = 3` candies. Since there are only `3` types, she can eat one of each type."
   ]
  },
  {
   "attachments": {},
   "cell_type": "markdown",
   "metadata": {},
   "source": [
    "**Answer:**"
   ]
  },
  {
   "cell_type": "code",
   "execution_count": 4,
   "metadata": {},
   "outputs": [],
   "source": [
    "def max_diff_candies_alice_can_eat(candyType: list):\n",
    "    \n",
    "    # Getting the number of candies Alice has, i.e. `n`\n",
    "    n = len(candyType)\n",
    "    \n",
    "    # Getting all the unique candies in a set\n",
    "    candyTypes = set(candyType)\n",
    "    \n",
    "    # Getting the number of unique candies\n",
    "    different_types_of_candies = len(candyTypes)\n",
    "    \n",
    "    # Getting the number of candies doctor has advised Alice to eat\n",
    "    candies_alice_can_eat = n / 2\n",
    "    \n",
    "    # If-else clause according to the question\n",
    "    if candies_alice_can_eat >= different_types_of_candies:\n",
    "        return int(different_types_of_candies)\n",
    "    elif candies_alice_can_eat < different_types_of_candies:\n",
    "        return int(candies_alice_can_eat)"
   ]
  },
  {
   "cell_type": "code",
   "execution_count": 5,
   "metadata": {},
   "outputs": [
    {
     "data": {
      "text/plain": [
       "3"
      ]
     },
     "execution_count": 5,
     "metadata": {},
     "output_type": "execute_result"
    }
   ],
   "source": [
    "candyType = [1, 1, 2, 2, 3, 3]\n",
    "\n",
    "max_diff_candies_alice_can_eat(candyType)"
   ]
  },
  {
   "cell_type": "code",
   "execution_count": 6,
   "metadata": {},
   "outputs": [
    {
     "data": {
      "text/plain": [
       "4"
      ]
     },
     "execution_count": 6,
     "metadata": {},
     "output_type": "execute_result"
    }
   ],
   "source": [
    "candyType = [1, 2, 3, 4, 5, 1, 2, 1]\n",
    "\n",
    "max_diff_candies_alice_can_eat(candyType)"
   ]
  },
  {
   "attachments": {},
   "cell_type": "markdown",
   "metadata": {},
   "source": [
    "## Question 3\n",
    "We define a *harmonious array* as an array where the difference between its maximum value and its minimum value is exactly `1`. Given an integer array `nums`, return the length of its longest harmonious subsequence among all its possible subsequences. A subsequence of an array is a sequence that can be derived from the array by deleting some or no elements without changing the order of the remaining elements.\n",
    "\n",
    "**Examples:**\n",
    "\n",
    "Input: `nums = [1, 3, 2, 2, 5, 2, 3, 7]`.\n",
    "\n",
    "Output: `5`.\n",
    "\n",
    "Explanation: The longest harmonious subsequence is `[3, 2, 2, 2, 3]`."
   ]
  },
  {
   "attachments": {},
   "cell_type": "markdown",
   "metadata": {},
   "source": [
    "**Answer:**"
   ]
  },
  {
   "cell_type": "code",
   "execution_count": 7,
   "metadata": {},
   "outputs": [],
   "source": [
    "def length_of_longest_harmonious_subsequence(nums: list):\n",
    "    \n",
    "    # Initializing an empty dictionary that will store the count of elements in `nums`\n",
    "    count_dict = dict()\n",
    "    \n",
    "    # Populating the dictionary by iterating over `nums`\n",
    "    for num in nums:\n",
    "        if num in count_dict.keys():\n",
    "            count_dict[num] += 1\n",
    "        else:\n",
    "            count_dict[num] = 1\n",
    "    \n",
    "    # Initializing an empty list that will contain the length of all harmonious subsequences\n",
    "    l = []\n",
    "    \n",
    "    # Populating the list with the length of all harmonious subsequences\n",
    "    for key in count_dict:\n",
    "        if (key + 1) in count_dict:\n",
    "            l.append(count_dict[key] + count_dict[key + 1])\n",
    "    \n",
    "    # Returning the maximum value in `l` if it is non-empty, else returning 0\n",
    "    if l:\n",
    "        return max(l)\n",
    "    else:\n",
    "        return 0"
   ]
  },
  {
   "cell_type": "code",
   "execution_count": 8,
   "metadata": {},
   "outputs": [
    {
     "data": {
      "text/plain": [
       "5"
      ]
     },
     "execution_count": 8,
     "metadata": {},
     "output_type": "execute_result"
    }
   ],
   "source": [
    "nums = [1, 3, 2, 2, 5, 2, 3, 7]\n",
    "\n",
    "length_of_longest_harmonious_subsequence(nums)"
   ]
  },
  {
   "cell_type": "code",
   "execution_count": 9,
   "metadata": {},
   "outputs": [
    {
     "data": {
      "text/plain": [
       "2"
      ]
     },
     "execution_count": 9,
     "metadata": {},
     "output_type": "execute_result"
    }
   ],
   "source": [
    "nums = [1, 2, 5, 6, 3, 4, 8, 9]\n",
    "\n",
    "length_of_longest_harmonious_subsequence(nums)"
   ]
  },
  {
   "cell_type": "code",
   "execution_count": 10,
   "metadata": {},
   "outputs": [
    {
     "data": {
      "text/plain": [
       "0"
      ]
     },
     "execution_count": 10,
     "metadata": {},
     "output_type": "execute_result"
    }
   ],
   "source": [
    "nums = [2, 2, 2]\n",
    "\n",
    "length_of_longest_harmonious_subsequence(nums)"
   ]
  },
  {
   "attachments": {},
   "cell_type": "markdown",
   "metadata": {},
   "source": [
    "## Question 4\n",
    "You have a long flowerbed in which some of the plots are planted, and some are not. However, flowers cannot be planted in adjacent plots. Given an integer array `flowerbed` containing `0`'s and `1`'s, where `0` means empty and `1` means not empty, and an integer `n`, return `True` if `n` new flowers can be planted in the flowerbed without violating the no-adjacent-flowers rule and `False` otherwise.\n",
    "\n",
    "**Example:**\n",
    "\n",
    "Input: `flowerbed = [1, 0, 0, 0, 1]`, `n = 1`.\n",
    "\n",
    "Output: `True`."
   ]
  },
  {
   "attachments": {},
   "cell_type": "markdown",
   "metadata": {},
   "source": [
    "**Answer:**"
   ]
  },
  {
   "cell_type": "code",
   "execution_count": 37,
   "metadata": {},
   "outputs": [],
   "source": [
    "def number_of_new_flowers_that_can_be_planted(flowerbed: list, n: int):\n",
    "    # Initializing the number of flowers that can be planted\n",
    "    count = 0\n",
    "    \n",
    "    # Looping over the flowerbed and checking if there are 3 consecutive empty plots\n",
    "    for i in range(len(flowerbed) - 2):\n",
    "        if (flowerbed[i] == 0) and (flowerbed[i+1] == 0) and (flowerbed[i+2] == 0):\n",
    "            count += 1\n",
    "    \n",
    "    # We return `True` if n <= count, else `False`\n",
    "    if n <= count:\n",
    "        return True\n",
    "    else:\n",
    "        return False"
   ]
  },
  {
   "cell_type": "code",
   "execution_count": 38,
   "metadata": {},
   "outputs": [
    {
     "data": {
      "text/plain": [
       "True"
      ]
     },
     "execution_count": 38,
     "metadata": {},
     "output_type": "execute_result"
    }
   ],
   "source": [
    "flowerbed = [1, 0, 0, 0, 1]\n",
    "n = 1\n",
    "\n",
    "number_of_new_flowers_that_can_be_planted(flowerbed, n)"
   ]
  },
  {
   "cell_type": "code",
   "execution_count": 39,
   "metadata": {},
   "outputs": [
    {
     "data": {
      "text/plain": [
       "False"
      ]
     },
     "execution_count": 39,
     "metadata": {},
     "output_type": "execute_result"
    }
   ],
   "source": [
    "flowerbed = [1, 0, 1, 0, 1]\n",
    "n = 1\n",
    "\n",
    "number_of_new_flowers_that_can_be_planted(flowerbed, n)"
   ]
  },
  {
   "cell_type": "code",
   "execution_count": 40,
   "metadata": {},
   "outputs": [
    {
     "data": {
      "text/plain": [
       "True"
      ]
     },
     "execution_count": 40,
     "metadata": {},
     "output_type": "execute_result"
    }
   ],
   "source": [
    "flowerbed = [1, 0, 0, 0, 1, 0, 0, 0, 1]\n",
    "n = 2\n",
    "\n",
    "number_of_new_flowers_that_can_be_planted(flowerbed, n)"
   ]
  },
  {
   "cell_type": "code",
   "execution_count": 41,
   "metadata": {},
   "outputs": [
    {
     "data": {
      "text/plain": [
       "True"
      ]
     },
     "execution_count": 41,
     "metadata": {},
     "output_type": "execute_result"
    }
   ],
   "source": [
    "flowerbed = [1, 0, 0, 0, 1, 0, 0, 0, 1]\n",
    "n = 1\n",
    "\n",
    "number_of_new_flowers_that_can_be_planted(flowerbed, n)"
   ]
  },
  {
   "cell_type": "code",
   "execution_count": 42,
   "metadata": {},
   "outputs": [
    {
     "data": {
      "text/plain": [
       "False"
      ]
     },
     "execution_count": 42,
     "metadata": {},
     "output_type": "execute_result"
    }
   ],
   "source": [
    "flowerbed = [1, 0, 0, 0, 1, 0, 0, 0, 1]\n",
    "n = 3\n",
    "\n",
    "number_of_new_flowers_that_can_be_planted(flowerbed, n)"
   ]
  },
  {
   "cell_type": "code",
   "execution_count": 45,
   "metadata": {},
   "outputs": [
    {
     "data": {
      "text/plain": [
       "False"
      ]
     },
     "execution_count": 45,
     "metadata": {},
     "output_type": "execute_result"
    }
   ],
   "source": [
    "flowerbed = [1, 1, 0, 0]\n",
    "n = 1\n",
    "\n",
    "number_of_new_flowers_that_can_be_planted(flowerbed, n)"
   ]
  },
  {
   "cell_type": "code",
   "execution_count": 46,
   "metadata": {},
   "outputs": [
    {
     "data": {
      "text/plain": [
       "True"
      ]
     },
     "execution_count": 46,
     "metadata": {},
     "output_type": "execute_result"
    }
   ],
   "source": [
    "flowerbed = [1, 1, 0, 0]\n",
    "n = 0\n",
    "\n",
    "number_of_new_flowers_that_can_be_planted(flowerbed, n)"
   ]
  },
  {
   "attachments": {},
   "cell_type": "markdown",
   "metadata": {},
   "source": [
    "## Question 5\n",
    "Given an integer array `nums`, find three numbers whose product is maximum and return the maximum product.\n",
    "\n",
    "**Examples:**\n",
    "\n",
    "Input: `nums = [1, 2, 3]`.\n",
    "\n",
    "Output: `6`."
   ]
  },
  {
   "attachments": {},
   "cell_type": "markdown",
   "metadata": {},
   "source": [
    "**Answer:**"
   ]
  },
  {
   "cell_type": "code",
   "execution_count": 54,
   "metadata": {},
   "outputs": [],
   "source": [
    "def maximum_product_of_three_numbers(nums: list):\n",
    "    # Sorting\n",
    "    nums.sort()\n",
    "    \n",
    "    # Initializing a list that will contain the possible maximum three element products\n",
    "    possible_max_products = []\n",
    "    \n",
    "    # Only two cases in which the product of three elements in a sorted array will be maximum\n",
    "    possible_max_products.append(nums[-1]*nums[-2]*nums[-3])\n",
    "    possible_max_products.append(nums[0]*nums[1]*nums[-1])\n",
    "    \n",
    "    return max(possible_max_products)"
   ]
  },
  {
   "cell_type": "code",
   "execution_count": 55,
   "metadata": {},
   "outputs": [
    {
     "data": {
      "text/plain": [
       "200"
      ]
     },
     "execution_count": 55,
     "metadata": {},
     "output_type": "execute_result"
    }
   ],
   "source": [
    "nums = [0, 1, 2, 3, 5, -4, -10]\n",
    "\n",
    "maximum_product_of_three_numbers(nums)"
   ]
  },
  {
   "cell_type": "code",
   "execution_count": 56,
   "metadata": {},
   "outputs": [
    {
     "data": {
      "text/plain": [
       "6"
      ]
     },
     "execution_count": 56,
     "metadata": {},
     "output_type": "execute_result"
    }
   ],
   "source": [
    "nums = [1, 2, 3]\n",
    "\n",
    "maximum_product_of_three_numbers(nums)"
   ]
  },
  {
   "cell_type": "code",
   "execution_count": 57,
   "metadata": {},
   "outputs": [
    {
     "data": {
      "text/plain": [
       "6"
      ]
     },
     "execution_count": 57,
     "metadata": {},
     "output_type": "execute_result"
    }
   ],
   "source": [
    "nums = [-10, 0, 1, 2, 3]\n",
    "\n",
    "maximum_product_of_three_numbers(nums)"
   ]
  },
  {
   "cell_type": "code",
   "execution_count": 58,
   "metadata": {},
   "outputs": [
    {
     "data": {
      "text/plain": [
       "24"
      ]
     },
     "execution_count": 58,
     "metadata": {},
     "output_type": "execute_result"
    }
   ],
   "source": [
    "nums = [1, 2, 3, 4]\n",
    "\n",
    "maximum_product_of_three_numbers(nums)"
   ]
  },
  {
   "cell_type": "code",
   "execution_count": 59,
   "metadata": {},
   "outputs": [
    {
     "data": {
      "text/plain": [
       "-6"
      ]
     },
     "execution_count": 59,
     "metadata": {},
     "output_type": "execute_result"
    }
   ],
   "source": [
    "nums = [-1, -2, -3]\n",
    "\n",
    "maximum_product_of_three_numbers(nums)"
   ]
  },
  {
   "cell_type": "code",
   "execution_count": 60,
   "metadata": {},
   "outputs": [
    {
     "data": {
      "text/plain": [
       "0"
      ]
     },
     "execution_count": 60,
     "metadata": {},
     "output_type": "execute_result"
    }
   ],
   "source": [
    "nums = [0, 1, 2]\n",
    "\n",
    "maximum_product_of_three_numbers(nums)"
   ]
  },
  {
   "cell_type": "code",
   "execution_count": 61,
   "metadata": {},
   "outputs": [
    {
     "data": {
      "text/plain": [
       "180"
      ]
     },
     "execution_count": 61,
     "metadata": {},
     "output_type": "execute_result"
    }
   ],
   "source": [
    "nums = [-10, -9, 1, 2]\n",
    "\n",
    "maximum_product_of_three_numbers(nums)"
   ]
  },
  {
   "attachments": {},
   "cell_type": "markdown",
   "metadata": {},
   "source": [
    "## Question 6\n",
    "Given an array of integers `nums` which is sorted in ascending order, and an integer `target`, write a function to search `target` in `nums`. If `target` exists, then return its index. Otherwise, return `-1`. You must write an algorithm with $\\mathcal{O}\\left(\\log n\\right)$ runtime complexity.\n",
    "\n",
    "**Example:**\n",
    "\n",
    "Input: `nums = [-1, 0, 3, 5, 9, 12]`, `target = 9`.\n",
    "\n",
    "Output: `4`.\n",
    "\n",
    "Explanation: `9` exists in nums and its index is `4`."
   ]
  },
  {
   "attachments": {},
   "cell_type": "markdown",
   "metadata": {},
   "source": [
    "**Answer:**"
   ]
  },
  {
   "cell_type": "code",
   "execution_count": 71,
   "metadata": {},
   "outputs": [],
   "source": [
    "def index_of_target_in_a_list(nums: list, target: int):\n",
    "    result = -1\n",
    "    # Returning 0 for the case when `nums` is an empty list\n",
    "    if len(nums) == 0:\n",
    "        return 0\n",
    "    else:\n",
    "        # When `nums` is not empty\n",
    "        \n",
    "        # Initializing the lower and higher counter\n",
    "        lo = 0\n",
    "        hi = len(nums) - 1\n",
    "        \n",
    "        # Return -1 when `target` is greater than the largest element of `nums` or smaller than the smallest element of `nums`\n",
    "        if target > nums[hi] or target < nums[lo]:\n",
    "            return -1\n",
    "        else:\n",
    "            # When `target` is not greater than the largest element of `nums` or smaller than the smallest element of `nums`\n",
    "            \n",
    "            # Looping when the lower counter is less than or equal to the higher counter\n",
    "            while lo <= hi:\n",
    "                \n",
    "                # Calculating the middle position of the list `nums`\n",
    "                mid = (lo + hi) // 2  # Integer division\n",
    "                \n",
    "                # If the centre element is the `target`, we return it\n",
    "                if nums[mid] == target:\n",
    "                    result = mid\n",
    "                    return result\n",
    "                \n",
    "                # If the centre element is less than the target, \\\n",
    "                    # we update the lower counter one step above the middle position\n",
    "                elif nums[mid] < target:\n",
    "                    lo = mid + 1\n",
    "                \n",
    "                else:\n",
    "                    hi = mid - 1\n",
    "            return result"
   ]
  },
  {
   "cell_type": "code",
   "execution_count": 72,
   "metadata": {},
   "outputs": [
    {
     "data": {
      "text/plain": [
       "4"
      ]
     },
     "execution_count": 72,
     "metadata": {},
     "output_type": "execute_result"
    }
   ],
   "source": [
    "nums = [-1, 0, 3, 5, 9, 12]\n",
    "target = 9\n",
    "\n",
    "index_of_target_in_a_list(nums, target)"
   ]
  },
  {
   "cell_type": "code",
   "execution_count": 73,
   "metadata": {},
   "outputs": [
    {
     "data": {
      "text/plain": [
       "-1"
      ]
     },
     "execution_count": 73,
     "metadata": {},
     "output_type": "execute_result"
    }
   ],
   "source": [
    "nums = [-1, 0, 3, 5, 10, 12]\n",
    "target = 9\n",
    "\n",
    "index_of_target_in_a_list(nums, target)"
   ]
  },
  {
   "cell_type": "code",
   "execution_count": 74,
   "metadata": {},
   "outputs": [
    {
     "data": {
      "text/plain": [
       "2"
      ]
     },
     "execution_count": 74,
     "metadata": {},
     "output_type": "execute_result"
    }
   ],
   "source": [
    "nums = [-1, 0, 3, 5, 10, 12]\n",
    "target = 3\n",
    "\n",
    "index_of_target_in_a_list(nums, target)"
   ]
  },
  {
   "cell_type": "code",
   "execution_count": 75,
   "metadata": {},
   "outputs": [
    {
     "data": {
      "text/plain": [
       "-1"
      ]
     },
     "execution_count": 75,
     "metadata": {},
     "output_type": "execute_result"
    }
   ],
   "source": [
    "nums = [-1, 0, 3, 5, 10, 12]\n",
    "target = 100\n",
    "\n",
    "index_of_target_in_a_list(nums, target)"
   ]
  },
  {
   "attachments": {},
   "cell_type": "markdown",
   "metadata": {},
   "source": [
    "## Question 7\n",
    "An array is *monotonic* if it is either monotone increasing or monotone decreasing. An array `nums` is monotone increasing if for all `i <= j`, `nums[i] <= nums[j]`. An array `nums` is monotone decreasing if for all `i <= j`, `nums[i] >= nums[j]`. Given an integer array `nums`, return `True` if the given array is monotonic, or `False` otherwise.\n",
    "\n",
    "**Example:**\n",
    "\n",
    "Input: `nums = [1, 2, 2, 3]`.\n",
    "\n",
    "Output: `True`."
   ]
  },
  {
   "attachments": {},
   "cell_type": "markdown",
   "metadata": {},
   "source": [
    "**Answer:**"
   ]
  },
  {
   "cell_type": "code",
   "execution_count": 86,
   "metadata": {},
   "outputs": [],
   "source": [
    "def monotonic(nums: list):\n",
    "    sorted_nums = sorted(nums)\n",
    "    if nums == sorted_nums or nums == sorted_nums[::-1]:\n",
    "        return True\n",
    "    else:\n",
    "        return False"
   ]
  },
  {
   "cell_type": "code",
   "execution_count": 87,
   "metadata": {},
   "outputs": [
    {
     "data": {
      "text/plain": [
       "False"
      ]
     },
     "execution_count": 87,
     "metadata": {},
     "output_type": "execute_result"
    }
   ],
   "source": [
    "nums = [1, 2, 2, 3, -1]\n",
    "\n",
    "monotonic(nums)"
   ]
  },
  {
   "cell_type": "code",
   "execution_count": 88,
   "metadata": {},
   "outputs": [
    {
     "data": {
      "text/plain": [
       "True"
      ]
     },
     "execution_count": 88,
     "metadata": {},
     "output_type": "execute_result"
    }
   ],
   "source": [
    "nums = [1, 2, 2, 3]\n",
    "\n",
    "monotonic(nums)"
   ]
  },
  {
   "cell_type": "code",
   "execution_count": 89,
   "metadata": {},
   "outputs": [
    {
     "data": {
      "text/plain": [
       "True"
      ]
     },
     "execution_count": 89,
     "metadata": {},
     "output_type": "execute_result"
    }
   ],
   "source": [
    "nums = [4, 3, 3, 2, 1]\n",
    "\n",
    "monotonic(nums)"
   ]
  },
  {
   "attachments": {},
   "cell_type": "markdown",
   "metadata": {},
   "source": [
    "Another approach:"
   ]
  },
  {
   "cell_type": "code",
   "execution_count": 90,
   "metadata": {},
   "outputs": [],
   "source": [
    "def monotonic2(nums: list):\n",
    "    inc = True\n",
    "    dec = True\n",
    "    for i in range(len(nums) - 1):\n",
    "        if nums[i] < nums[i+1]:\n",
    "            inc = False\n",
    "            break\n",
    "    for i in range(len(nums) - 1):\n",
    "        if nums[i] > nums[i+1]:\n",
    "            dec = False\n",
    "            break\n",
    "    \n",
    "    result = inc or dec\n",
    "    return result"
   ]
  },
  {
   "cell_type": "code",
   "execution_count": 91,
   "metadata": {},
   "outputs": [
    {
     "data": {
      "text/plain": [
       "False"
      ]
     },
     "execution_count": 91,
     "metadata": {},
     "output_type": "execute_result"
    }
   ],
   "source": [
    "nums = [1, 2, 2, 3, -1]\n",
    "\n",
    "monotonic2(nums)"
   ]
  },
  {
   "cell_type": "code",
   "execution_count": 92,
   "metadata": {},
   "outputs": [
    {
     "data": {
      "text/plain": [
       "True"
      ]
     },
     "execution_count": 92,
     "metadata": {},
     "output_type": "execute_result"
    }
   ],
   "source": [
    "nums = [1, 2, 2, 3]\n",
    "\n",
    "monotonic2(nums)"
   ]
  },
  {
   "cell_type": "code",
   "execution_count": 93,
   "metadata": {},
   "outputs": [
    {
     "data": {
      "text/plain": [
       "True"
      ]
     },
     "execution_count": 93,
     "metadata": {},
     "output_type": "execute_result"
    }
   ],
   "source": [
    "nums = [4, 3, 3, 2, 1]\n",
    "\n",
    "monotonic2(nums)"
   ]
  },
  {
   "attachments": {},
   "cell_type": "markdown",
   "metadata": {},
   "source": [
    "## Question 8\n",
    "You are given an integer array `nums` and an integer `k`. In one operation, you can choose any index `i` where `i` is between `0` and `len(nums) - 1` and change `nums[i]` to `nums[i] + x` where `x` is an integer from the range `[-k, k]`. You can apply this operation at most once for each index `i`. The `score` of `nums` is the difference between the maximum and minimum elements in `nums`. Return the minimum `score` of `nums` after applying the mentioned operation at most once for each index in it.\n",
    "\n",
    "**Example:**\n",
    "\n",
    "Input: `nums = [1]`, `k = 0`.\n",
    "\n",
    "Output: `0`.\n",
    "\n",
    "Explanation: The `score` is `max(nums) - min(nums)` = `1 - 1` = `0`."
   ]
  },
  {
   "attachments": {},
   "cell_type": "markdown",
   "metadata": {},
   "source": [
    "**Answer:**"
   ]
  },
  {
   "cell_type": "code",
   "execution_count": null,
   "metadata": {},
   "outputs": [],
   "source": []
  }
 ],
 "metadata": {
  "kernelspec": {
   "display_name": "Python 3",
   "language": "python",
   "name": "python3"
  },
  "language_info": {
   "codemirror_mode": {
    "name": "ipython",
    "version": 3
   },
   "file_extension": ".py",
   "mimetype": "text/x-python",
   "name": "python",
   "nbconvert_exporter": "python",
   "pygments_lexer": "ipython3",
   "version": "3.10.0"
  },
  "orig_nbformat": 4
 },
 "nbformat": 4,
 "nbformat_minor": 2
}
