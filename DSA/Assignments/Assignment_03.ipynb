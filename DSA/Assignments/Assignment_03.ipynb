{
 "cells": [
  {
   "attachments": {},
   "cell_type": "markdown",
   "metadata": {},
   "source": [
    "# Assignment 3\n",
    "**Name: Sushrut Gaikwad**"
   ]
  },
  {
   "attachments": {},
   "cell_type": "markdown",
   "metadata": {},
   "source": [
    "## Question 1\n",
    "Given an integer array `nums` of length `n` and an integer `target`, find three integers in `nums` such that the sum is closest to the `target`. Return the sum of the three integers. You may assume that each input would have exactly one solution.\n",
    "\n",
    "**Example:**\n",
    "\n",
    "Input: `nums = [-1, 2, 1, -4]`, `target = 1`.\n",
    "\n",
    "Output: `2`.\n",
    "\n",
    "Explanation: The sum that is closest to the target is `2`. (`-1 + 2 + 1 = 2`)."
   ]
  },
  {
   "attachments": {},
   "cell_type": "markdown",
   "metadata": {},
   "source": [
    "**Answer:**"
   ]
  },
  {
   "cell_type": "code",
   "execution_count": 1,
   "metadata": {},
   "outputs": [],
   "source": [
    "def closest_three_integer_sum(nums: list, target: int):\n",
    "    # Initializing a list that will contain all the possible three integer sums\n",
    "    sums = []\n",
    "    \n",
    "    # Looping through `nums` and storing sums in `sums`\n",
    "    for i in range(len(nums)):\n",
    "        for j in range(i+1, len(nums)):\n",
    "            for k in range(j+1, len(nums)):\n",
    "                sums.append(nums[i]+nums[j]+nums[k])\n",
    "    \n",
    "    # Initializing `diff` to infinity and closest sum to \n",
    "    diff = float(\"inf\")\n",
    "    closest_sum = None\n",
    "\n",
    "    # Getting the closest sum\n",
    "    for sum in sums:\n",
    "        if abs(sum - target) < diff:\n",
    "            diff = abs(sum - target)\n",
    "            closest_sum = sum\n",
    "    return closest_sum"
   ]
  },
  {
   "cell_type": "code",
   "execution_count": 2,
   "metadata": {},
   "outputs": [
    {
     "data": {
      "text/plain": [
       "2"
      ]
     },
     "execution_count": 2,
     "metadata": {},
     "output_type": "execute_result"
    }
   ],
   "source": [
    "nums = [-1, 2, 1, -4]\n",
    "target = 1\n",
    "\n",
    "closest_three_integer_sum(nums, target)"
   ]
  },
  {
   "attachments": {},
   "cell_type": "markdown",
   "metadata": {},
   "source": [
    "## Question 2\n",
    "Given an array nums of `n` integers, return an array of all the unique quadruplets `[nums[a], nums[b], nums[c], nums[d]]` such that:\n",
    "* `0 <= a, b, c, d < n`\n",
    "* `a`, `b`, `c`, and `d` are distinct.\n",
    "* `nums[a] + nums[b] + nums[c] + nums[d] == target`\n",
    "\n",
    "You may return the answer in any order.\n",
    "\n",
    "**Example:**\n",
    "\n",
    "Input: `nums = [1, 0, -1, 0, -2, 2]`, `target = 0`.\n",
    "\n",
    "Output: `[[-2, -1, 1, 2],[-2, 0, 0, 2],[-1, 0, 0, 1]]`."
   ]
  },
  {
   "attachments": {},
   "cell_type": "markdown",
   "metadata": {},
   "source": [
    "**Answer:**"
   ]
  },
  {
   "cell_type": "code",
   "execution_count": 3,
   "metadata": {},
   "outputs": [],
   "source": [
    "def quadruplets(nums: list, target: int):\n",
    "    quadruplets = []\n",
    "\n",
    "    for i in range(len(nums)):\n",
    "        for j in range(i+1, len(nums)):\n",
    "            for k in range(j+1, len(nums)):\n",
    "                for l in range(k+1, len(nums)):\n",
    "                    if nums[i] + nums[j] + nums[k] + nums[l] == target:\n",
    "                        quadruplets.append([nums[i], nums[j], nums[k], nums[l]])\n",
    "    \n",
    "    return quadruplets"
   ]
  },
  {
   "cell_type": "code",
   "execution_count": 4,
   "metadata": {},
   "outputs": [
    {
     "data": {
      "text/plain": [
       "[[1, 0, -1, 0], [1, -1, -2, 2], [0, 0, -2, 2]]"
      ]
     },
     "execution_count": 4,
     "metadata": {},
     "output_type": "execute_result"
    }
   ],
   "source": [
    "nums = [1, 0, -1, 0, -2, 2]\n",
    "target = 0\n",
    "\n",
    "quadruplets(nums, target)"
   ]
  },
  {
   "attachments": {},
   "cell_type": "markdown",
   "metadata": {},
   "source": [
    "## Question 3\n",
    "A permutation of an array of integers is an arrangement of its members into a sequence or linear order. For example, for `arr = [1,2,3]`, the following are all the permutations of `arr`: `[1, 2, 3]`, `[1, 3, 2]`, `[2, 1, 3]`, `[2, 3, 1]`, `[3, 1, 2]`, `[3, 2, 1]`. The next permutation of an array of integers is the next lexicographically greater permutation of its integer. More formally, if all the permutations of the array are sorted in one container according to their lexicographical order, then the next permutation of that array is the permutation that follows it in the sorted container. If such an arrangement is not possible, the array must be rearranged as the lowest possible order (i.e., sorted in ascending order). For example:\n",
    "* The next permutation of `arr = [1, 2, 3]` is `[1, 3, 2]`.\n",
    "* Similarly, the next permutation of `arr = [2, 3, 1]` is `[3, 1, 2]`.\n",
    "* While the next permutation of `arr = [3, 2, 1]` is `[1, 2, 3]` because `[3, 2, 1]` does not have a lexicographical larger rearrangement.\n",
    "\n",
    "Given an array of integers `nums`, find the next permutation of `nums`. The replacement must be in place and use only constant extra memory.\n",
    "\n",
    "**Example:**\n",
    "\n",
    "Input: `nums = [1, 2, 3]`.\n",
    "\n",
    "Output: `[1, 3, 2]`."
   ]
  },
  {
   "attachments": {},
   "cell_type": "markdown",
   "metadata": {},
   "source": [
    "**Answer:**"
   ]
  },
  {
   "cell_type": "code",
   "execution_count": 5,
   "metadata": {},
   "outputs": [],
   "source": [
    "def next_permutation(nums):\n",
    "    i = len(nums) - 2\n",
    "    while i >= 0 and nums[i + 1] <= nums[i]:\n",
    "        i = i - 1\n",
    "    if i >= 0:\n",
    "        j = len(nums) - 1\n",
    "        while nums[j] <= nums[i]:\n",
    "            j = j - 1\n",
    "        nums[i], nums[j] = nums[j], nums[i]\n",
    "    reverse(nums, i + 1)\n",
    "    return nums\n",
    " \n",
    "def reverse(nums, start):\n",
    "    i, j = start, len(nums) - 1\n",
    "    while i < j:\n",
    "        nums[i], nums[j] = nums[j], nums[i]\n",
    "        i = i + 1\n",
    "        j = j - 1"
   ]
  },
  {
   "cell_type": "code",
   "execution_count": 6,
   "metadata": {},
   "outputs": [
    {
     "data": {
      "text/plain": [
       "[1, 3, 2]"
      ]
     },
     "execution_count": 6,
     "metadata": {},
     "output_type": "execute_result"
    }
   ],
   "source": [
    "nums = [1, 2, 3]\n",
    "\n",
    "next_permutation(nums)"
   ]
  },
  {
   "attachments": {},
   "cell_type": "markdown",
   "metadata": {},
   "source": [
    "## Question 4\n",
    "Given a sorted array of distinct integers `nums` and a `target` integer value, return the index if the `target` is found. If not, return the index where it would be if it were inserted in order. You must write an algorithm with $\\mathcal{O}\\left(\\log n\\right)$ runtime complexity.\n",
    "\n",
    "**Example:**\n",
    "\n",
    "Input: `nums = [1, 3, 5, 6]`, `target = 5`.\n",
    "\n",
    "Output: `2`."
   ]
  },
  {
   "attachments": {},
   "cell_type": "markdown",
   "metadata": {},
   "source": [
    "**Solution:**"
   ]
  },
  {
   "cell_type": "code",
   "execution_count": 7,
   "metadata": {},
   "outputs": [],
   "source": [
    "def index_of_target_in_a_list(nums: list, target: int):\n",
    "    \n",
    "    # Initializing `result` to `0` for the case when `nums` is an empty list\n",
    "    result = 0\n",
    "    if len(nums) == 0:\n",
    "        return result\n",
    "    else:\n",
    "        # When `nums` is not empty\n",
    "        \n",
    "        # Initializing the lower and higher counter\n",
    "        lo = 0\n",
    "        hi = len(nums) - 1\n",
    "        \n",
    "        # Result when `target` is greater than the largest element of `nums`\n",
    "        result = len(nums)\n",
    "        if target > nums[hi]:\n",
    "            return result\n",
    "        else:\n",
    "            # When `target` is not greater than the largest element of `nums`\n",
    "            \n",
    "            # Looping when the lower counter is less than or equal to the higher counter\n",
    "            while lo <= hi:\n",
    "                \n",
    "                # Calculating the middle position of the list `nums`\n",
    "                mid = (lo + hi) // 2  # Integer division\n",
    "                \n",
    "                # If the centre element is the `target`, we return it\n",
    "                if nums[mid] == target:\n",
    "                    result = mid\n",
    "                    return result\n",
    "                \n",
    "                # If the centre element is less than the target, \\\n",
    "                    # we update the lower counter one step above the middle position\n",
    "                elif nums[mid] < target:\n",
    "                    lo = mid + 1\n",
    "                \n",
    "                # If none of these cases are true, we return the middle position\n",
    "                else:\n",
    "                    result = mid\n",
    "                    hi = mid - 1\n",
    "            return result"
   ]
  },
  {
   "cell_type": "code",
   "execution_count": 8,
   "metadata": {},
   "outputs": [
    {
     "data": {
      "text/plain": [
       "2"
      ]
     },
     "execution_count": 8,
     "metadata": {},
     "output_type": "execute_result"
    }
   ],
   "source": [
    "nums = [1, 3, 5, 6]\n",
    "target = 5\n",
    "\n",
    "index_of_target_in_a_list(nums, target)"
   ]
  },
  {
   "attachments": {},
   "cell_type": "markdown",
   "metadata": {},
   "source": [
    "## Question 5\n",
    "You are given a large integer represented as an integer array `digits`, where each `digits[i]` is the `i`-th digit of the integer. The digits are ordered from most significant to least significant in left-to-right order. The large integer does not contain any leading `0`'s. Increment the large integer by one and return the resulting array of digits.\n",
    "\n",
    "**Example:**\n",
    "\n",
    "Input: `digits = [1, 2, 3]`.\n",
    "\n",
    "Output: `[1, 2, 4]`.\n",
    "\n",
    "Explanation: The array represents the integer `123`. Incrementing by one gives `123 + 1 = 124`. Thus, the result should be `[1, 2, 4]`."
   ]
  },
  {
   "attachments": {},
   "cell_type": "markdown",
   "metadata": {},
   "source": [
    "**Answer:**"
   ]
  },
  {
   "cell_type": "code",
   "execution_count": 9,
   "metadata": {},
   "outputs": [],
   "source": [
    "def increment_digits(digits: list):\n",
    "    # Creating the list of integers to a list of strings\n",
    "    str_digits = [f\"{digit}\" for digit in digits]\n",
    "    \n",
    "    # Creating the list of string to one single string\n",
    "    string = \"\".join(str_digits)\n",
    "    \n",
    "    # Converting the string to an integer\n",
    "    integer = int(string)\n",
    "    \n",
    "    # Incrementing the integer\n",
    "    new_integer = integer + 1\n",
    "    \n",
    "    # Converting back the incremented integer to a string\n",
    "    new_string = str(new_integer)\n",
    "    \n",
    "    # Creating the list out of digits of the incremented integer\n",
    "    new_digits = [int(digit) for digit in new_string]\n",
    "    \n",
    "    return new_digits"
   ]
  },
  {
   "cell_type": "code",
   "execution_count": 10,
   "metadata": {},
   "outputs": [
    {
     "data": {
      "text/plain": [
       "[1, 2, 4]"
      ]
     },
     "execution_count": 10,
     "metadata": {},
     "output_type": "execute_result"
    }
   ],
   "source": [
    "nums = [1, 2, 3]\n",
    "increment_digits(nums)"
   ]
  },
  {
   "attachments": {},
   "cell_type": "markdown",
   "metadata": {},
   "source": [
    "## Question 6\n",
    "Given a non-empty array of integers `nums`, every element appears twice except for one. Find that single one. You must implement a solution with a linear runtime complexity and use only constant extra space.\n",
    "\n",
    "**Example:**\n",
    "\n",
    "Input: `nums = [2, 2, 1]`.\n",
    "\n",
    "Output: `1`."
   ]
  },
  {
   "attachments": {},
   "cell_type": "markdown",
   "metadata": {},
   "source": [
    "**Answer:**"
   ]
  },
  {
   "cell_type": "code",
   "execution_count": 11,
   "metadata": {},
   "outputs": [],
   "source": [
    "def single_element(nums: list):\n",
    "    r = nums[0]\n",
    "    for i in range(1, len(nums)):\n",
    "        r ^= nums[i]\n",
    "    return r"
   ]
  },
  {
   "cell_type": "code",
   "execution_count": 12,
   "metadata": {},
   "outputs": [
    {
     "data": {
      "text/plain": [
       "3"
      ]
     },
     "execution_count": 12,
     "metadata": {},
     "output_type": "execute_result"
    }
   ],
   "source": [
    "nums = [2, 2, 1, 1, 3]\n",
    "\n",
    "single_element(nums)"
   ]
  },
  {
   "attachments": {},
   "cell_type": "markdown",
   "metadata": {},
   "source": [
    "## Question 7\n",
    "You are given an inclusive range `[lower, upper]` and a sorted unique integer array `nums`, where all elements are within the inclusive range. A number `x` is considered missing if `x` is in the range `[lower, upper]` and `x` is not in `nums`. Return the shortest sorted list of ranges that exactly covers all the missing numbers. That is, no element of `nums` is included in any of the ranges, and each missing number is covered by one of the ranges.\n",
    "\n",
    "**Example:**\n",
    "\n",
    "Input: `nums = [0, 1, 3, 50, 75]`, `lower = 0`, `upper = 99`.\n",
    "\n",
    "Output: `[[2, 2], [4, 49], [51, 74], [76, 99]]`.\n",
    "\n",
    "Explanation: The ranges are:\n",
    "\n",
    "`[2, 2]`\\\n",
    "`[4, 49]`\\\n",
    "`[51, 74]`\\\n",
    "`[76, 99]`"
   ]
  },
  {
   "cell_type": "code",
   "execution_count": 13,
   "metadata": {},
   "outputs": [],
   "source": [
    "from itertools import pairwise\n",
    "\n",
    "def missing_range(nums: list, lower: int, upper: int):\n",
    "    def f(a, b):\n",
    "        if a == b:\n",
    "            return a\n",
    "        else:\n",
    "            return [a, b]\n",
    "\n",
    "    n = len(nums)\n",
    "    if n == 0:\n",
    "        return [f(lower, upper)]\n",
    "    ans = []\n",
    "    if nums[0] > lower:\n",
    "        ans.append(f(lower, nums[0] - 1))\n",
    "    for a, b in pairwise(nums):\n",
    "        if b - a > 1:\n",
    "            ans.append(f(a + 1, b - 1))\n",
    "    if nums[-1] < upper:\n",
    "        ans.append(f(nums[-1] + 1, upper))\n",
    "    for i in range(len(ans)):\n",
    "        if type(ans[i]) == int:\n",
    "            ans[i] = [ans[i], ans[i]]\n",
    "    return ans"
   ]
  },
  {
   "cell_type": "code",
   "execution_count": 14,
   "metadata": {},
   "outputs": [
    {
     "data": {
      "text/plain": [
       "[[2, 2], [4, 49], [51, 74], [76, 99]]"
      ]
     },
     "execution_count": 14,
     "metadata": {},
     "output_type": "execute_result"
    }
   ],
   "source": [
    "nums = [0, 1, 3, 50, 75]\n",
    "lower = 0\n",
    "upper = 99\n",
    "\n",
    "missing_range(nums, lower, upper)"
   ]
  },
  {
   "attachments": {},
   "cell_type": "markdown",
   "metadata": {},
   "source": [
    "## Question 8\n",
    "Given an array of meeting time `intervals` where `intervals[i] = [starti, endi]`, determine if a person could attend all meetings.\n",
    "\n",
    "**Example:**\n",
    "\n",
    "Input: `intervals = [[0, 30], [5, 10], [15, 20]]`.\n",
    "Output: `False`."
   ]
  },
  {
   "attachments": {},
   "cell_type": "markdown",
   "metadata": {},
   "source": [
    "**Answer:**"
   ]
  },
  {
   "cell_type": "code",
   "execution_count": 15,
   "metadata": {},
   "outputs": [],
   "source": [
    "def can_attend_all_meetings(intervals: list):\n",
    "    for i in range(len(intervals)):\n",
    "        for j in range(i+1, len(intervals)):\n",
    "            if intervals[j][0] > intervals[i][0] and intervals[j][1] < intervals[i][1]:\n",
    "                return False\n",
    "    return True"
   ]
  },
  {
   "cell_type": "code",
   "execution_count": 16,
   "metadata": {},
   "outputs": [
    {
     "data": {
      "text/plain": [
       "False"
      ]
     },
     "execution_count": 16,
     "metadata": {},
     "output_type": "execute_result"
    }
   ],
   "source": [
    "intervals = [[0, 30], [5, 10], [15, 20]]\n",
    "\n",
    "can_attend_all_meetings(intervals)"
   ]
  },
  {
   "cell_type": "code",
   "execution_count": 17,
   "metadata": {},
   "outputs": [
    {
     "data": {
      "text/plain": [
       "True"
      ]
     },
     "execution_count": 17,
     "metadata": {},
     "output_type": "execute_result"
    }
   ],
   "source": [
    "intervals = [[4, 6], [7, 10]]\n",
    "\n",
    "can_attend_all_meetings(intervals)"
   ]
  }
 ],
 "metadata": {
  "kernelspec": {
   "display_name": "Python 3",
   "language": "python",
   "name": "python3"
  },
  "language_info": {
   "codemirror_mode": {
    "name": "ipython",
    "version": 3
   },
   "file_extension": ".py",
   "mimetype": "text/x-python",
   "name": "python",
   "nbconvert_exporter": "python",
   "pygments_lexer": "ipython3",
   "version": "3.10.0"
  },
  "orig_nbformat": 4
 },
 "nbformat": 4,
 "nbformat_minor": 2
}
