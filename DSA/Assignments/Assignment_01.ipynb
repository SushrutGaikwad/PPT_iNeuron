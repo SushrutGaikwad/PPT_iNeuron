{
 "cells": [
  {
   "attachments": {},
   "cell_type": "markdown",
   "metadata": {},
   "source": [
    "# Assignment 1\n",
    "**Name: Sushrut Gaikwad**"
   ]
  },
  {
   "attachments": {},
   "cell_type": "markdown",
   "metadata": {},
   "source": [
    "## Question 1\n",
    "Given an array of integers `nums` and an integer `target`, return indices of the two numbers such that they add up to target. You may assume that each input would have exactly one solution, and you may not use the same element twice. You can return the answer in any order.\n",
    "\n",
    "**Example:**\n",
    "\n",
    "Input: `nums = [2, 7, 11, 15]`, `target = 9`\n",
    "\n",
    "Output: `[0, 1]`\n",
    "\n",
    "Explanation: Since `nums[0] + nums[1] == 9`, we return `[0, 1]`."
   ]
  },
  {
   "attachments": {},
   "cell_type": "markdown",
   "metadata": {},
   "source": [
    "**Answer:**"
   ]
  },
  {
   "cell_type": "code",
   "execution_count": 1,
   "metadata": {},
   "outputs": [],
   "source": [
    "def two_indices_with_sum_as_target(nums: list, target: int):\n",
    "    \n",
    "    # Initializing the lower and higher pointer\n",
    "    lo = 0\n",
    "    hi = len(nums) - 1\n",
    "    \n",
    "    # Creating a dictionary to store (value, index) pairs of the list `nums`\n",
    "    d = {value: index for (index, value) in enumerate(nums)}\n",
    "    \n",
    "    # Sorting `nums`\n",
    "    nums = sorted(nums)\n",
    "    \n",
    "    # Initializing an empty list for the results\n",
    "    results = []\n",
    "    \n",
    "    # Two-sum approach\n",
    "    while lo < hi:\n",
    "        sum = nums[lo] + nums[hi]\n",
    "        if sum < target:\n",
    "            lo += 1\n",
    "        elif sum > target:\n",
    "            hi -= 1\n",
    "        else:\n",
    "            results.append([d[nums[lo]], d[nums[hi]]])\n",
    "            lo += 1\n",
    "            hi -= 1\n",
    "            while lo < hi and nums[lo] == nums[lo - 1]:\n",
    "                lo += 1\n",
    "    \n",
    "    return results"
   ]
  },
  {
   "cell_type": "code",
   "execution_count": 2,
   "metadata": {},
   "outputs": [
    {
     "data": {
      "text/plain": [
       "[[7, 6], [0, 1], [4, 3]]"
      ]
     },
     "execution_count": 2,
     "metadata": {},
     "output_type": "execute_result"
    }
   ],
   "source": [
    "nums = [2, 7, 11, 5, 4, 15, 8, 1]\n",
    "target = 9\n",
    "\n",
    "two_indices_with_sum_as_target(nums=nums, target=target)"
   ]
  },
  {
   "attachments": {},
   "cell_type": "markdown",
   "metadata": {},
   "source": [
    "## Question 2\n",
    "Given an integer array `nums` and an integer `val`, remove all occurrences of `val` in `nums` in-place. The order of the elements may be changed. Then return the number of elements in `nums` which are not equal to `val`.\n",
    "\n",
    "Consider the number of elements in `nums` which are not equal to `val` be `k`, to get accepted, you need to do the following things:\n",
    "* Change the array `nums` such that the first `k` elements of `nums` contain the elements which are not equal to `val`. The remaining elements of `nums` are not important as well as the size of `nums`.\n",
    "* Return `k`.\n",
    "\n",
    "**Example:**\n",
    "\n",
    "Input: `nums = [3, 2, 2, 3]`, `val = 3`.\n",
    "\n",
    "Output: `2`, `nums = [2, 2, _, _]`\n",
    "\n",
    "Explanation: Your function should return `k = 2`, with the first two elements of `nums` being `2`. It does not matter what you leave beyond the returned `k` (hence they are underscores)."
   ]
  },
  {
   "attachments": {},
   "cell_type": "markdown",
   "metadata": {},
   "source": [
    "**Answer:**"
   ]
  },
  {
   "cell_type": "code",
   "execution_count": 3,
   "metadata": {},
   "outputs": [],
   "source": [
    "def remove_all_occurrences(nums: list, val: int):\n",
    "    \n",
    "    # Creating a new list which contains all the numbers not equal to `val`\n",
    "    nums_new = [num for num in nums if num != val]\n",
    "    \n",
    "    # Getting the value of `k`\n",
    "    k = len(nums_new)\n",
    "    \n",
    "    # Getting the difference in length of the new and the original lists\n",
    "    len_diff = len(nums) - len(nums_new)\n",
    "    \n",
    "    # Appending new elements to the new list at the end `len_diff` number of times\n",
    "    for i in range(len_diff):\n",
    "        nums_new.append(float('inf'))\n",
    "    \n",
    "    return f\"{k}, nums = {nums_new}\""
   ]
  },
  {
   "cell_type": "code",
   "execution_count": 4,
   "metadata": {},
   "outputs": [
    {
     "data": {
      "text/plain": [
       "'2, nums = [2, 2, inf, inf]'"
      ]
     },
     "execution_count": 4,
     "metadata": {},
     "output_type": "execute_result"
    }
   ],
   "source": [
    "nums = [3, 2, 2, 3]\n",
    "val = 3\n",
    "\n",
    "remove_all_occurrences(nums, val)"
   ]
  },
  {
   "cell_type": "code",
   "execution_count": 5,
   "metadata": {},
   "outputs": [
    {
     "data": {
      "text/plain": [
       "'7, nums = [2, 2, 4, 5, 6, 2, 4, inf, inf, inf]'"
      ]
     },
     "execution_count": 5,
     "metadata": {},
     "output_type": "execute_result"
    }
   ],
   "source": [
    "nums = [3, 2, 2, 3, 4, 5, 6, 2, 3, 4]\n",
    "val = 3\n",
    "\n",
    "remove_all_occurrences(nums, val)"
   ]
  },
  {
   "attachments": {},
   "cell_type": "markdown",
   "metadata": {},
   "source": [
    "## Question 3\n",
    "Given a sorted array `nums` of distinct integers and a `target` value, return the index if the `target` is found. If not, return the index where it would be if it were inserted in order. You must write an algorithm with $\\mathcal{O}\\left(\\log n\\right)$ runtime complexity.\n",
    "\n",
    "**Example:**\n",
    "\n",
    "Input: `nums = [1, 3, 5, 6]`, `target = 5`.\n",
    "\n",
    "Output: `2`."
   ]
  },
  {
   "attachments": {},
   "cell_type": "markdown",
   "metadata": {},
   "source": [
    "**Answer:**"
   ]
  },
  {
   "cell_type": "code",
   "execution_count": 6,
   "metadata": {},
   "outputs": [],
   "source": [
    "def index_of_target_in_a_list(nums: list, target: int):\n",
    "    \n",
    "    # Initializing `result` to `0` for the case when `nums` is an empty list\n",
    "    result = 0\n",
    "    if len(nums) == 0:\n",
    "        return result\n",
    "    else:\n",
    "        # When `nums` is not empty\n",
    "        \n",
    "        # Initializing the lower and higher counter\n",
    "        lo = 0\n",
    "        hi = len(nums) - 1\n",
    "        \n",
    "        # Result when `target` is greater than the largest element of `nums`\n",
    "        result = len(nums)\n",
    "        if target > nums[hi]:\n",
    "            return result\n",
    "        else:\n",
    "            # When `target` is not greater than the largest element of `nums`\n",
    "            \n",
    "            # Looping when the lower counter is less than or equal to the higher counter\n",
    "            while lo <= hi:\n",
    "                \n",
    "                # Calculating the middle position of the list `nums`\n",
    "                mid = (lo + hi) // 2  # Integer division\n",
    "                \n",
    "                # If the centre element is the `target`, we return it\n",
    "                if nums[mid] == target:\n",
    "                    result = mid\n",
    "                    return result\n",
    "                \n",
    "                # If the centre element is less than the target, \\\n",
    "                    # we update the lower counter one step above the middle position\n",
    "                elif nums[mid] < target:\n",
    "                    lo = mid + 1\n",
    "                \n",
    "                # If none of these cases are true, we return the middle position\n",
    "                else:\n",
    "                    result = mid\n",
    "                    hi = mid - 1\n",
    "            return result"
   ]
  },
  {
   "cell_type": "code",
   "execution_count": 7,
   "metadata": {},
   "outputs": [
    {
     "data": {
      "text/plain": [
       "7"
      ]
     },
     "execution_count": 7,
     "metadata": {},
     "output_type": "execute_result"
    }
   ],
   "source": [
    "nums = [1, 3, 5, 6, 7, 9, 10, 13]\n",
    "target = 11\n",
    "index_of_target_in_a_list(nums, target)"
   ]
  },
  {
   "cell_type": "code",
   "execution_count": 8,
   "metadata": {},
   "outputs": [
    {
     "data": {
      "text/plain": [
       "2"
      ]
     },
     "execution_count": 8,
     "metadata": {},
     "output_type": "execute_result"
    }
   ],
   "source": [
    "nums = [1, 3, 5, 6]\n",
    "target = 5\n",
    "\n",
    "index_of_target_in_a_list(nums, target)"
   ]
  },
  {
   "cell_type": "code",
   "execution_count": 9,
   "metadata": {},
   "outputs": [
    {
     "data": {
      "text/plain": [
       "0"
      ]
     },
     "execution_count": 9,
     "metadata": {},
     "output_type": "execute_result"
    }
   ],
   "source": [
    "nums = []\n",
    "target = 5\n",
    "\n",
    "index_of_target_in_a_list(nums, target)"
   ]
  },
  {
   "cell_type": "code",
   "execution_count": 10,
   "metadata": {},
   "outputs": [
    {
     "data": {
      "text/plain": [
       "3"
      ]
     },
     "execution_count": 10,
     "metadata": {},
     "output_type": "execute_result"
    }
   ],
   "source": [
    "nums = [1, 2, 3]\n",
    "target = 5\n",
    "\n",
    "index_of_target_in_a_list(nums, target)"
   ]
  },
  {
   "attachments": {},
   "cell_type": "markdown",
   "metadata": {},
   "source": [
    "## Question 4\n",
    "You are given a large integer represented as an integer array `digits`, where each `digits[i]` is the `i`-th digit of the integer. The `digits` are ordered from most significant to least significant in left-to-right order. The large integer does not contain any leading 0's. Increment the large integer by one and return the resulting array of `digits`.\n",
    "\n",
    "**Example:**\n",
    "\n",
    "Input: `digits = [1, 2, 3]`.\n",
    "\n",
    "Output: `[1, 2, 4]`.\n",
    "\n",
    "Explanation: The array represents the integer $123$. Incrementing by one gives $123+1=124$. Thus, the result should be `[1, 2, 4]`."
   ]
  },
  {
   "attachments": {},
   "cell_type": "markdown",
   "metadata": {},
   "source": [
    "**Answer:**"
   ]
  },
  {
   "cell_type": "code",
   "execution_count": 11,
   "metadata": {},
   "outputs": [],
   "source": [
    "def increment_digits(digits: list):\n",
    "    # Creating the list of integers to a list of strings\n",
    "    str_digits = [f\"{digit}\" for digit in digits]\n",
    "    \n",
    "    # Creating the list of string to one single string\n",
    "    string = \"\".join(str_digits)\n",
    "    \n",
    "    # Converting the string to an integer\n",
    "    integer = int(string)\n",
    "    \n",
    "    # Incrementing the integer\n",
    "    new_integer = integer + 1\n",
    "    \n",
    "    # Converting back the incremented integer to a string\n",
    "    new_string = str(new_integer)\n",
    "    \n",
    "    # Creating the list out of digits of the incremented integer\n",
    "    new_digits = [int(digit) for digit in new_string]\n",
    "    \n",
    "    return new_digits"
   ]
  },
  {
   "cell_type": "code",
   "execution_count": 12,
   "metadata": {},
   "outputs": [
    {
     "data": {
      "text/plain": [
       "[1, 2, 4]"
      ]
     },
     "execution_count": 12,
     "metadata": {},
     "output_type": "execute_result"
    }
   ],
   "source": [
    "digits = [1, 2, 3]\n",
    "increment_digits(digits)"
   ]
  },
  {
   "cell_type": "code",
   "execution_count": 13,
   "metadata": {},
   "outputs": [
    {
     "data": {
      "text/plain": [
       "[1, 0, 0, 0, 0, 0]"
      ]
     },
     "execution_count": 13,
     "metadata": {},
     "output_type": "execute_result"
    }
   ],
   "source": [
    "digits = [9, 9, 9, 9, 9]\n",
    "increment_digits(digits)"
   ]
  },
  {
   "cell_type": "code",
   "execution_count": 14,
   "metadata": {},
   "outputs": [
    {
     "data": {
      "text/plain": [
       "[1, 2, 3, 4, 5, 6, 7, 9, 0]"
      ]
     },
     "execution_count": 14,
     "metadata": {},
     "output_type": "execute_result"
    }
   ],
   "source": [
    "digits = [1, 2, 3, 4, 5, 6, 7, 8, 9]\n",
    "increment_digits(digits)"
   ]
  },
  {
   "attachments": {},
   "cell_type": "markdown",
   "metadata": {},
   "source": [
    "## Question 5\n",
    "You are given two integer arrays `nums1` and `nums2`, sorted in non-decreasing order, and two integers `m` and `n`, representing the number of elements in `nums1` and `nums2` respectively. Merge nums1 and nums2 into a single array sorted in non-decreasing order. The final sorted array should not be returned by the function, but instead be stored inside the array `nums1`. To accommodate this, `nums1` has a length of `m + n`, where the first `m` elements denote the elements that should be merged, and the last `n` elements are set to `0` and should be ignored. `nums2` has a length of `n`.\n",
    "\n",
    "**Example:**\n",
    "\n",
    "Input: `nums1 = [1, 2, 3, 0, 0, 0]`, `m = 3`, `nums2 = [2,5,6]`, `n = 3`.\n",
    "\n",
    "Output: `[1, 2, 2, 3, 5, 6]`\n",
    "\n",
    "Explanation: The arrays we are merging are `[1, 2, 3]` and `[2, 5, 6]`. The result of the merge is `[1, 2, 2, 3, 5, 6]` with the underlined elements coming from `nums1`."
   ]
  },
  {
   "attachments": {},
   "cell_type": "markdown",
   "metadata": {},
   "source": [
    "**Answer:**"
   ]
  },
  {
   "cell_type": "code",
   "execution_count": 15,
   "metadata": {},
   "outputs": [],
   "source": [
    "def concatenate_sort(nums1: list, m: int, nums2: list, n: int):\n",
    "    \n",
    "    # Creating a new list out of `nums1` with no zeros\n",
    "    nums1copy = nums1[:m]\n",
    "    \n",
    "    # Initializing pointers\n",
    "    p1 = 0  # Pointer for nums1copy\n",
    "    p2 = 0  # Pointer for nums2\n",
    "    p = 0  # Pointer for nums1\n",
    "    \n",
    "    while p <= m + n - 1:\n",
    "        if p2 >= n or (p1 < m and nums1copy[p1] < nums2[p2]):\n",
    "            nums1[p] = nums1copy[p1]\n",
    "            p1 += 1\n",
    "        else:\n",
    "            nums1[p] = nums2[p2]\n",
    "            p2 += 1\n",
    "        p += 1\n",
    "        \n",
    "    return nums1"
   ]
  },
  {
   "cell_type": "code",
   "execution_count": 16,
   "metadata": {},
   "outputs": [
    {
     "data": {
      "text/plain": [
       "[1, 2, 2, 3, 5, 6]"
      ]
     },
     "execution_count": 16,
     "metadata": {},
     "output_type": "execute_result"
    }
   ],
   "source": [
    "nums1 = [1, 2, 3, 0, 0, 0]\n",
    "m = 3\n",
    "nums2 = [2, 5, 6]\n",
    "n = 3\n",
    "\n",
    "concatenate_sort(nums1, m, nums2, n)"
   ]
  },
  {
   "cell_type": "code",
   "execution_count": 17,
   "metadata": {},
   "outputs": [
    {
     "data": {
      "text/plain": [
       "[1, 2, 2, 3, 5, 6]"
      ]
     },
     "execution_count": 17,
     "metadata": {},
     "output_type": "execute_result"
    }
   ],
   "source": [
    "nums1 = [1, 2, 3, 0, 0, 0]\n",
    "m = 3\n",
    "nums2 = [2, 5, 6]\n",
    "n = 3\n",
    "\n",
    "concatenate_sort(nums1, m, nums2, n)"
   ]
  },
  {
   "cell_type": "code",
   "execution_count": 18,
   "metadata": {},
   "outputs": [
    {
     "data": {
      "text/plain": [
       "[1, 2, 2, 3, 4, 5, 5, 6, 8, 10]"
      ]
     },
     "execution_count": 18,
     "metadata": {},
     "output_type": "execute_result"
    }
   ],
   "source": [
    "nums1 = [1, 2, 3, 4, 5, 0, 0, 0, 0, 0]\n",
    "m = 5\n",
    "nums2 = [2, 5, 6, 8, 10]\n",
    "n = 5\n",
    "\n",
    "concatenate_sort(nums1, m, nums2, n)"
   ]
  },
  {
   "attachments": {},
   "cell_type": "markdown",
   "metadata": {},
   "source": [
    "## Question 6\n",
    "Given an integer array `nums`, return `True` if any value appears at least twice in the array, and return `False` if every element is distinct.\n",
    "\n",
    "**Example:**\n",
    "\n",
    "Input: `nums = [1, 2, 3, 1]`.\n",
    "\n",
    "Output: `True`."
   ]
  },
  {
   "attachments": {},
   "cell_type": "markdown",
   "metadata": {},
   "source": [
    "**Answer:**"
   ]
  },
  {
   "cell_type": "code",
   "execution_count": 19,
   "metadata": {},
   "outputs": [],
   "source": [
    "def distinct_elements_in_array(nums: list):\n",
    "    if len(set(nums)) == len(nums):\n",
    "        return True\n",
    "    else:\n",
    "        return False"
   ]
  },
  {
   "cell_type": "code",
   "execution_count": 20,
   "metadata": {},
   "outputs": [
    {
     "data": {
      "text/plain": [
       "False"
      ]
     },
     "execution_count": 20,
     "metadata": {},
     "output_type": "execute_result"
    }
   ],
   "source": [
    "nums = [1, 2, 3, 1]\n",
    "\n",
    "distinct_elements_in_array(nums)"
   ]
  },
  {
   "cell_type": "code",
   "execution_count": 21,
   "metadata": {},
   "outputs": [
    {
     "data": {
      "text/plain": [
       "True"
      ]
     },
     "execution_count": 21,
     "metadata": {},
     "output_type": "execute_result"
    }
   ],
   "source": [
    "nums = [1, 2, 3, 4, 5, 6, 7]\n",
    "\n",
    "distinct_elements_in_array(nums)"
   ]
  },
  {
   "cell_type": "code",
   "execution_count": 22,
   "metadata": {},
   "outputs": [
    {
     "data": {
      "text/plain": [
       "False"
      ]
     },
     "execution_count": 22,
     "metadata": {},
     "output_type": "execute_result"
    }
   ],
   "source": [
    "nums = [1, 2, 3, 4, 5, 6, 7, 6, 6]\n",
    "\n",
    "distinct_elements_in_array(nums)"
   ]
  },
  {
   "attachments": {},
   "cell_type": "markdown",
   "metadata": {},
   "source": [
    "## Question 7\n",
    "Given an integer array `nums`, move all `0`'s to the end of it while maintaining the relative order of the nonzero elements. Note that you must do this in-place without making a copy of the array.\n",
    "\n",
    "**Example:**\n",
    "\n",
    "Input: `nums = [0, 1, 0, 3, 12]`.\n",
    "\n",
    "Output: `[1, 3, 12, 0, 0]`."
   ]
  },
  {
   "attachments": {},
   "cell_type": "markdown",
   "metadata": {},
   "source": [
    "**Answer:**"
   ]
  },
  {
   "cell_type": "code",
   "execution_count": 23,
   "metadata": {},
   "outputs": [],
   "source": [
    "def move_zeros_to_the_end(nums: list):\n",
    "    \n",
    "    # Looping through the list `nums`\n",
    "    for i in range(len(nums)):\n",
    "        \n",
    "        # If the element is zero\n",
    "        if nums[i] == 0:\n",
    "            \n",
    "            # Remove the element\n",
    "            nums.remove(nums[i])\n",
    "            \n",
    "            # Append a zero at the end of the list `nums`\n",
    "            nums.append(0)\n",
    "    return nums"
   ]
  },
  {
   "cell_type": "code",
   "execution_count": 24,
   "metadata": {},
   "outputs": [
    {
     "data": {
      "text/plain": [
       "[1, 3, 12, 0, 0]"
      ]
     },
     "execution_count": 24,
     "metadata": {},
     "output_type": "execute_result"
    }
   ],
   "source": [
    "nums = [0, 1, 0, 3, 12]\n",
    "move_zeros_to_the_end(nums)"
   ]
  },
  {
   "cell_type": "code",
   "execution_count": 25,
   "metadata": {},
   "outputs": [
    {
     "data": {
      "text/plain": [
       "[9, 2, 3, 4, 24, 2, 0, 0, 0]"
      ]
     },
     "execution_count": 25,
     "metadata": {},
     "output_type": "execute_result"
    }
   ],
   "source": [
    "nums = [9, 0, 2, 3, 4, 24, 0, 2, 0]\n",
    "move_zeros_to_the_end(nums)"
   ]
  },
  {
   "attachments": {},
   "cell_type": "markdown",
   "metadata": {},
   "source": [
    "## Question 8\n",
    "You have a set of integers `s`, which originally contains all the numbers from `1` to `n`. Unfortunately, due to some error, one of the numbers in `s` got duplicated to another number in the set, which results in repetition of one number and loss of another number. You are given an integer array `nums` representing the data status of this set after the error. Find the number that occurs twice and the number that is missing and return them in the form of an array.\n",
    "\n",
    "**Example:**\n",
    "\n",
    "Input: `nums = [1, 2, 2, 4]`.\n",
    "\n",
    "Output: `[2, 3]`."
   ]
  },
  {
   "attachments": {},
   "cell_type": "markdown",
   "metadata": {},
   "source": [
    "**Answer:**"
   ]
  },
  {
   "cell_type": "code",
   "execution_count": 26,
   "metadata": {},
   "outputs": [],
   "source": [
    "def solving_repetition_error(nums: list):\n",
    "    \n",
    "    # Initializing a list which will contain the result\n",
    "    result = []\n",
    "    \n",
    "    # Looping through the given `nums` list until the second-last element\n",
    "    for i in range(len(nums)-1):\n",
    "        \n",
    "        # If the element at an index is the same as the element at the next index\n",
    "        if nums[i] == nums[i+1]:\n",
    "            \n",
    "            # Append this element along with its increment by 1\n",
    "            result.append(nums[i])\n",
    "            result.append(nums[i]+1)\n",
    "    \n",
    "    return result"
   ]
  },
  {
   "cell_type": "code",
   "execution_count": 27,
   "metadata": {},
   "outputs": [
    {
     "data": {
      "text/plain": [
       "[2, 3]"
      ]
     },
     "execution_count": 27,
     "metadata": {},
     "output_type": "execute_result"
    }
   ],
   "source": [
    "nums = [1, 2, 2, 4]\n",
    "solving_repetition_error(nums)"
   ]
  },
  {
   "cell_type": "code",
   "execution_count": 28,
   "metadata": {},
   "outputs": [
    {
     "data": {
      "text/plain": [
       "[5, 6]"
      ]
     },
     "execution_count": 28,
     "metadata": {},
     "output_type": "execute_result"
    }
   ],
   "source": [
    "nums = [1, 2, 3, 4, 5, 5, 6, 7, 8]\n",
    "solving_repetition_error(nums)"
   ]
  },
  {
   "cell_type": "code",
   "execution_count": 29,
   "metadata": {},
   "outputs": [
    {
     "data": {
      "text/plain": [
       "[8, 9]"
      ]
     },
     "execution_count": 29,
     "metadata": {},
     "output_type": "execute_result"
    }
   ],
   "source": [
    "nums = [1, 2, 3, 4, 5, 6, 7, 8, 8]\n",
    "solving_repetition_error(nums)"
   ]
  },
  {
   "cell_type": "code",
   "execution_count": 30,
   "metadata": {},
   "outputs": [
    {
     "data": {
      "text/plain": [
       "[1, 2]"
      ]
     },
     "execution_count": 30,
     "metadata": {},
     "output_type": "execute_result"
    }
   ],
   "source": [
    "nums = [1, 1, 2, 3, 4, 5, 6, 7, 8]\n",
    "solving_repetition_error(nums)"
   ]
  }
 ],
 "metadata": {
  "kernelspec": {
   "display_name": "Python 3 (ipykernel)",
   "language": "python",
   "name": "python3"
  },
  "language_info": {
   "codemirror_mode": {
    "name": "ipython",
    "version": 3
   },
   "file_extension": ".py",
   "mimetype": "text/x-python",
   "name": "python",
   "nbconvert_exporter": "python",
   "pygments_lexer": "ipython3",
   "version": "3.10.0"
  }
 },
 "nbformat": 4,
 "nbformat_minor": 2
}
