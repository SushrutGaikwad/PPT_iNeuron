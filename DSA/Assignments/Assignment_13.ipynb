{
 "cells": [
  {
   "attachments": {},
   "cell_type": "markdown",
   "metadata": {},
   "source": [
    "# Assignment 13\n",
    "**Name: Sushrut Gaikwad**"
   ]
  },
  {
   "cell_type": "code",
   "execution_count": 1,
   "metadata": {},
   "outputs": [],
   "source": [
    "class Node:\n",
    "    def __init__(self, data=None, next=None) -> None:\n",
    "        self.data = data\n",
    "        self.next = next\n",
    "\n",
    "class LinkedList:\n",
    "    def __init__(self) -> None:\n",
    "        self.head = None\n",
    "    \n",
    "    def insert_at_beginning(self, data):\n",
    "        node = Node(data=data, next=self.head)\n",
    "        self.head = node\n",
    "    \n",
    "    def insert_at_end(self, data):\n",
    "        if self.head is None:\n",
    "            self.head = Node(data=data, next=None)\n",
    "            return\n",
    "        \n",
    "        itr = self.head\n",
    "        while itr.next is not None:\n",
    "            itr = itr.next\n",
    "        \n",
    "        itr.next = Node(data=data, next=None)\n",
    "    \n",
    "    def insert_values(self, data_list: list):\n",
    "        self.head = None\n",
    "        for data in data_list:\n",
    "            self.insert_at_end(data=data)\n",
    "    \n",
    "    def get_length(self) -> int:\n",
    "        count = 0\n",
    "        itr = self.head\n",
    "        while itr is not None:\n",
    "            count += 1\n",
    "            itr = itr.next\n",
    "        return count\n",
    "    \n",
    "    def remove_at(self, index: int):\n",
    "        if index < 0 or index >= self.get_length():\n",
    "            raise Exception(\"Invalid index\")\n",
    "        \n",
    "        if index == 0:\n",
    "            self.head = self.head.next\n",
    "            return\n",
    "        \n",
    "        count = 0\n",
    "        itr = self.head\n",
    "        while itr is not None:\n",
    "            if count == index - 1:\n",
    "                itr.next = itr.next.next\n",
    "                break\n",
    "            itr = itr.next\n",
    "            count += 1\n",
    "    \n",
    "    def insert_at(self, index: int, data):\n",
    "        if index < 0 or index >= self.get_length():\n",
    "            raise Exception(\"Invalid index\")\n",
    "        \n",
    "        if index == 0:\n",
    "            self.insert_at_beginning(data=data)\n",
    "            return\n",
    "        \n",
    "        count = 0\n",
    "        itr = self.head\n",
    "        while itr is not None:\n",
    "            if count == index - 1:\n",
    "                itr.next = Node(data=data, next=itr.next)\n",
    "                break\n",
    "            itr = itr.next\n",
    "            count += 1\n",
    "    \n",
    "    def print(self):\n",
    "        if self.head is None:\n",
    "            print(\"Linked list is empty\")\n",
    "            return\n",
    "        itr = self.head\n",
    "        llstr = \"\"\n",
    "        \n",
    "        while itr is not None:\n",
    "            llstr += str(itr.data) + \"-->\"\n",
    "            itr = itr.next\n",
    "        print(llstr)"
   ]
  },
  {
   "attachments": {},
   "cell_type": "markdown",
   "metadata": {},
   "source": [
    "## Question 1\n",
    "Given two linked list of the same size, the task is to create a new linked list using those linked lists. The condition is that the greater node among both linked list will be added to the new linked list.\n",
    "\n",
    "**Examples:**\n",
    "```\n",
    "Input: list1 = 5->2->3->8\n",
    "list2 = 1->7->4->5\n",
    "Output: New list = 5->7->4->8\n",
    "\n",
    "Input:list1 = 2->8->9->3\n",
    "list2 = 5->3->6->4\n",
    "Output: New list = 5->8->9->4\n",
    "```"
   ]
  },
  {
   "attachments": {},
   "cell_type": "markdown",
   "metadata": {},
   "source": [
    "**Answer:**"
   ]
  },
  {
   "attachments": {},
   "cell_type": "markdown",
   "metadata": {},
   "source": [
    "*Example 1:*"
   ]
  },
  {
   "cell_type": "code",
   "execution_count": 2,
   "metadata": {},
   "outputs": [
    {
     "name": "stdout",
     "output_type": "stream",
     "text": [
      "5-->2-->3-->8-->\n"
     ]
    }
   ],
   "source": [
    "list1 = LinkedList()\n",
    "list1.insert_values(data_list=[5, 2, 3, 8])\n",
    "list1.print()"
   ]
  },
  {
   "cell_type": "code",
   "execution_count": 3,
   "metadata": {},
   "outputs": [
    {
     "name": "stdout",
     "output_type": "stream",
     "text": [
      "1-->7-->4-->5-->\n"
     ]
    }
   ],
   "source": [
    "list2 = LinkedList()\n",
    "list2.insert_values(data_list=[1, 7, 4, 5])\n",
    "list2.print()"
   ]
  },
  {
   "cell_type": "code",
   "execution_count": 4,
   "metadata": {},
   "outputs": [
    {
     "name": "stdout",
     "output_type": "stream",
     "text": [
      "5-->7-->4-->8-->\n"
     ]
    }
   ],
   "source": [
    "new_list = LinkedList()\n",
    "curr1 = list1.head\n",
    "curr2 = list2.head\n",
    "\n",
    "while curr1 is not None and curr2 is not None:\n",
    "    new_list.insert_at_end(data=max(curr1.data, curr2.data))\n",
    "    curr1 = curr1.next\n",
    "    curr2 = curr2.next\n",
    "\n",
    "new_list.print()"
   ]
  },
  {
   "attachments": {},
   "cell_type": "markdown",
   "metadata": {},
   "source": [
    "*Example 2:*"
   ]
  },
  {
   "cell_type": "code",
   "execution_count": 5,
   "metadata": {},
   "outputs": [
    {
     "name": "stdout",
     "output_type": "stream",
     "text": [
      "2-->8-->9-->3-->\n"
     ]
    }
   ],
   "source": [
    "list1 = LinkedList()\n",
    "list1.insert_values(data_list=[2, 8, 9, 3])\n",
    "list1.print()"
   ]
  },
  {
   "cell_type": "code",
   "execution_count": 6,
   "metadata": {},
   "outputs": [
    {
     "name": "stdout",
     "output_type": "stream",
     "text": [
      "5-->3-->6-->4-->\n"
     ]
    }
   ],
   "source": [
    "list2 = LinkedList()\n",
    "list2.insert_values(data_list=[5, 3, 6, 4])\n",
    "list2.print()"
   ]
  },
  {
   "cell_type": "code",
   "execution_count": 7,
   "metadata": {},
   "outputs": [
    {
     "name": "stdout",
     "output_type": "stream",
     "text": [
      "5-->8-->9-->4-->\n"
     ]
    }
   ],
   "source": [
    "new_list = LinkedList()\n",
    "curr1 = list1.head\n",
    "curr2 = list2.head\n",
    "\n",
    "while curr1 is not None and curr2 is not None:\n",
    "    new_list.insert_at_end(data=max(curr1.data, curr2.data))\n",
    "    curr1 = curr1.next\n",
    "    curr2 = curr2.next\n",
    "\n",
    "new_list.print()"
   ]
  },
  {
   "attachments": {},
   "cell_type": "markdown",
   "metadata": {},
   "source": [
    "## Question 2\n",
    "Write a function that takes a list sorted in non-decreasing order and deletes any duplicate nodes from the list. The list should only be traversed once.\n",
    "\n",
    "For example if the linked list is 11->11->11->21->43->43->60 then removeDuplicates() should convert the list to 11->21->43->60.\n",
    "\n",
    "**Examples:**\n",
    "```\n",
    "Input:\n",
    "LinkedList: \n",
    "11->11->11->21->43->43->60\n",
    "Output:\n",
    "11->21->43->60\n",
    "```\n",
    "```\n",
    "Input:\n",
    "LinkedList: \n",
    "10->12->12->25->25->25->34\n",
    "Output:\n",
    "10->12->25->34\n",
    "```"
   ]
  },
  {
   "attachments": {},
   "cell_type": "markdown",
   "metadata": {},
   "source": [
    "**Answer:**"
   ]
  },
  {
   "attachments": {},
   "cell_type": "markdown",
   "metadata": {},
   "source": [
    "*Example 1:*"
   ]
  },
  {
   "cell_type": "code",
   "execution_count": 8,
   "metadata": {},
   "outputs": [
    {
     "name": "stdout",
     "output_type": "stream",
     "text": [
      "11-->11-->11-->21-->43-->43-->60-->\n"
     ]
    }
   ],
   "source": [
    "list = LinkedList()\n",
    "list.insert_values(data_list=[11, 11, 11, 21, 43, 43, 60])\n",
    "list.print()"
   ]
  },
  {
   "cell_type": "code",
   "execution_count": 9,
   "metadata": {},
   "outputs": [
    {
     "name": "stdout",
     "output_type": "stream",
     "text": [
      "11-->21-->43-->60-->\n"
     ]
    }
   ],
   "source": [
    "fast = list.head\n",
    "slow = list.head\n",
    "\n",
    "while fast is not None:\n",
    "    if fast.data != slow.data:\n",
    "        slow.next = fast\n",
    "        slow = fast\n",
    "    else:\n",
    "        fast = fast.next\n",
    "\n",
    "list.print()"
   ]
  },
  {
   "attachments": {},
   "cell_type": "markdown",
   "metadata": {},
   "source": [
    "*Example 2:*"
   ]
  },
  {
   "cell_type": "code",
   "execution_count": 10,
   "metadata": {},
   "outputs": [
    {
     "name": "stdout",
     "output_type": "stream",
     "text": [
      "10-->12-->12-->25-->25-->25-->34-->\n"
     ]
    }
   ],
   "source": [
    "list = LinkedList()\n",
    "list.insert_values(data_list=[10, 12, 12, 25, 25, 25, 34])\n",
    "list.print()"
   ]
  },
  {
   "cell_type": "code",
   "execution_count": 11,
   "metadata": {},
   "outputs": [
    {
     "name": "stdout",
     "output_type": "stream",
     "text": [
      "10-->12-->25-->34-->\n"
     ]
    }
   ],
   "source": [
    "fast = list.head\n",
    "slow = list.head\n",
    "\n",
    "while fast is not None:\n",
    "    if fast.data != slow.data:\n",
    "        slow.next = fast\n",
    "        slow = fast\n",
    "    else:\n",
    "        fast = fast.next\n",
    "\n",
    "list.print()"
   ]
  },
  {
   "attachments": {},
   "cell_type": "markdown",
   "metadata": {},
   "source": [
    "## Question 3\n",
    "Given a linked list of size `N`. The task is to reverse every `k` nodes (where `k` is an input to the function) in the linked list. If the number of nodes is not a multiple of `k` then left-out nodes, in the end, should be considered as a group and must be reversed (See Example 2 for clarification).\n",
    "\n",
    "**Examples:**\n",
    "```\n",
    "Input:\n",
    "LinkedList: 1->2->2->4->5->6->7->8\n",
    "K = 4\n",
    "Output:4 2 2 1 8 7 6 5\n",
    "Explanation:\n",
    "The first 4 elements 1,2,2,4 are reversed first\n",
    "and then the next 4 elements 5,6,7,8. Hence, the\n",
    "resultant linked list is 4->2->2->1->8->7->6->5.\n",
    "\n",
    "Input:\n",
    "LinkedList: 1->2->3->4->5\n",
    "K = 3\n",
    "Output:3 2 1 5 4\n",
    "Explanation:\n",
    "The first 3 elements are 1,2,3 are reversed\n",
    "first and then elements 4,5 are reversed.Hence,\n",
    "the resultant linked list is 3->2->1->5->4.\n",
    "```"
   ]
  },
  {
   "attachments": {},
   "cell_type": "markdown",
   "metadata": {},
   "source": [
    "**Answer:**"
   ]
  },
  {
   "attachments": {},
   "cell_type": "markdown",
   "metadata": {},
   "source": [
    "*Example 1:*"
   ]
  },
  {
   "cell_type": "code",
   "execution_count": 12,
   "metadata": {},
   "outputs": [
    {
     "name": "stdout",
     "output_type": "stream",
     "text": [
      "1-->2-->2-->4-->5-->6-->7-->8-->\n"
     ]
    }
   ],
   "source": [
    "list = LinkedList()\n",
    "list.insert_values(data_list=[1, 2, 2, 4, 5, 6, 7, 8])\n",
    "list.print()"
   ]
  },
  {
   "cell_type": "code",
   "execution_count": 13,
   "metadata": {},
   "outputs": [],
   "source": [
    "p1 = list.head\n",
    "p2 = p1.next\n",
    "# p1.next = None"
   ]
  },
  {
   "cell_type": "code",
   "execution_count": 14,
   "metadata": {},
   "outputs": [],
   "source": [
    "count = 0\n",
    "while p2 is not None and count < 4 - 1:\n",
    "    tmp = p2.next\n",
    "    p2.next = p1\n",
    "    p1 = p2\n",
    "    p2 = tmp\n",
    "    count += 1\n",
    "list.head.next = tmp\n",
    "list.head = p1"
   ]
  },
  {
   "cell_type": "code",
   "execution_count": 15,
   "metadata": {},
   "outputs": [
    {
     "name": "stdout",
     "output_type": "stream",
     "text": [
      "4-->2-->2-->1-->5-->6-->7-->8-->\n"
     ]
    }
   ],
   "source": [
    "list.print()"
   ]
  },
  {
   "cell_type": "code",
   "execution_count": 16,
   "metadata": {},
   "outputs": [
    {
     "data": {
      "text/plain": [
       "5"
      ]
     },
     "execution_count": 16,
     "metadata": {},
     "output_type": "execute_result"
    }
   ],
   "source": [
    "tmp.data"
   ]
  },
  {
   "cell_type": "code",
   "execution_count": 17,
   "metadata": {},
   "outputs": [],
   "source": [
    "p1 = tmp\n",
    "p2 = p1.next\n",
    "\n",
    "count = 0\n",
    "while p2 is not None and count < 4 - 1:\n",
    "    tmp = p2.next\n",
    "    p2.next = p1\n",
    "    p1 = p2\n",
    "    p2 = tmp\n",
    "    count += 1\n",
    "# list.head.next = tmp\n",
    "# list.head = p1\n",
    "p1.next = None"
   ]
  },
  {
   "cell_type": "code",
   "execution_count": 18,
   "metadata": {},
   "outputs": [],
   "source": [
    "# list.print()"
   ]
  },
  {
   "cell_type": "code",
   "execution_count": 19,
   "metadata": {},
   "outputs": [],
   "source": [
    "# p1.data"
   ]
  },
  {
   "cell_type": "code",
   "execution_count": 20,
   "metadata": {},
   "outputs": [],
   "source": [
    "# list.print()"
   ]
  },
  {
   "attachments": {},
   "cell_type": "markdown",
   "metadata": {},
   "source": [
    "## Question 5\n",
    "Given a linked list and a key to be deleted. Delete last occurrence of key from linked. The list may have duplicates.\n",
    "\n",
    "**Examples:**\n",
    "```\n",
    "Input:   1->2->3->5->2->10, key = 2\n",
    "Output:  1->2->3->5->10\n",
    "```"
   ]
  },
  {
   "attachments": {},
   "cell_type": "markdown",
   "metadata": {},
   "source": [
    "**Answer:**"
   ]
  },
  {
   "cell_type": "code",
   "execution_count": 21,
   "metadata": {},
   "outputs": [
    {
     "name": "stdout",
     "output_type": "stream",
     "text": [
      "1-->2-->3-->5-->2-->10-->\n"
     ]
    }
   ],
   "source": [
    "list = LinkedList()\n",
    "list.insert_values(data_list=[1, 2, 3, 5, 2, 10])\n",
    "list.print()\n",
    "\n",
    "key = 2"
   ]
  },
  {
   "cell_type": "code",
   "execution_count": 22,
   "metadata": {},
   "outputs": [],
   "source": [
    "def remove_last_occ_of_key(linked_list: LinkedList, key: int):\n",
    "    idx = 0\n",
    "    key_idx = None\n",
    "\n",
    "    curr = list.head\n",
    "\n",
    "    while curr is not None:\n",
    "        if curr.data == key:\n",
    "            key_idx = idx\n",
    "        curr = curr.next\n",
    "        idx += 1\n",
    "\n",
    "    list.remove_at(key_idx)\n",
    "    return list"
   ]
  },
  {
   "cell_type": "code",
   "execution_count": 23,
   "metadata": {},
   "outputs": [
    {
     "name": "stdout",
     "output_type": "stream",
     "text": [
      "1-->2-->3-->5-->10-->\n"
     ]
    }
   ],
   "source": [
    "remove_last_occ_of_key(linked_list=list, key=key).print()"
   ]
  },
  {
   "attachments": {},
   "cell_type": "markdown",
   "metadata": {},
   "source": [
    "## Question 6\n",
    "Given two sorted linked lists consisting of `N` and `M` nodes respectively. The task is to merge both of the lists (in place) and return the head of the merged list.\n",
    "\n",
    "**Examples:**\n",
    "```\n",
    "Input: a: 5->10->15, b: 2->3->20\n",
    "Output: 2->3->5->10->15->20\n",
    "```\n",
    "```\n",
    "Input: a: 1->1, b: 2->4\n",
    "Output: 1->1->2->4\n",
    "```"
   ]
  },
  {
   "attachments": {},
   "cell_type": "markdown",
   "metadata": {},
   "source": [
    "**Answer:**"
   ]
  },
  {
   "cell_type": "code",
   "execution_count": 24,
   "metadata": {},
   "outputs": [],
   "source": [
    "from typing import Optional\n",
    "\n",
    "# Definition for singly-linked list.\n",
    "class ListNode:\n",
    "    def __init__(self, val=0, next=None):\n",
    "        self.val = val\n",
    "        self.next = next\n",
    "class Solution:\n",
    "    def mergeTwoLists(self, list1: Optional[ListNode], list2: Optional[ListNode]) -> Optional[ListNode]:\n",
    "        if not list1 or not list2:\n",
    "            return list1 or list2\n",
    "        if list1.val < list2.val:\n",
    "            list1.next = self.mergeTwoLists(list1.next, list2)\n",
    "            return list1\n",
    "        else:\n",
    "            list2.next = self.mergeTwoLists(list1, list2.next)\n",
    "            return list2"
   ]
  },
  {
   "cell_type": "code",
   "execution_count": 25,
   "metadata": {},
   "outputs": [],
   "source": [
    "# Doubly Linked List\n",
    "\n",
    "class Node:\n",
    "    def __init__(self, data) -> None:\n",
    "        self.data = data\n",
    "        self.next = None\n",
    "        self.prev = None\n",
    "\n",
    "class DoublyLinkedList:\n",
    "    def __init__(self) -> None:\n",
    "        self.head = None\n",
    "    \n",
    "    def append(self, data):\n",
    "        if self.head is None:\n",
    "            new_node = Node(data=data)\n",
    "            new_node.prev = None\n",
    "            self.head = new_node\n",
    "        else:\n",
    "            new_node = Node(data=data)\n",
    "            curr = self.head\n",
    "            while curr.next is not None:\n",
    "                curr = curr.next\n",
    "            curr.next = new_node\n",
    "            new_node.prev = curr\n",
    "            new_node.next = None\n",
    "    \n",
    "    def prepend(self, data):\n",
    "        if self.head is None:\n",
    "            new_node = Node(data=data)\n",
    "            new_node.prev = None\n",
    "            self.head = new_node\n",
    "        else:\n",
    "            new_node = Node(data=data)\n",
    "            self.head.prev = new_node\n",
    "            new_node.next = self.head\n",
    "            self.head = new_node\n",
    "            new_node.prev = None\n",
    "    \n",
    "    def add_after_node(self, key, data):\n",
    "        curr = self.head\n",
    "        while curr is not None:\n",
    "            if curr.next is None and curr.data == key:\n",
    "                self.append(data=data)\n",
    "                return\n",
    "            elif curr.data == key:\n",
    "                new_node = Node(data=data)\n",
    "                nxt = curr.next\n",
    "                curr.next = new_node\n",
    "                new_node.next = nxt\n",
    "                nxt.prev = new_node\n",
    "                new_node.prev = curr\n",
    "            curr = curr.next\n",
    "    \n",
    "    def add_before_node(self, key, data):\n",
    "        curr = self.head\n",
    "        while curr is not None:\n",
    "            if curr.prev is None and curr.data == key:\n",
    "                self.prepend(data=data)\n",
    "                return\n",
    "            elif curr.data == key:\n",
    "                new_node = Node(data=data)\n",
    "                prev = curr.prev\n",
    "                prev.next = new_node\n",
    "                curr.prev = new_node\n",
    "                new_node.next = curr\n",
    "                new_node.prev = prev\n",
    "            curr = curr.next\n",
    "    \n",
    "    def delete_node(self, key):\n",
    "        curr = self.head\n",
    "        while curr is not None:\n",
    "            if curr.data == key and curr == self.head:\n",
    "                if curr.next is None:\n",
    "                    curr = None\n",
    "                    self.head = None\n",
    "                    return\n",
    "                else:\n",
    "                    nxt = curr.next\n",
    "                    curr.next = None\n",
    "                    nxt.prev = None\n",
    "                    curr = None\n",
    "                    self.head = nxt\n",
    "                    return\n",
    "            elif curr.data == key:\n",
    "                if curr.next is not None:\n",
    "                    nxt = curr.next\n",
    "                    prev = curr.prev\n",
    "                    prev.next = nxt\n",
    "                    nxt.prev = prev\n",
    "                    curr.next = None\n",
    "                    curr.prev = None\n",
    "                    curr = None\n",
    "                    return\n",
    "                else:\n",
    "                    prev = curr.prev\n",
    "                    prev.next = None\n",
    "                    curr.prev = None\n",
    "                    curr = None\n",
    "                    return\n",
    "            curr = curr.next\n",
    "    \n",
    "    def reverse(self):\n",
    "        tmp = None\n",
    "        curr = self.head\n",
    "        while curr is not None:\n",
    "            tmp = curr.prev\n",
    "            curr.prev = curr.next\n",
    "            curr.next = tmp\n",
    "            curr = curr.prev\n",
    "        if tmp is not None:\n",
    "            self.head = tmp.prev\n",
    "    \n",
    "    def print(self):\n",
    "        if self.head is None:\n",
    "            print(\"Linked list is empty\")\n",
    "            return\n",
    "        \n",
    "        curr = self.head\n",
    "        dllstr = \"\"\n",
    "        while curr is not None:\n",
    "            dllstr += str(curr.data) + \"<-->\"\n",
    "            curr = curr.next\n",
    "        print(dllstr)"
   ]
  },
  {
   "attachments": {},
   "cell_type": "markdown",
   "metadata": {},
   "source": [
    "## Question 7\n",
    "Given a Doubly Linked List, the task is to reverse the given Doubly Linked List.\n",
    "\n",
    "**Examples:**\n",
    "```\n",
    "Original Linked list 10 8 4 2\n",
    "Reversed Linked list 2 4 8 10\n",
    "```"
   ]
  },
  {
   "attachments": {},
   "cell_type": "markdown",
   "metadata": {},
   "source": [
    "**Answer:**"
   ]
  },
  {
   "cell_type": "code",
   "execution_count": 26,
   "metadata": {},
   "outputs": [
    {
     "name": "stdout",
     "output_type": "stream",
     "text": [
      "10<-->8<-->4<-->2<-->\n"
     ]
    }
   ],
   "source": [
    "dllist = DoublyLinkedList()\n",
    "dllist.append(10)\n",
    "dllist.append(8)\n",
    "dllist.append(4)\n",
    "dllist.append(2)\n",
    "\n",
    "dllist.print()"
   ]
  },
  {
   "cell_type": "code",
   "execution_count": 27,
   "metadata": {},
   "outputs": [
    {
     "name": "stdout",
     "output_type": "stream",
     "text": [
      "2<-->4<-->8<-->10<-->\n"
     ]
    }
   ],
   "source": [
    "dllist.reverse()\n",
    "dllist.print()"
   ]
  },
  {
   "attachments": {},
   "cell_type": "markdown",
   "metadata": {},
   "source": [
    "## Question 8\n",
    "Given a doubly linked list and a position. The task is to delete a node from given position in a doubly linked list.\n",
    "\n",
    "**Examples:**\n",
    "```\n",
    "Input:\n",
    "LinkedList = 1 <--> 3 <--> 4\n",
    "x = 3\n",
    "Output:1 3\n",
    "Explanation:After deleting the node at\n",
    "position 3 (position starts from 1),\n",
    "the linked list will be now as 1->3.\n",
    "```\n",
    "```\n",
    "Input:\n",
    "LinkedList = 1 <--> 5 <--> 2 <--> 9\n",
    "x = 1\n",
    "Output:5 2 9\n",
    "```"
   ]
  },
  {
   "attachments": {},
   "cell_type": "markdown",
   "metadata": {},
   "source": [
    "**Answer:**"
   ]
  },
  {
   "cell_type": "code",
   "execution_count": 28,
   "metadata": {},
   "outputs": [
    {
     "name": "stdout",
     "output_type": "stream",
     "text": [
      "1<-->3<-->4<-->\n"
     ]
    }
   ],
   "source": [
    "dllist = DoublyLinkedList()\n",
    "dllist.append(1)\n",
    "dllist.append(3)\n",
    "dllist.append(4)\n",
    "\n",
    "dllist.print()"
   ]
  },
  {
   "cell_type": "code",
   "execution_count": 29,
   "metadata": {},
   "outputs": [
    {
     "name": "stdout",
     "output_type": "stream",
     "text": [
      "1<-->3<-->\n"
     ]
    }
   ],
   "source": [
    "dllist.delete_node(4)\n",
    "dllist.print()"
   ]
  },
  {
   "cell_type": "code",
   "execution_count": 30,
   "metadata": {},
   "outputs": [
    {
     "name": "stdout",
     "output_type": "stream",
     "text": [
      "1<-->5<-->2<-->9<-->\n"
     ]
    }
   ],
   "source": [
    "dllist = DoublyLinkedList()\n",
    "dllist.append(1)\n",
    "dllist.append(5)\n",
    "dllist.append(2)\n",
    "dllist.append(9)\n",
    "\n",
    "dllist.print()"
   ]
  },
  {
   "cell_type": "code",
   "execution_count": 31,
   "metadata": {},
   "outputs": [
    {
     "name": "stdout",
     "output_type": "stream",
     "text": [
      "5<-->2<-->9<-->\n"
     ]
    }
   ],
   "source": [
    "dllist.delete_node(1)\n",
    "\n",
    "dllist.print()"
   ]
  }
 ],
 "metadata": {
  "kernelspec": {
   "display_name": "Python 3",
   "language": "python",
   "name": "python3"
  },
  "language_info": {
   "codemirror_mode": {
    "name": "ipython",
    "version": 3
   },
   "file_extension": ".py",
   "mimetype": "text/x-python",
   "name": "python",
   "nbconvert_exporter": "python",
   "pygments_lexer": "ipython3",
   "version": "3.10.0"
  },
  "orig_nbformat": 4
 },
 "nbformat": 4,
 "nbformat_minor": 2
}
