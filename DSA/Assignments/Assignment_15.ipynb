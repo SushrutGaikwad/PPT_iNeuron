{
 "cells": [
  {
   "attachments": {},
   "cell_type": "markdown",
   "metadata": {},
   "source": [
    "# Assignment 15\n",
    "**Name: Sushrut Gaikwad**"
   ]
  },
  {
   "cell_type": "code",
   "execution_count": 1,
   "metadata": {},
   "outputs": [],
   "source": [
    "from collections import deque\n",
    "\n",
    "\n",
    "class Stack:\n",
    "    def __init__(self) -> None:\n",
    "        self.container = deque()\n",
    "\n",
    "    def push(self, val):\n",
    "        self.container.append(val)\n",
    "\n",
    "    def pop(self):\n",
    "        return self.container.pop()\n",
    "\n",
    "    def top(self):\n",
    "        return self.container[-1]\n",
    "\n",
    "    def is_empty(self):\n",
    "        return len(self.container) == 0\n",
    "\n",
    "    def size(self):\n",
    "        return len(self.container)"
   ]
  },
  {
   "attachments": {},
   "cell_type": "markdown",
   "metadata": {},
   "source": [
    "## Question 1\n",
    "Given an array arr[] of size N having elements, the task is to find the next greater element for each element of the array in order of their appearance in the array.Next greater element of an element in the array is the nearest element on the right which is greater than the current element.If there does not exist next greater of current element, then next greater element for current element is -1. For example, next greater of the last element is always -1.\n",
    "\n",
    "**Examples:**\n",
    "```\n",
    "Input:\n",
    "N = 4, arr[] = [1 3 2 4]\n",
    "Output:\n",
    "3 4 4 -1\n",
    "Explanation:\n",
    "In the array, the next larger element\n",
    "to 1 is 3 , 3 is 4 , 2 is 4 and for 4 ?\n",
    "since it doesn't exist, it is -1.\n",
    "```\n",
    "```\n",
    "Input:\n",
    "N = 5, arr[] [6 8 0 1 3]\n",
    "Output:\n",
    "8 -1 1 3 -1\n",
    "Explanation:\n",
    "In the array, the next larger element to\n",
    "6 is 8, for 8 there is no larger elements\n",
    "hence it is -1, for 0 it is 1 , for 1 it\n",
    "is 3 and then for 3 there is no larger\n",
    "element on right and hence -1.\n",
    "```"
   ]
  },
  {
   "attachments": {},
   "cell_type": "markdown",
   "metadata": {},
   "source": [
    "**Answer:**"
   ]
  },
  {
   "cell_type": "code",
   "execution_count": 2,
   "metadata": {},
   "outputs": [],
   "source": [
    "def next_greater_element(arr: list) -> list:\n",
    "    ans = []\n",
    "    s = Stack()\n",
    "    \n",
    "    # iterating from the rightmost element\n",
    "    for i in range(len(arr) - 1, -1, -1):\n",
    "        \n",
    "        # if the stack is empty, we append `-1` into `ans`\n",
    "        if s.size() == 0:\n",
    "            ans.append(-1)\n",
    "        \n",
    "        # if stack is not empty and the top element is\n",
    "        # greater than `arr[i]`, we append `s.top()` into ans\n",
    "        elif s.size() > 0 and s.top() > arr[i]:\n",
    "            ans.append(s.top())\n",
    "        \n",
    "        # if stack is not empty and the top element is lesser than `arr[i]`\n",
    "        elif s.size() > 0 and s.top() <= arr[i]:\n",
    "            \n",
    "            # we keep popping until the stack becomes empty or the\n",
    "            # top element becomes greater than `arr[i]`\n",
    "            while s.size() > 0 and s.top() <= arr[i]:\n",
    "                s.pop()\n",
    "            \n",
    "            # if after popping the stack becomes empty, i.e., there was\n",
    "            # no element in the stack greater than `arr[i]`, we append `-1` into `ans`\n",
    "            if s.size() == 0:\n",
    "                ans.append(-1)\n",
    "            \n",
    "            # if after popping the stack does not become empty, i.e.,\n",
    "            # there is an element at the top in the stack greater than `arr[i]`,\n",
    "            # we append the top of the stack into `ans`\n",
    "            else:\n",
    "                ans.append(s.top())\n",
    "        \n",
    "        # as the element `arr[i]` is processed, we push it into the stack\n",
    "        s.push(arr[i])\n",
    "    \n",
    "    return ans[::-1]"
   ]
  },
  {
   "cell_type": "code",
   "execution_count": 4,
   "metadata": {},
   "outputs": [
    {
     "data": {
      "text/plain": [
       "[3, 4, 4, -1]"
      ]
     },
     "execution_count": 4,
     "metadata": {},
     "output_type": "execute_result"
    }
   ],
   "source": [
    "arr = [1, 3, 2, 4]\n",
    "\n",
    "next_greater_element(arr=arr)"
   ]
  },
  {
   "cell_type": "code",
   "execution_count": 5,
   "metadata": {},
   "outputs": [
    {
     "data": {
      "text/plain": [
       "[8, -1, 1, 3, -1]"
      ]
     },
     "execution_count": 5,
     "metadata": {},
     "output_type": "execute_result"
    }
   ],
   "source": [
    "arr = [6, 8, 0, 1, 3]\n",
    "\n",
    "next_greater_element(arr=arr)"
   ]
  },
  {
   "cell_type": "code",
   "execution_count": 13,
   "metadata": {},
   "outputs": [
    {
     "data": {
      "text/plain": [
       "[2, -1, -1]"
      ]
     },
     "execution_count": 13,
     "metadata": {},
     "output_type": "execute_result"
    }
   ],
   "source": [
    "arr = [1, 2, 1]\n",
    "\n",
    "next_greater_element(arr=arr)"
   ]
  },
  {
   "attachments": {},
   "cell_type": "markdown",
   "metadata": {},
   "source": [
    "## Question 2\n",
    "Given an array a of integers of length n, find the nearest smaller number for every element such that the smaller element is on left side.If no small element present on the left print -1.\n",
    "\n",
    "**Examples:**\n",
    "```\n",
    "Input: n = 3\n",
    "a = {1, 6, 2}\n",
    "Output: -1 1 1\n",
    "Explaination: There is no number at the\n",
    "left of 1. Smaller number than 6 and 2 is 1.\n",
    "```\n",
    "```\n",
    "Input: n = 6\n",
    "a = {1, 5, 0, 3, 4, 5}\n",
    "Output: -1 1 -1 0 3 4\n",
    "Explaination: Upto 3 it is easy to see\n",
    "the smaller numbers. But for 4 the smaller\n",
    "numbers are 1, 0 and 3. But among them 3\n",
    "is closest. Similary for 5 it is 4.\n",
    "```"
   ]
  },
  {
   "attachments": {},
   "cell_type": "markdown",
   "metadata": {},
   "source": [
    "**Answer:**"
   ]
  },
  {
   "cell_type": "code",
   "execution_count": 10,
   "metadata": {},
   "outputs": [],
   "source": [
    "def nearest_smaller_number_on_the_left(arr: list) -> list:\n",
    "    ans = []\n",
    "    s = Stack()\n",
    "\n",
    "    # iterating from the leftmost element\n",
    "    for i in range(len(arr)):\n",
    "        \n",
    "        # if the stack is empty, we append `-1` into `ans`\n",
    "        if s.size() == 0:\n",
    "            ans.append(-1)\n",
    "        \n",
    "        # if the stack is not empty and the top element is\n",
    "        # lesser than `arr[i]`, we append the top element\n",
    "        # into `ans`\n",
    "        elif s.size() > 0 and s.top() < arr[i]:\n",
    "            ans.append(s.top())\n",
    "        \n",
    "        # if the stack is not empty and the top element is\n",
    "        # greater than `arr[i]`\n",
    "        elif s.size() > 0 and s.top() >= arr[i]:\n",
    "            \n",
    "            # we keep popping until the stack becomes empty\n",
    "            # or the top element becomes lesser than `arr[i]`\n",
    "            while s.size() > 0 and s.top() >= arr[i]:\n",
    "                s.pop()\n",
    "            \n",
    "            # if after popping the stack becomes empty, i.e.,\n",
    "            # there was no element in the stack that was\n",
    "            # lesser than `arr[i]`, we append `-1` into `ans`\n",
    "            if s.size() == 0:\n",
    "                ans.append(-1)\n",
    "            \n",
    "            # if after popping the stack does not become empty, i.e.,\n",
    "            # there is an element at the top of the stack that is\n",
    "            # lesser than `arr[i]`, we append it (i.e., `s.top()`) to `ans`\n",
    "            else:\n",
    "                ans.append(s.top())\n",
    "        \n",
    "        # as the element `arr[i]` is processed, we push it into the stack\n",
    "        s.push(arr[i])\n",
    "    \n",
    "    return ans"
   ]
  },
  {
   "cell_type": "code",
   "execution_count": 11,
   "metadata": {},
   "outputs": [
    {
     "data": {
      "text/plain": [
       "[-1, 1, 1]"
      ]
     },
     "execution_count": 11,
     "metadata": {},
     "output_type": "execute_result"
    }
   ],
   "source": [
    "arr = [1, 6, 2]\n",
    "\n",
    "nearest_smaller_number_on_the_left(arr=arr)"
   ]
  },
  {
   "cell_type": "code",
   "execution_count": 12,
   "metadata": {},
   "outputs": [
    {
     "data": {
      "text/plain": [
       "[-1, 1, -1, 0, 3, 4]"
      ]
     },
     "execution_count": 12,
     "metadata": {},
     "output_type": "execute_result"
    }
   ],
   "source": [
    "arr = [1, 5, 0, 3, 4, 5]\n",
    "\n",
    "nearest_smaller_number_on_the_left(arr=arr)"
   ]
  },
  {
   "attachments": {},
   "cell_type": "markdown",
   "metadata": {},
   "source": [
    "## Question 3\n",
    "Implement a Stack using a queues `q`.\n",
    "\n",
    "**Examples:**\n",
    "```\n",
    "Input:\n",
    "push(2)\n",
    "push(3)\n",
    "pop()\n",
    "push(4)\n",
    "pop()\n",
    "Output:3 4\n",
    "Explanation:\n",
    "push(2) the stack will be {2}\n",
    "push(3) the stack will be {2 3}\n",
    "pop()   poped element will be 3 the\n",
    "        stack will be {2}\n",
    "push(4) the stack will be {2 4}\n",
    "pop()   poped element will be 4\n",
    "```\n",
    "-----------------------------------------------\n",
    "```\n",
    "Input:\n",
    "push(2)\n",
    "pop()\n",
    "pop()\n",
    "push(3)\n",
    "Output:2 -1\n",
    "```"
   ]
  },
  {
   "attachments": {},
   "cell_type": "markdown",
   "metadata": {},
   "source": [
    "**Answer:**"
   ]
  },
  {
   "cell_type": "code",
   "execution_count": 166,
   "metadata": {},
   "outputs": [],
   "source": [
    "from collections import deque\n",
    "\n",
    "class Stack:\n",
    "    def __init__(self) -> None:\n",
    "        self.q = deque()\n",
    "    \n",
    "    def push(self, x: int) -> None:\n",
    "        self.q.append(x)\n",
    "    \n",
    "    def pop(self) -> int:\n",
    "        return self.q.pop()\n",
    "    \n",
    "    def print(self):\n",
    "        print(self.q)"
   ]
  },
  {
   "cell_type": "code",
   "execution_count": 167,
   "metadata": {},
   "outputs": [
    {
     "name": "stdout",
     "output_type": "stream",
     "text": [
      "Popped element: 3\n",
      "Popped element: 4\n",
      "\n",
      "Final stack:\n",
      "deque([2])\n"
     ]
    }
   ],
   "source": [
    "stack = Stack()\n",
    "stack.push(2)\n",
    "stack.push(3)\n",
    "pop1 = stack.pop()\n",
    "print(f\"Popped element: {pop1}\")\n",
    "stack.push(4)\n",
    "pop2 = stack.pop()\n",
    "print(f\"Popped element: {pop2}\")\n",
    "print(\"\\nFinal stack:\")\n",
    "stack.print()"
   ]
  },
  {
   "attachments": {},
   "cell_type": "markdown",
   "metadata": {},
   "source": [
    "## Question 4\n",
    "You are given a stack St. You have to reverse the stack using recursion.\n",
    "\n",
    "**Examples:**\n",
    "```\n",
    "Input:St = {3,2,1,7,6}\n",
    "Output:{6,7,1,2,3}\n",
    "```\n",
    "```\n",
    "Input:St = {4,3,9,6}\n",
    "Output:{6,9,3,4}\n",
    "```"
   ]
  },
  {
   "attachments": {},
   "cell_type": "markdown",
   "metadata": {},
   "source": [
    "**Answer:**"
   ]
  },
  {
   "cell_type": "code",
   "execution_count": null,
   "metadata": {},
   "outputs": [],
   "source": []
  }
 ],
 "metadata": {
  "kernelspec": {
   "display_name": "Python 3",
   "language": "python",
   "name": "python3"
  },
  "language_info": {
   "codemirror_mode": {
    "name": "ipython",
    "version": 3
   },
   "file_extension": ".py",
   "mimetype": "text/x-python",
   "name": "python",
   "nbconvert_exporter": "python",
   "pygments_lexer": "ipython3",
   "version": "3.10.0"
  },
  "orig_nbformat": 4
 },
 "nbformat": 4,
 "nbformat_minor": 2
}
