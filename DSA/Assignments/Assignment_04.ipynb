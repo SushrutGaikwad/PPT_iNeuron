{
 "cells": [
  {
   "attachments": {},
   "cell_type": "markdown",
   "metadata": {},
   "source": [
    "# Assignment 4\n",
    "**Name: Sushrut Gaikwad**"
   ]
  },
  {
   "attachments": {},
   "cell_type": "markdown",
   "metadata": {},
   "source": [
    "## Question 1\n",
    "Given three integer arrays `arr1`, `arr2`, and `arr3`, sorted in strictly increasing order, return a sorted array of only the integers that appeared in all three arrays.\n",
    "\n",
    "**Example:**\n",
    "\n",
    "Input: `arr1 = [1, 2, 3, 4, 5]`, `arr2 = [1, 2, 5, 7, 9]`, `arr3 = [1, 3, 4, 5, 8]`.\n",
    "\n",
    "Output: `[1, 5]`.\n",
    "\n",
    "Explanation: Only `1` and `5` appeared in the three arrays."
   ]
  },
  {
   "attachments": {},
   "cell_type": "markdown",
   "metadata": {},
   "source": [
    "**Answer:**"
   ]
  },
  {
   "cell_type": "code",
   "execution_count": 9,
   "metadata": {},
   "outputs": [],
   "source": [
    "def integers_appeared_in_all_three_arrays(arr1: list, arr2: list, arr3: list):\n",
    "    common_elements = []\n",
    "    for element in arr1:\n",
    "        if element in arr2 and element in arr3:\n",
    "            common_elements.append(element)\n",
    "    return common_elements"
   ]
  },
  {
   "cell_type": "code",
   "execution_count": 10,
   "metadata": {},
   "outputs": [
    {
     "data": {
      "text/plain": [
       "[1, 5]"
      ]
     },
     "execution_count": 10,
     "metadata": {},
     "output_type": "execute_result"
    }
   ],
   "source": [
    "arr1 = [1, 2, 3, 4, 5]\n",
    "arr2 = [1, 2, 5, 7, 9]\n",
    "arr3 = [1, 3, 4, 5, 8]\n",
    "\n",
    "integers_appeared_in_all_three_arrays(arr1, arr2, arr3)"
   ]
  },
  {
   "attachments": {},
   "cell_type": "markdown",
   "metadata": {},
   "source": [
    "## Question 2\n",
    "Given two `0`-indexed integer arrays `nums1` and `nums2`, return a list `answer` of size `2` where:\n",
    "* `answer[0]` is a list of all distinct integers in `nums1` which are not present in `nums2`.\n",
    "* `answer[1]` is a list of all distinct integers in `nums2` which are not present in `nums1`.\n",
    "\n",
    "Note that the integers in the lists may be returned in any order.\n",
    "\n",
    "**Example:**\n",
    "\n",
    "Input: `nums1 = [1, 2, 3]`, `nums2 = [2, 4, 6]`.\n",
    "\n",
    "Output: `[[1, 3], [4, 6]]`\n",
    "\n",
    "Explanation:\n",
    "* For `nums1`, `nums1[1] = 2` is present at index `0` of `nums2`, whereas `nums1[0] = 1` and `nums1[2] = 3` are not present in `nums2`. Therefore, `answer[0] = [1, 3]`.\n",
    "* For `nums2`, `nums2[0] = 2` is present at index `1` of `nums1`, whereas `nums2[1] = 4` and `nums2[2] = 6` are not present in `nums2`. Therefore, `answer[1] = [4, 6]`."
   ]
  },
  {
   "attachments": {},
   "cell_type": "markdown",
   "metadata": {},
   "source": [
    "**Answer:**"
   ]
  },
  {
   "cell_type": "code",
   "execution_count": 16,
   "metadata": {},
   "outputs": [],
   "source": [
    "def question2(nums1: list, nums2: list):\n",
    "    answer = []\n",
    "\n",
    "    nums1_minus_nums2 = []\n",
    "\n",
    "    for i in nums1:\n",
    "        if i not in nums2:\n",
    "            nums1_minus_nums2.append(i)\n",
    "\n",
    "    nums2_minus_nums1 = []\n",
    "\n",
    "    for i in nums2:\n",
    "        if i not in nums1:\n",
    "            nums2_minus_nums1.append(i)\n",
    "\n",
    "    answer.append(nums1_minus_nums2)\n",
    "    answer.append(nums2_minus_nums1)\n",
    "    \n",
    "    return answer"
   ]
  },
  {
   "cell_type": "code",
   "execution_count": 17,
   "metadata": {},
   "outputs": [
    {
     "data": {
      "text/plain": [
       "[[1, 3], [4, 6]]"
      ]
     },
     "execution_count": 17,
     "metadata": {},
     "output_type": "execute_result"
    }
   ],
   "source": [
    "nums1 = [1, 2, 3]\n",
    "nums2 = [2, 4, 6]\n",
    "\n",
    "question2(nums1, nums2)"
   ]
  },
  {
   "attachments": {},
   "cell_type": "markdown",
   "metadata": {},
   "source": [
    "## Question 3\n",
    "Given a 2D integer array `matrix`, return its transpose.\n",
    "\n",
    "**Example:**\n",
    "\n",
    "Input: `matrix = [[1, 2, 3], [4, 5, 6], [7, 8, 9]]`\n",
    "\n",
    "Output: `[[1, 4, 7], [2, 5, 8], [3, 6, 9]]`"
   ]
  },
  {
   "attachments": {},
   "cell_type": "markdown",
   "metadata": {},
   "source": [
    "**Answer:**"
   ]
  },
  {
   "cell_type": "code",
   "execution_count": 34,
   "metadata": {},
   "outputs": [],
   "source": [
    "class Solution:\n",
    "    def transpose(self, matrix: list):\n",
    "        \n",
    "        no_of_rows = len(matrix)\n",
    "        no_of_columns = len(matrix[0])\n",
    "\n",
    "        transpose = []\n",
    "\n",
    "        i = 0\n",
    "        while i < no_of_columns:\n",
    "            row_of_transpose = []\n",
    "            for row in matrix:\n",
    "                row_of_transpose.append(row[i])\n",
    "            transpose.append(row_of_transpose)\n",
    "            i += 1\n",
    "        \n",
    "        return transpose\n",
    "\n",
    "solution = Solution()"
   ]
  },
  {
   "cell_type": "code",
   "execution_count": 36,
   "metadata": {},
   "outputs": [
    {
     "data": {
      "text/plain": [
       "[[1, 4, 7], [2, 5, 8], [3, 6, 9]]"
      ]
     },
     "execution_count": 36,
     "metadata": {},
     "output_type": "execute_result"
    }
   ],
   "source": [
    "matrix = [\n",
    "    [1, 2, 3],\n",
    "    [4, 5, 6],\n",
    "    [7, 8, 9]\n",
    "]\n",
    "\n",
    "solution.transpose(matrix)"
   ]
  },
  {
   "cell_type": "code",
   "execution_count": 37,
   "metadata": {},
   "outputs": [
    {
     "data": {
      "text/plain": [
       "[[1, 4], [2, 5], [3, 6]]"
      ]
     },
     "execution_count": 37,
     "metadata": {},
     "output_type": "execute_result"
    }
   ],
   "source": [
    "matrix = [\n",
    "    [1, 2, 3],\n",
    "    [4, 5, 6]\n",
    "]\n",
    "\n",
    "solution.transpose(matrix)"
   ]
  },
  {
   "cell_type": "code",
   "execution_count": 38,
   "metadata": {},
   "outputs": [
    {
     "data": {
      "text/plain": [
       "[[1]]"
      ]
     },
     "execution_count": 38,
     "metadata": {},
     "output_type": "execute_result"
    }
   ],
   "source": [
    "matrix = [\n",
    "    [1]\n",
    "]\n",
    "\n",
    "solution.transpose(matrix)"
   ]
  },
  {
   "attachments": {},
   "cell_type": "markdown",
   "metadata": {},
   "source": [
    "## Question 4\n",
    "Given an integer array `nums` of `2n` integers, group these integers into `n` pairs `(a1, b1)`, `(a2, b2)`, ..., `(an, bn)` such that the sum of `min(ai, bi)` for all `i` is maximized. Return the maximized sum.\n",
    "\n",
    "**Example:**\n",
    "\n",
    "Input: `nums = [1, 4, 3, 2]`.\n",
    "\n",
    "Output: `4`.\n",
    "\n",
    "Explanation:\n",
    "\n",
    "All possible pairings (ignoring the ordering of elements) are:\n",
    "1. `(1, 4)`, `(2, 3)` -> `min(1, 4) + min(2, 3) = 1 + 2 = 3`.\n",
    "2. `(1, 3)`, `(2, 4)` -> `min(1, 3) + min(2, 4) = 1 + 2 = 3`.\n",
    "3. `(1, 2)`, `(3, 4)` -> `min(1, 2) + min(3, 4) = 1 + 3 = 4`.\n",
    "\n",
    "So, the maximum possible sum is `4`."
   ]
  },
  {
   "attachments": {},
   "cell_type": "markdown",
   "metadata": {},
   "source": [
    "**Answer:**"
   ]
  },
  {
   "attachments": {},
   "cell_type": "markdown",
   "metadata": {},
   "source": []
  }
 ],
 "metadata": {
  "kernelspec": {
   "display_name": "Python 3",
   "language": "python",
   "name": "python3"
  },
  "language_info": {
   "codemirror_mode": {
    "name": "ipython",
    "version": 3
   },
   "file_extension": ".py",
   "mimetype": "text/x-python",
   "name": "python",
   "nbconvert_exporter": "python",
   "pygments_lexer": "ipython3",
   "version": "3.10.0"
  },
  "orig_nbformat": 4
 },
 "nbformat": 4,
 "nbformat_minor": 2
}
