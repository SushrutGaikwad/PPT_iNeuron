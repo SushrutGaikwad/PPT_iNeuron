{
 "cells": [
  {
   "attachments": {},
   "cell_type": "markdown",
   "metadata": {},
   "source": [
    "# Assignment 4\n",
    "**Name: Sushrut Gaikwad**"
   ]
  },
  {
   "attachments": {},
   "cell_type": "markdown",
   "metadata": {},
   "source": [
    "## Question 1\n",
    "Given three integer arrays `arr1`, `arr2`, and `arr3`, sorted in strictly increasing order, return a sorted array of only the integers that appeared in all three arrays.\n",
    "\n",
    "**Example:**\n",
    "\n",
    "Input: `arr1 = [1, 2, 3, 4, 5]`, `arr2 = [1, 2, 5, 7, 9]`, `arr3 = [1, 3, 4, 5, 8]`.\n",
    "\n",
    "Output: `[1, 5]`.\n",
    "\n",
    "Explanation: Only `1` and `5` appeared in the three arrays."
   ]
  },
  {
   "attachments": {},
   "cell_type": "markdown",
   "metadata": {},
   "source": [
    "**Answer:**"
   ]
  },
  {
   "cell_type": "code",
   "execution_count": 1,
   "metadata": {},
   "outputs": [],
   "source": [
    "def integers_appeared_in_all_three_arrays(arr1: list, arr2: list, arr3: list):\n",
    "    common_elements = []\n",
    "    for element in arr1:\n",
    "        if element in arr2 and element in arr3:\n",
    "            common_elements.append(element)\n",
    "    return common_elements"
   ]
  },
  {
   "cell_type": "code",
   "execution_count": 2,
   "metadata": {},
   "outputs": [
    {
     "data": {
      "text/plain": [
       "[1, 5]"
      ]
     },
     "execution_count": 2,
     "metadata": {},
     "output_type": "execute_result"
    }
   ],
   "source": [
    "arr1 = [1, 2, 3, 4, 5]\n",
    "arr2 = [1, 2, 5, 7, 9]\n",
    "arr3 = [1, 3, 4, 5, 8]\n",
    "\n",
    "integers_appeared_in_all_three_arrays(arr1, arr2, arr3)"
   ]
  },
  {
   "attachments": {},
   "cell_type": "markdown",
   "metadata": {},
   "source": [
    "## Question 2\n",
    "Given two `0`-indexed integer arrays `nums1` and `nums2`, return a list `answer` of size `2` where:\n",
    "* `answer[0]` is a list of all distinct integers in `nums1` which are not present in `nums2`.\n",
    "* `answer[1]` is a list of all distinct integers in `nums2` which are not present in `nums1`.\n",
    "\n",
    "Note that the integers in the lists may be returned in any order.\n",
    "\n",
    "**Example:**\n",
    "\n",
    "Input: `nums1 = [1, 2, 3]`, `nums2 = [2, 4, 6]`.\n",
    "\n",
    "Output: `[[1, 3], [4, 6]]`\n",
    "\n",
    "Explanation:\n",
    "* For `nums1`, `nums1[1] = 2` is present at index `0` of `nums2`, whereas `nums1[0] = 1` and `nums1[2] = 3` are not present in `nums2`. Therefore, `answer[0] = [1, 3]`.\n",
    "* For `nums2`, `nums2[0] = 2` is present at index `1` of `nums1`, whereas `nums2[1] = 4` and `nums2[2] = 6` are not present in `nums2`. Therefore, `answer[1] = [4, 6]`."
   ]
  },
  {
   "attachments": {},
   "cell_type": "markdown",
   "metadata": {},
   "source": [
    "**Answer:**"
   ]
  },
  {
   "cell_type": "code",
   "execution_count": 3,
   "metadata": {},
   "outputs": [],
   "source": [
    "def question_2(nums1: list, nums2: list):\n",
    "    answer = []\n",
    "\n",
    "    nums1_minus_nums2 = []\n",
    "\n",
    "    for i in nums1:\n",
    "        if i not in nums2:\n",
    "            nums1_minus_nums2.append(i)\n",
    "\n",
    "    nums2_minus_nums1 = []\n",
    "\n",
    "    for i in nums2:\n",
    "        if i not in nums1:\n",
    "            nums2_minus_nums1.append(i)\n",
    "\n",
    "    answer.append(nums1_minus_nums2)\n",
    "    answer.append(nums2_minus_nums1)\n",
    "    \n",
    "    return answer"
   ]
  },
  {
   "cell_type": "code",
   "execution_count": 4,
   "metadata": {},
   "outputs": [
    {
     "data": {
      "text/plain": [
       "[[1, 3], [4, 6]]"
      ]
     },
     "execution_count": 4,
     "metadata": {},
     "output_type": "execute_result"
    }
   ],
   "source": [
    "nums1 = [1, 2, 3]\n",
    "nums2 = [2, 4, 6]\n",
    "\n",
    "question_2(nums1, nums2)"
   ]
  },
  {
   "attachments": {},
   "cell_type": "markdown",
   "metadata": {},
   "source": [
    "## Question 3\n",
    "Given a 2D integer array `matrix`, return its transpose.\n",
    "\n",
    "**Example:**\n",
    "\n",
    "Input: `matrix = [[1, 2, 3], [4, 5, 6], [7, 8, 9]]`\n",
    "\n",
    "Output: `[[1, 4, 7], [2, 5, 8], [3, 6, 9]]`"
   ]
  },
  {
   "attachments": {},
   "cell_type": "markdown",
   "metadata": {},
   "source": [
    "**Answer:**"
   ]
  },
  {
   "cell_type": "code",
   "execution_count": 5,
   "metadata": {},
   "outputs": [],
   "source": [
    "class Solution:\n",
    "    def transpose(self, matrix: list):\n",
    "        \n",
    "        no_of_rows = len(matrix)\n",
    "        no_of_columns = len(matrix[0])\n",
    "\n",
    "        transpose = []\n",
    "\n",
    "        i = 0\n",
    "        while i < no_of_columns:\n",
    "            row_of_transpose = []\n",
    "            for row in matrix:\n",
    "                row_of_transpose.append(row[i])\n",
    "            transpose.append(row_of_transpose)\n",
    "            i += 1\n",
    "        \n",
    "        return transpose\n",
    "\n",
    "solution = Solution()"
   ]
  },
  {
   "cell_type": "code",
   "execution_count": 6,
   "metadata": {},
   "outputs": [
    {
     "data": {
      "text/plain": [
       "[[1, 4, 7], [2, 5, 8], [3, 6, 9]]"
      ]
     },
     "execution_count": 6,
     "metadata": {},
     "output_type": "execute_result"
    }
   ],
   "source": [
    "matrix = [\n",
    "    [1, 2, 3],\n",
    "    [4, 5, 6],\n",
    "    [7, 8, 9]\n",
    "]\n",
    "\n",
    "solution.transpose(matrix)"
   ]
  },
  {
   "cell_type": "code",
   "execution_count": 7,
   "metadata": {},
   "outputs": [
    {
     "data": {
      "text/plain": [
       "[[1, 4], [2, 5], [3, 6]]"
      ]
     },
     "execution_count": 7,
     "metadata": {},
     "output_type": "execute_result"
    }
   ],
   "source": [
    "matrix = [\n",
    "    [1, 2, 3],\n",
    "    [4, 5, 6]\n",
    "]\n",
    "\n",
    "solution.transpose(matrix)"
   ]
  },
  {
   "cell_type": "code",
   "execution_count": 8,
   "metadata": {},
   "outputs": [
    {
     "data": {
      "text/plain": [
       "[[1]]"
      ]
     },
     "execution_count": 8,
     "metadata": {},
     "output_type": "execute_result"
    }
   ],
   "source": [
    "matrix = [\n",
    "    [1]\n",
    "]\n",
    "\n",
    "solution.transpose(matrix)"
   ]
  },
  {
   "attachments": {},
   "cell_type": "markdown",
   "metadata": {},
   "source": [
    "## Question 4\n",
    "Given an integer array `nums` of `2n` integers, group these integers into `n` pairs `(a1, b1)`, `(a2, b2)`, ..., `(an, bn)` such that the sum of `min(ai, bi)` for all `i` is maximized. Return the maximized sum.\n",
    "\n",
    "**Example:**\n",
    "\n",
    "Input: `nums = [1, 4, 3, 2]`.\n",
    "\n",
    "Output: `4`.\n",
    "\n",
    "Explanation:\n",
    "\n",
    "All possible pairings (ignoring the ordering of elements) are:\n",
    "1. `(1, 4)`, `(2, 3)` -> `min(1, 4) + min(2, 3) = 1 + 2 = 3`.\n",
    "2. `(1, 3)`, `(2, 4)` -> `min(1, 3) + min(2, 4) = 1 + 2 = 3`.\n",
    "3. `(1, 2)`, `(3, 4)` -> `min(1, 2) + min(3, 4) = 1 + 3 = 4`.\n",
    "\n",
    "So, the maximum possible sum is `4`."
   ]
  },
  {
   "attachments": {},
   "cell_type": "markdown",
   "metadata": {},
   "source": [
    "**Answer:**"
   ]
  },
  {
   "cell_type": "code",
   "execution_count": 9,
   "metadata": {},
   "outputs": [],
   "source": [
    "def maximized_sum(nums: list):\n",
    "    # Initializing the max_sum to 0\n",
    "    max_sum = 0\n",
    "    \n",
    "    # Sorting `nums`\n",
    "    nums.sort()\n",
    "    \n",
    "    # Looping over `nums` in steps of 2 to only get element at odd index\n",
    "    for i in range(0, len(nums) - 1, 2):\n",
    "        \n",
    "        # Incrementing max_sum\n",
    "        max_sum += nums[i]\n",
    "        \n",
    "    return max_sum"
   ]
  },
  {
   "cell_type": "code",
   "execution_count": 10,
   "metadata": {},
   "outputs": [
    {
     "data": {
      "text/plain": [
       "4"
      ]
     },
     "execution_count": 10,
     "metadata": {},
     "output_type": "execute_result"
    }
   ],
   "source": [
    "nums = [1, 4, 3, 2]\n",
    "maximized_sum(nums)"
   ]
  },
  {
   "attachments": {
    "Ass4_q5.png": {
     "image/png": "[encoded data removed]"
    }
   },
   "cell_type": "markdown",
   "metadata": {},
   "source": [
    "## Question 5\n",
    "You have `n` coins and you want to build a staircase with these coins. The staircase consists of `k` rows where the `i`-th row has exactly `i` coins. The last row of the staircase may be incomplete. Given the integer `n`, return the number of complete rows of the staircase you will build.\n",
    "\n",
    "**Example:**\n",
    "\n",
    "![Ass4_q5.png](attachment:Ass4_q5.png)\n",
    "\n",
    "Input = `n = 5`.\n",
    "\n",
    "Output: `2`.\n",
    "\n",
    "Explanation: The 3rd row is incomplete, and only the first and second rows are complete. Hence, we return `2`."
   ]
  },
  {
   "attachments": {},
   "cell_type": "markdown",
   "metadata": {},
   "source": [
    "**Answer:**"
   ]
  },
  {
   "cell_type": "code",
   "execution_count": 11,
   "metadata": {},
   "outputs": [],
   "source": [
    "class Solution:\n",
    "    def number_of_complete_rows_of_the_coin_staircase(self, n: int):\n",
    "        k = []\n",
    "        for i in range(1, n + 1):\n",
    "            for j in range(1, i + 1):\n",
    "                k.append(i)\n",
    "\n",
    "        k = k[:n][-1]\n",
    "        \n",
    "        total_spots = (k*(k + 1)) // 2\n",
    "        \n",
    "        if n == total_spots:\n",
    "            return k\n",
    "        else:\n",
    "            return k - 1\n",
    "\n",
    "solution = Solution()"
   ]
  },
  {
   "cell_type": "code",
   "execution_count": 12,
   "metadata": {},
   "outputs": [
    {
     "data": {
      "text/plain": [
       "2"
      ]
     },
     "execution_count": 12,
     "metadata": {},
     "output_type": "execute_result"
    }
   ],
   "source": [
    "n = 5\n",
    "\n",
    "solution.number_of_complete_rows_of_the_coin_staircase(n)"
   ]
  },
  {
   "cell_type": "code",
   "execution_count": 13,
   "metadata": {},
   "outputs": [
    {
     "data": {
      "text/plain": [
       "4"
      ]
     },
     "execution_count": 13,
     "metadata": {},
     "output_type": "execute_result"
    }
   ],
   "source": [
    "n = 11\n",
    "\n",
    "solution.number_of_complete_rows_of_the_coin_staircase(n)"
   ]
  },
  {
   "attachments": {},
   "cell_type": "markdown",
   "metadata": {},
   "source": [
    "## Question 6\n",
    "Given an integer array `nums` sorted in non-decreasing order, return an array of the squares of each number sorted in non-decreasing order.\n",
    "\n",
    "**Example:**\n",
    "\n",
    "Input: `nums = [-4, -1, 0, 3, 10]`\n",
    "\n",
    "Output: `[0, 1, 9, 16, 100]`\n",
    "\n",
    "Explanation: After squaring, the array becomes `[16, 1, 0, 9, 100]`. After sorting, it becomes `[0, 1, 9, 16, 100]`."
   ]
  },
  {
   "attachments": {},
   "cell_type": "markdown",
   "metadata": {},
   "source": [
    "**Answer:**"
   ]
  },
  {
   "cell_type": "code",
   "execution_count": 14,
   "metadata": {},
   "outputs": [],
   "source": [
    "class Solution:\n",
    "    def square_sort(self, nums: list):\n",
    "        for i in range(len(nums)):\n",
    "            nums[i] = nums[i] * nums[i]\n",
    "        nums.sort()\n",
    "        return nums\n",
    "\n",
    "solution = Solution()"
   ]
  },
  {
   "cell_type": "code",
   "execution_count": 15,
   "metadata": {},
   "outputs": [
    {
     "data": {
      "text/plain": [
       "[0, 1, 9, 16, 100]"
      ]
     },
     "execution_count": 15,
     "metadata": {},
     "output_type": "execute_result"
    }
   ],
   "source": [
    "nums = [-4, -1, 0, 3, 10]\n",
    "solution.square_sort(nums)"
   ]
  },
  {
   "attachments": {
    "Ass_4_q7.png": {
     "image/png": "[encoded data removed]"
    }
   },
   "cell_type": "markdown",
   "metadata": {},
   "source": [
    "## Question 7\n",
    "You are given an `m × n` matrix `M` initialized with all `0`'s and an array of operations `ops`, where `ops[i] = [ai, bi]` means `M[x][y]` should be incremented by one for all `0 <= x < ai` and `0 <= y < bi`. Count and return the number of maximum integers in the matrix after performing all the operations.\n",
    "\n",
    "**Example:**\n",
    "\n",
    "![Ass_4_q7.png](attachment:Ass_4_q7.png)\n",
    "\n",
    "Input: `m = 3`, `n = 3`, `ops = [[2, 2], [3, 3]]`.\n",
    "\n",
    "Output: `4`.\n",
    "\n",
    "Explanation: The maximum integer in `M` is `2`, and there are four of it in `M`. So return `4`."
   ]
  },
  {
   "attachments": {},
   "cell_type": "markdown",
   "metadata": {},
   "source": [
    "**Answer:**"
   ]
  },
  {
   "cell_type": "code",
   "execution_count": 16,
   "metadata": {},
   "outputs": [],
   "source": [
    "class Solution:\n",
    "    def question_7(self, M: list, ops: list, m: int, n: int):\n",
    "        no_of_ops = len(ops)\n",
    "        \n",
    "        for i in range(no_of_ops):\n",
    "            op = ops[i]\n",
    "            col_range = op[0]\n",
    "            row_range = op[1]\n",
    "            for c in range(col_range):\n",
    "                for r in range(row_range):\n",
    "                    M[c][r] += 1\n",
    "\n",
    "        max = 0\n",
    "        for r in range(m):\n",
    "            for c in range(m):\n",
    "                if M[r][c] > max:\n",
    "                    max += M[r][c]\n",
    "\n",
    "        count = 0\n",
    "\n",
    "        for r in range(m):\n",
    "            for c in range(m):\n",
    "                if M[r][c] == max:\n",
    "                    count += 1\n",
    "        \n",
    "        return count\n",
    "\n",
    "solution = Solution()"
   ]
  },
  {
   "cell_type": "code",
   "execution_count": 17,
   "metadata": {},
   "outputs": [],
   "source": [
    "M = []\n",
    "m = 3  # No. of rows\n",
    "n = 3  # No. of columns\n",
    "for i in range(m):\n",
    "    row = []\n",
    "    for j in range(n):\n",
    "        row.append(0)\n",
    "    M.append(row)"
   ]
  },
  {
   "cell_type": "code",
   "execution_count": 18,
   "metadata": {},
   "outputs": [
    {
     "data": {
      "text/plain": [
       "4"
      ]
     },
     "execution_count": 18,
     "metadata": {},
     "output_type": "execute_result"
    }
   ],
   "source": [
    "solution.question_7(M=M, m=m, n=n, ops=[[2, 2], [3, 3]])"
   ]
  },
  {
   "cell_type": "code",
   "execution_count": 19,
   "metadata": {},
   "outputs": [
    {
     "data": {
      "text/plain": [
       "4"
      ]
     },
     "execution_count": 19,
     "metadata": {},
     "output_type": "execute_result"
    }
   ],
   "source": [
    "solution.question_7(M=M, m=m, n=n, ops=[[2,2],[3,3],[3,3],[3,3],[2,2],[3,3],[3,3],[3,3],[2,2],[3,3],[3,3],[3,3]])"
   ]
  },
  {
   "attachments": {},
   "cell_type": "markdown",
   "metadata": {},
   "source": [
    "## Question 8\n",
    "Given the array `nums` consisting of `2n` elements in the form `[x1, x2, ..., xn, y1, y2, ..., yn]`. Return the array in the form `[x1, y1, x2, y2, ..., xn, yn]`.\n",
    "\n",
    "**Example:**\n",
    "\n",
    "Input: `nums = [2, 5, 1, 3, 4, 7]`, `n = 3`.\n",
    "\n",
    "Output: `[2, 3, 5, 4, 1, 7]`.\n",
    "\n",
    "Explanation: Since `x1 = 2`, `x2 = 5`, `x3 = 1`, `y1 = 3`, `y2 = 4`, `y3 = 7`, then the answer is `[2, 3, 5, 4, 1, 7]`."
   ]
  },
  {
   "attachments": {},
   "cell_type": "markdown",
   "metadata": {},
   "source": [
    "**Answer:**"
   ]
  },
  {
   "cell_type": "code",
   "execution_count": 20,
   "metadata": {},
   "outputs": [],
   "source": [
    "class Solution:\n",
    "    def question_8(self, nums: list, n: int):\n",
    "        nums_new = [0] * (2*n)\n",
    "        for i in range(n):\n",
    "            nums_new[i+i] = nums[i]\n",
    "        j = 1\n",
    "        for i in range(n):\n",
    "            nums_new[i+j] = nums[i+n]\n",
    "            j += 1\n",
    "        return nums_new\n",
    "\n",
    "solution = Solution()"
   ]
  },
  {
   "cell_type": "code",
   "execution_count": 21,
   "metadata": {},
   "outputs": [
    {
     "data": {
      "text/plain": [
       "[2, 3, 5, 4, 1, 7]"
      ]
     },
     "execution_count": 21,
     "metadata": {},
     "output_type": "execute_result"
    }
   ],
   "source": [
    "nums = [2, 5, 1, 3, 4, 7]\n",
    "n = 3\n",
    "\n",
    "solution.question_8(nums, n)"
   ]
  }
 ],
 "metadata": {
  "kernelspec": {
   "display_name": "Python 3",
   "language": "python",
   "name": "python3"
  },
  "language_info": {
   "codemirror_mode": {
    "name": "ipython",
    "version": 3
   },
   "file_extension": ".py",
   "mimetype": "text/x-python",
   "name": "python",
   "nbconvert_exporter": "python",
   "pygments_lexer": "ipython3",
   "version": "3.10.0"
  },
  "orig_nbformat": 4
 },
 "nbformat": 4,
 "nbformat_minor": 2
}
