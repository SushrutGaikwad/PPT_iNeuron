{
 "cells": [
  {
   "attachments": {},
   "cell_type": "markdown",
   "metadata": {},
   "source": [
    "[Annotated notes](https://pwskills.notion.site/Annotated-Notes-7-8cc173ee48e64b0eab624908b71d6a8f)\\\n",
    "[Notes with code](https://pwskills.notion.site/Class-Notes-7-08d9f01cb65e48a1be7202ee1681b77d)"
   ]
  },
  {
   "attachments": {},
   "cell_type": "markdown",
   "metadata": {},
   "source": [
    "# Strings"
   ]
  },
  {
   "attachments": {},
   "cell_type": "markdown",
   "metadata": {},
   "source": [
    "A string is nothing but a sequence or an array of characters, e.g., `\"data\"`."
   ]
  },
  {
   "attachments": {},
   "cell_type": "markdown",
   "metadata": {},
   "source": [
    "## Operations On Strings\n",
    "### Concatenation\n",
    "The concatenation of the strings `\"abc\"`, `\"def\"`, and `\"ghi\"` is `\"abcdefghi\"`.\n",
    "### Trimming\n",
    "Consider the strings `\"  a bc d  \"`. If we use `trim()`, it removes the leading and trailing spaces, i.e., it returns `\"a bc d\"`.\n",
    "### Reverse\n",
    "As the name suggests, the reverse of `\"abcd\"` is `\"dcba\"`."
   ]
  },
  {
   "attachments": {},
   "cell_type": "markdown",
   "metadata": {},
   "source": [
    "## Subsequence vs. substring of a string\n",
    "A substring is a contiguous part of a string. However, a subsequence is a sequence derived by removing zero or some characters without changing the order. Consider the string `\"abcdefg\"`. An example of a subsequence is `\"adf\"`. But since this is not contiguous, it is not a substring. An example of a subsequence is `\"abc\"`."
   ]
  },
  {
   "attachments": {},
   "cell_type": "markdown",
   "metadata": {},
   "source": [
    "## Palindrome\n",
    "The string `\"abba\"` is a palindrome since its reverse is the same."
   ]
  },
  {
   "attachments": {},
   "cell_type": "markdown",
   "metadata": {},
   "source": [
    "# Questions"
   ]
  },
  {
   "attachments": {},
   "cell_type": "markdown",
   "metadata": {},
   "source": [
    "**Question:** Write a function that reverses a string. The input string is given as an array of characters `s`. You must do this by modifying the input array in-place with $\\mathcal{O}\\left(1\\right)$ extra memory.\n",
    "\n",
    "**Example:**\n",
    "\n",
    "Input: `s = [\"h\", \"e\", \"l\", \"l\", \"o\"]`.\n",
    "\n",
    "Output: `[\"o\", \"l\", \"l\", \"e\", \"h\"]`."
   ]
  },
  {
   "cell_type": "code",
   "execution_count": 1,
   "metadata": {},
   "outputs": [],
   "source": [
    "# My solution using 2-pointer approach\n",
    "def reverse_string(s: list):\n",
    "    l = 0\n",
    "    r = len(s) - 1\n",
    "    \n",
    "    while l < r:\n",
    "        s[l], s[r] = s[r], s[l]\n",
    "        l += 1\n",
    "        r -= 1\n",
    "    \n",
    "    return s"
   ]
  },
  {
   "cell_type": "code",
   "execution_count": 2,
   "metadata": {},
   "outputs": [
    {
     "data": {
      "text/plain": [
       "['o', 'l', 'l', 'e', 'h']"
      ]
     },
     "execution_count": 2,
     "metadata": {},
     "output_type": "execute_result"
    }
   ],
   "source": [
    "s = [\"h\", \"e\", \"l\", \"l\", \"o\"]\n",
    "reverse_string(s)"
   ]
  },
  {
   "attachments": {},
   "cell_type": "markdown",
   "metadata": {},
   "source": [
    "**Solution:**"
   ]
  },
  {
   "attachments": {},
   "cell_type": "markdown",
   "metadata": {},
   "source": [
    "Your solution is correct. The time complexity is $\\mathcal{O}\\left( n \\right)$ and the space complexity is $\\mathcal{O}\\left( 1 \\right)$."
   ]
  },
  {
   "attachments": {},
   "cell_type": "markdown",
   "metadata": {},
   "source": [
    "**Question:** Given a string `s`, find the first non-repeating character in it and return its index. If it does not exist, return `-1`.\n",
    "\n",
    "**Example:**\n",
    "\n",
    "Input: `s = \"leetcode\"`.\n",
    "\n",
    "Output: `0`."
   ]
  },
  {
   "attachments": {},
   "cell_type": "markdown",
   "metadata": {},
   "source": [
    "**Solution:** Use hashmap. The time complexity is $\\mathcal{O}\\left( n \\right)$, and the space complexity is $\\mathcal{O}\\left( 1 \\right)$. The space complexity is constant since there are limited characters, i.e., 26 for English language."
   ]
  },
  {
   "cell_type": "code",
   "execution_count": 3,
   "metadata": {},
   "outputs": [],
   "source": [
    "def firstUniqChar(s):\n",
    "    count = {}\n",
    "    n = len(s)\n",
    "    # build hash map: character and how often it appears\n",
    "    for i in range(n):\n",
    "        c = s[i]\n",
    "        count[c] = count.get(c, 0) + 1\n",
    "\n",
    "    # find the index\n",
    "    for i in range(n):\n",
    "        if count[s[i]] == 1:\n",
    "            return i\n",
    "    return -1"
   ]
  },
  {
   "cell_type": "code",
   "execution_count": 4,
   "metadata": {},
   "outputs": [
    {
     "data": {
      "text/plain": [
       "0"
      ]
     },
     "execution_count": 4,
     "metadata": {},
     "output_type": "execute_result"
    }
   ],
   "source": [
    "s = \"leetcode\"\n",
    "\n",
    "firstUniqChar(s)"
   ]
  },
  {
   "attachments": {},
   "cell_type": "markdown",
   "metadata": {},
   "source": [
    "**Question:** Given a string `s` consisting of words and spaces, return the length of the last word in the string. A word is a maximal substring consisting of non-space characters only.\n",
    "\n",
    "**Example:**\n",
    "\n",
    "Input: `s = \"Hello World\"`.\n",
    "\n",
    "Output: `5`.\n",
    "\n",
    "Explanation: The last word is `\"World\"` with length `5`."
   ]
  },
  {
   "cell_type": "code",
   "execution_count": 5,
   "metadata": {},
   "outputs": [],
   "source": [
    "# My solution\n",
    "def last_word(s: str):\n",
    "    space_indices = []\n",
    "    for i in range(len(s)):\n",
    "        if s[i] == \" \":\n",
    "            space_indices.append(i)\n",
    "    last_word = s[space_indices[-1]+1:]\n",
    "    return len(last_word)"
   ]
  },
  {
   "cell_type": "code",
   "execution_count": 6,
   "metadata": {},
   "outputs": [
    {
     "data": {
      "text/plain": [
       "5"
      ]
     },
     "execution_count": 6,
     "metadata": {},
     "output_type": "execute_result"
    }
   ],
   "source": [
    "s = \"Hello World\"\n",
    "\n",
    "last_word(s)"
   ]
  },
  {
   "attachments": {},
   "cell_type": "markdown",
   "metadata": {},
   "source": [
    "**Solution:** Do not forget to check if there are any trailing spaces. Then start from the last character till we get an empty space. While doing this, keep a counter for the length. The time complexity is $\\mathcal{O}\\left( n \\right)$, and the space complexity is $\\mathcal{O}\\left( 1 \\right)$."
   ]
  },
  {
   "cell_type": "code",
   "execution_count": 7,
   "metadata": {},
   "outputs": [],
   "source": [
    "def lengthOfLastWord(s):\n",
    "    # trim the trailing spaces\n",
    "    p = len(s) - 1\n",
    "    while p >= 0 and s[p] == ' ':\n",
    "        p -= 1\n",
    "\n",
    "    # compute the length of last word\n",
    "    length = 0\n",
    "    while p >= 0 and s[p] != ' ':\n",
    "        p -= 1\n",
    "        length += 1\n",
    "    return length"
   ]
  },
  {
   "cell_type": "code",
   "execution_count": 8,
   "metadata": {},
   "outputs": [
    {
     "data": {
      "text/plain": [
       "5"
      ]
     },
     "execution_count": 8,
     "metadata": {},
     "output_type": "execute_result"
    }
   ],
   "source": [
    "s = \"Hello World\"\n",
    "\n",
    "lengthOfLastWord(s)"
   ]
  },
  {
   "attachments": {},
   "cell_type": "markdown",
   "metadata": {},
   "source": [
    "**Question:** Write a function to find the longest common prefix string amongst an array of strings. If there is no common prefix, return an empty string `\"\"`.\n",
    "\n",
    "**Example:**\n",
    "\n",
    "Input: `strs = [\"flow\", \"flower\", \"flight\"]`.\n",
    "\n",
    "Output: `\"fl\"`."
   ]
  },
  {
   "attachments": {},
   "cell_type": "markdown",
   "metadata": {},
   "source": [
    "**Solution:**\n",
    "\n",
    "The brute force approach is to check the characters of all the strings starting from the beginning.\n",
    "\n",
    "A better approach is the following. We will consider the first string in the list of strings as the longest common prefix. So, we will begin by considering the longest common prefix as `\"flow\"`. We will call it `lcp`, for 'longest common prefix'. We will name the list of strings as `strs`. Now, for all the remaining strings `strs[i]`, we will check if `strs[i].find(lcp) == 0`. Considering an example, if we have `\"flower\".find(\"flo\")` will be `0` since the index of `\"flo\"` in `\"flower\"` is `0`. So, if the condition `strs[i].find(lcp) == 0` is true, it means that `lcp` is a prefix of the string `strs[i]`. However, if `lcp` is not a prefix of `strs[i]`, the condition will be false. In this case, we will update `lcp` to `lcp[:-1], i.e., we will skip the last character of lcp`, and check again. The time complexity is $\\mathcal{O}\\left( n \\right)$, where $n$ is the sum of all the characters of the strings. The space complexity is $\\mathcal{O}\\left( 1 \\right)$."
   ]
  },
  {
   "cell_type": "code",
   "execution_count": 9,
   "metadata": {},
   "outputs": [],
   "source": [
    "def longestCommonPrefix(strs):\n",
    "    if len(strs) == 0:\n",
    "        return \"\"\n",
    "    lcp = strs[0]\n",
    "    for i in range(1, len(strs)):\n",
    "        while strs[i].find(lcp) != 0:\n",
    "            lcp = lcp[:-1]\n",
    "            if len(lcp) == 0:\n",
    "                return \"\"\n",
    "    return lcp"
   ]
  },
  {
   "cell_type": "code",
   "execution_count": 10,
   "metadata": {},
   "outputs": [
    {
     "data": {
      "text/plain": [
       "'fl'"
      ]
     },
     "execution_count": 10,
     "metadata": {},
     "output_type": "execute_result"
    }
   ],
   "source": [
    "strs = [\"flow\", \"flower\", \"flight\"]\n",
    "\n",
    "longestCommonPrefix(strs)"
   ]
  },
  {
   "attachments": {},
   "cell_type": "markdown",
   "metadata": {},
   "source": [
    "**Question:** Given a string `s`, find the length of the longest substring without repeating characters.\n",
    "\n",
    "**Example:**\n",
    "\n",
    "Input: `s = \"abcabcbb\"`.\n",
    "\n",
    "Output: `3`.\n",
    "\n",
    "Explanation: The answer is `\"abc\"`, with the length of `3`."
   ]
  },
  {
   "attachments": {},
   "cell_type": "markdown",
   "metadata": {},
   "source": [
    "**Solution:**\n",
    "\n",
    "We will use a hashset and and a sliding window. We will store the characters of the sliding window in the hashset. We have `s = \"abcabcbb\"`. As a sliding window, we will keep a window of non-repeating elements. As a sliding window, we will keep two pointers, `l` and `r`, which will initially point to the first character, i.e., `l = r = 0`. This first character is `a`. We will store this in the hashset. Next, we will increment `r`, i.e., `r += 1`. Here, `l` is pointing at `a`, and `r` is at `b`. We have not found any repeating character. Hence, we will add `b` to the hashset. Next, `r` points to `c`. Again, we get no repeating character, hence we add `c` to the hashset. By this time, the length of the hashset is `3`. Incrementing `r`, it will now point to `a`, which is already present in the hashset. Hence, we will now increment `l` , i.e., `l += 1`, which will make `l` point to the first `b`, and now we will remove the element `l` was pointing at earlier from the hashset, which is the first `a`. Now, the hashset contains `{b, c}`. Now, `r` is pointing at the second `a`. Hence, we will add `a` to the hashset, and increment `r`, which will make it point to the second `b`. Now, `b` is already present in the hashset. Hence, we will remove `b` from the hashset and increment `l`, which will make it point to the first `c`. Now, `r` is pointing at the second `b`, hence we will add `b` to the hashset, and increment `r` which will make it point to the second `c`. `c` is aleady present in the hashset, hence we will remove it and increment `l`, making it now point to the second `a`. We keep on doing this.\n",
    "\n",
    "The time complexity is $\\mathcal{O}\\left( n \\right)$, and the space complexity is $\\mathcal{O}\\left( 1 \\right)$ if all the letters are small case."
   ]
  },
  {
   "cell_type": "code",
   "execution_count": 11,
   "metadata": {},
   "outputs": [],
   "source": [
    "def lengthOfLongestSubstring(s):\n",
    "    n = len(s)\n",
    "    ans = 0\n",
    "    map = {}  # current index of character\n",
    "    # try to extend the range [i, j]\n",
    "    i = 0\n",
    "    for j in range(n):\n",
    "        if s[j] in map:\n",
    "            i = max(map[s[j]], i)\n",
    "        ans = max(ans, j - i + 1)\n",
    "        map[s[j]] = j + 1\n",
    "    return ans"
   ]
  },
  {
   "cell_type": "code",
   "execution_count": 12,
   "metadata": {},
   "outputs": [
    {
     "data": {
      "text/plain": [
       "3"
      ]
     },
     "execution_count": 12,
     "metadata": {},
     "output_type": "execute_result"
    }
   ],
   "source": [
    "s = \"abcabcbb\"\n",
    "\n",
    "lengthOfLongestSubstring(s)"
   ]
  },
  {
   "attachments": {},
   "cell_type": "markdown",
   "metadata": {},
   "source": [
    "**Question:** Given an input string `s`, reverse the order of the words. A word is defined as a sequence of non-space characters. The words in `s` will be separated by at least one space. Return a string of the words in reverse order concatenated by a single space. Note that `s` may contain leading or trailing spaces or multiple spaces between two words. The returned string should only have a single space separating the words. Do not include any extra spaces.\n",
    "\n",
    "**Example:**\n",
    "\n",
    "Input: `s = \"the sky is blue\"`.\n",
    "\n",
    "Output: `\"blue is sky the\"`."
   ]
  },
  {
   "attachments": {},
   "cell_type": "markdown",
   "metadata": {},
   "source": [
    "**Solution:**\n",
    "\n",
    "The easiest approach is to first strip the string, then split the string based on the spaces, and then reverse the list and join by a single space. The time complexity is $\\mathcal{O}\\left( n \\right)$, and the space complexity is $\\mathcal{O}\\left( n \\right)$."
   ]
  },
  {
   "cell_type": "code",
   "execution_count": 13,
   "metadata": {},
   "outputs": [],
   "source": [
    "def reverseWords(s):\n",
    "    # remove leading and trailing spaces\n",
    "    s = s.strip()\n",
    "    # split by multiple spaces\n",
    "    wordList = s.split()\n",
    "    # reverse the list of words\n",
    "    wordList.reverse()\n",
    "    # join the words with a space separator\n",
    "    return ' '.join(wordList)"
   ]
  },
  {
   "cell_type": "code",
   "execution_count": 14,
   "metadata": {},
   "outputs": [
    {
     "data": {
      "text/plain": [
       "'blue is sky the'"
      ]
     },
     "execution_count": 14,
     "metadata": {},
     "output_type": "execute_result"
    }
   ],
   "source": [
    "s = \"  the sky   is blue     \"\n",
    "reverseWords(s)"
   ]
  },
  {
   "attachments": {
    "Lec_07_q_6.png": {
     "image/png": "[encoded data removed]"
    }
   },
   "cell_type": "markdown",
   "metadata": {},
   "source": [
    "Another approach is using a deque.\n",
    "\n",
    "![Lec_07_q_6.png](attachment:Lec_07_q_6.png)"
   ]
  },
  {
   "cell_type": "code",
   "execution_count": 15,
   "metadata": {},
   "outputs": [],
   "source": [
    "from collections import deque\n",
    "\n",
    "def reverseWords(s):\n",
    "    left, right = 0, len(s) - 1\n",
    "    # remove leading spaces\n",
    "    while left <= right and s[left] == ' ':\n",
    "        left += 1\n",
    "\n",
    "    # remove trailing spaces\n",
    "    while left <= right and s[right] == ' ':\n",
    "        right -= 1\n",
    "\n",
    "    d = deque()\n",
    "    word = []\n",
    "    # push word by word in front of deque\n",
    "    while left <= right:\n",
    "        c = s[left]\n",
    "\n",
    "        if len(word) != 0 and c == ' ':\n",
    "            d.appendleft(''.join(word))\n",
    "            word = []\n",
    "        elif c != ' ':\n",
    "            word.append(c)\n",
    "        left += 1\n",
    "\n",
    "    d.appendleft(''.join(word))\n",
    "\n",
    "    return ' '.join(d)"
   ]
  },
  {
   "cell_type": "code",
   "execution_count": 16,
   "metadata": {},
   "outputs": [
    {
     "data": {
      "text/plain": [
       "'blue is sky the'"
      ]
     },
     "execution_count": 16,
     "metadata": {},
     "output_type": "execute_result"
    }
   ],
   "source": [
    "s = \"  the sky   is blue     \"\n",
    "reverseWords(s)"
   ]
  }
 ],
 "metadata": {
  "kernelspec": {
   "display_name": "Python 3",
   "language": "python",
   "name": "python3"
  },
  "language_info": {
   "codemirror_mode": {
    "name": "ipython",
    "version": 3
   },
   "file_extension": ".py",
   "mimetype": "text/x-python",
   "name": "python",
   "nbconvert_exporter": "python",
   "pygments_lexer": "ipython3",
   "version": "3.10.0"
  },
  "orig_nbformat": 4
 },
 "nbformat": 4,
 "nbformat_minor": 2
}
