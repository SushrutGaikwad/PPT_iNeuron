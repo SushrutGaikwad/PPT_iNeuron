{
 "cells": [
  {
   "attachments": {},
   "cell_type": "markdown",
   "metadata": {},
   "source": [
    "**Name: Sushrut Gaikwad**"
   ]
  },
  {
   "attachments": {},
   "cell_type": "markdown",
   "metadata": {},
   "source": [
    "# First Unique Character in a String\n",
    "Given a string `s`, find the first non-repeating character in it and return its index. If it does not exist, return `-1`.\n",
    "\n",
    "**Example 1:**\n",
    "\n",
    "Input: `s = \"leetcode\"`.\n",
    "\n",
    "Output: `0`.\n",
    "\n",
    "**Example 2:**\n",
    "\n",
    "Input: `s = \"loveleetcode\"`.\n",
    "\n",
    "Output: `2`.\n",
    "\n",
    "**Example 3:**\n",
    "\n",
    "Input: `s = \"aabb\"`.\n",
    "\n",
    "Output: `-1`.\n",
    "\n",
    "**Constraints:**\n",
    "1. `1 <= s.length <= 10^5`.\n",
    "2. `s` consists of only lowercase English letters."
   ]
  },
  {
   "attachments": {},
   "cell_type": "markdown",
   "metadata": {},
   "source": [
    "**Answer:** I will use a hashmap to store the count of each letter."
   ]
  },
  {
   "cell_type": "code",
   "execution_count": 1,
   "metadata": {},
   "outputs": [],
   "source": [
    "def first_unique_character_in_a_string(s: str):\n",
    "    # Creating a hashmap containing counts of each character\n",
    "    hash_map = {}\n",
    "\n",
    "    for i in range(len(s)):\n",
    "        if s[i] in hash_map.keys():\n",
    "            hash_map[s[i]] += 1\n",
    "        else:\n",
    "            hash_map[s[i]] = 1\n",
    "    \n",
    "    # Iterating over the given string\n",
    "    for i in range(len(s)):\n",
    "        if hash_map[s[i]] == 1:  # finding a character with count as 1\n",
    "            return i  # returns the index of the first non-repeating character\n",
    "    \n",
    "    return -1  # returns -1 as there is no non-repeating character"
   ]
  },
  {
   "cell_type": "code",
   "execution_count": 2,
   "metadata": {},
   "outputs": [
    {
     "data": {
      "text/plain": [
       "2"
      ]
     },
     "execution_count": 2,
     "metadata": {},
     "output_type": "execute_result"
    }
   ],
   "source": [
    "s = \"loveleetcode\"\n",
    "\n",
    "first_unique_character_in_a_string(s)"
   ]
  },
  {
   "cell_type": "code",
   "execution_count": 3,
   "metadata": {},
   "outputs": [
    {
     "data": {
      "text/plain": [
       "0"
      ]
     },
     "execution_count": 3,
     "metadata": {},
     "output_type": "execute_result"
    }
   ],
   "source": [
    "s = \"leetcode\"\n",
    "\n",
    "first_unique_character_in_a_string(s)"
   ]
  },
  {
   "cell_type": "code",
   "execution_count": 4,
   "metadata": {},
   "outputs": [
    {
     "data": {
      "text/plain": [
       "-1"
      ]
     },
     "execution_count": 4,
     "metadata": {},
     "output_type": "execute_result"
    }
   ],
   "source": [
    "s = \"aabb\"\n",
    "\n",
    "first_unique_character_in_a_string(s)"
   ]
  }
 ],
 "metadata": {
  "kernelspec": {
   "display_name": "Python 3",
   "language": "python",
   "name": "python3"
  },
  "language_info": {
   "codemirror_mode": {
    "name": "ipython",
    "version": 3
   },
   "file_extension": ".py",
   "mimetype": "text/x-python",
   "name": "python",
   "nbconvert_exporter": "python",
   "pygments_lexer": "ipython3",
   "version": "3.10.0"
  },
  "orig_nbformat": 4
 },
 "nbformat": 4,
 "nbformat_minor": 2
}
