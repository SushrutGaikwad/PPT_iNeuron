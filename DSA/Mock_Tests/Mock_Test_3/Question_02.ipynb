{
 "cells": [
  {
   "attachments": {},
   "cell_type": "markdown",
   "metadata": {},
   "source": [
    "**Name: Sushrut Gaikwad**"
   ]
  },
  {
   "attachments": {},
   "cell_type": "markdown",
   "metadata": {},
   "source": [
    "# Question 2\n",
    "Implement a queue using a list in Python. Include the necessary methods such as `enqueue`, `dequeue`, and `isEmpty`."
   ]
  },
  {
   "attachments": {},
   "cell_type": "markdown",
   "metadata": {},
   "source": [
    "**Answer:**"
   ]
  },
  {
   "cell_type": "code",
   "execution_count": 1,
   "metadata": {},
   "outputs": [],
   "source": [
    "class Queue:\n",
    "    def __init__(self) -> None:\n",
    "        self.container = []\n",
    "    \n",
    "    def enqueue(self, x):\n",
    "        self.container.append(x)\n",
    "    \n",
    "    def peek(self):\n",
    "        return self.container[0]\n",
    "    \n",
    "    def dequeue(self):\n",
    "        x = self.container[0]\n",
    "        self.container = self.container[1:]\n",
    "        return x\n",
    "    \n",
    "    def isEmpty(self):\n",
    "        return len(self.container) == 0\n",
    "    \n",
    "    def print(self):\n",
    "        print(self.container)"
   ]
  }
 ],
 "metadata": {
  "kernelspec": {
   "display_name": "Python 3",
   "language": "python",
   "name": "python3"
  },
  "language_info": {
   "codemirror_mode": {
    "name": "ipython",
    "version": 3
   },
   "file_extension": ".py",
   "mimetype": "text/x-python",
   "name": "python",
   "nbconvert_exporter": "python",
   "pygments_lexer": "ipython3",
   "version": "3.10.0"
  },
  "orig_nbformat": 4
 },
 "nbformat": 4,
 "nbformat_minor": 2
}
