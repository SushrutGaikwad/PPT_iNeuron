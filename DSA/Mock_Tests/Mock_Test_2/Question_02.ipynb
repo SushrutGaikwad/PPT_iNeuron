{
 "cells": [
  {
   "attachments": {},
   "cell_type": "markdown",
   "metadata": {},
   "source": [
    "**Name: Sushrut Gaikwad**"
   ]
  },
  {
   "attachments": {},
   "cell_type": "markdown",
   "metadata": {},
   "source": [
    "# Question 2\n",
    "You are given two non-empty linked lists representing two non-negative integers. The digits are stored in reverse order, and each of their nodes contains a single digit. Add the two numbers and return the sum as a linked list.\n",
    "\n",
    "You may assume the two numbers do not contain any leading zero, except the number 0 itself.\n",
    "\n",
    "**Examples:**\n",
    "```\n",
    "Input: l1 = [2,4,3], l2 = [5,6,4]\n",
    "Output: [7,0,8]\n",
    "Explanation: 342 + 465 = 807.\n",
    "```\n",
    "```\n",
    "Input: l1 = [0], l2 = [0]\n",
    "Output: [0]\n",
    "```\n",
    "```\n",
    "Input: l1 = [9,9,9,9,9,9,9], l2 = [9,9,9,9]\n",
    "Output: [8,9,9,9,0,0,0,1]\n",
    "```"
   ]
  },
  {
   "attachments": {},
   "cell_type": "markdown",
   "metadata": {},
   "source": [
    "## My Custom `LinkedList` Class:"
   ]
  },
  {
   "cell_type": "code",
   "execution_count": 1,
   "metadata": {},
   "outputs": [],
   "source": [
    "class Node:\n",
    "    def __init__(self, data=None, next=None) -> None:\n",
    "        self.data = data\n",
    "        self.next = next\n",
    "\n",
    "class LinkedList:\n",
    "    def __init__(self) -> None:\n",
    "        self.head = None\n",
    "    \n",
    "    def insert_at_beginning(self, data):\n",
    "        node = Node(data=data, next=self.head)\n",
    "        self.head = node\n",
    "    \n",
    "    def insert_at_end(self, data):\n",
    "        if self.head is None:\n",
    "            self.head = Node(data=data, next=None)\n",
    "            return\n",
    "        \n",
    "        itr = self.head\n",
    "        while itr.next is not None:\n",
    "            itr = itr.next\n",
    "        \n",
    "        itr.next = Node(data=data, next=None)\n",
    "    \n",
    "    def insert_values(self, data_list: list):\n",
    "        self.head = None\n",
    "        for data in data_list:\n",
    "            self.insert_at_end(data=data)\n",
    "    \n",
    "    def get_length(self) -> int:\n",
    "        count = 0\n",
    "        itr = self.head\n",
    "        while itr is not None:\n",
    "            count += 1\n",
    "            itr = itr.next\n",
    "        return count\n",
    "    \n",
    "    def remove_at(self, index: int):\n",
    "        if index < 0 or index >= self.get_length():\n",
    "            raise Exception(\"Invalid index\")\n",
    "        \n",
    "        if index == 0:\n",
    "            self.head = self.head.next\n",
    "            return\n",
    "        \n",
    "        count = 0\n",
    "        itr = self.head\n",
    "        while itr is not None:\n",
    "            if count == index - 1:\n",
    "                itr.next = itr.next.next\n",
    "                break\n",
    "            itr = itr.next\n",
    "            count += 1\n",
    "    \n",
    "    def insert_at(self, index: int, data):\n",
    "        if index < 0 or index >= self.get_length():\n",
    "            raise Exception(\"Invalid index\")\n",
    "        \n",
    "        if index == 0:\n",
    "            self.insert_at_beginning(data=data)\n",
    "            return\n",
    "        \n",
    "        count = 0\n",
    "        itr = self.head\n",
    "        while itr is not None:\n",
    "            if count == index - 1:\n",
    "                itr.next = Node(data=data, next=itr.next)\n",
    "                break\n",
    "            itr = itr.next\n",
    "            count += 1\n",
    "    \n",
    "    def print(self):\n",
    "        if self.head is None:\n",
    "            print(\"Linked list is empty\")\n",
    "            return\n",
    "        itr = self.head\n",
    "        llstr = \"\"\n",
    "        \n",
    "        while itr is not None:\n",
    "            llstr += str(itr.data) + \"-->\"\n",
    "            itr = itr.next\n",
    "        print(llstr)"
   ]
  },
  {
   "attachments": {},
   "cell_type": "markdown",
   "metadata": {},
   "source": [
    "**Answer:**"
   ]
  },
  {
   "cell_type": "code",
   "execution_count": 2,
   "metadata": {},
   "outputs": [],
   "source": [
    "def addTwoNumbers(ll_1: LinkedList, ll_2: LinkedList) -> LinkedList:\n",
    "    ll_1_num = \"\"\n",
    "\n",
    "    curr = ll_1.head\n",
    "\n",
    "    while curr is not None:\n",
    "        ll_1_num = str(curr.data) + ll_1_num\n",
    "        curr = curr.next\n",
    "\n",
    "    ll_1_num = int(ll_1_num)\n",
    "\n",
    "\n",
    "    ll_2_num = \"\"\n",
    "\n",
    "    curr = ll_2.head\n",
    "\n",
    "    while curr is not None:\n",
    "        ll_2_num = str(curr.data) + ll_2_num\n",
    "        curr = curr.next\n",
    "\n",
    "    ll_2_num = int(ll_2_num)\n",
    "\n",
    "    str_ll_1_ll_2 = str(ll_1_num + ll_2_num)[::-1]\n",
    "\n",
    "    ans = LinkedList()\n",
    "    ans.insert_values(data_list=list(str_ll_1_ll_2))\n",
    "\n",
    "    return ans"
   ]
  },
  {
   "attachments": {},
   "cell_type": "markdown",
   "metadata": {},
   "source": [
    "### Example 1"
   ]
  },
  {
   "cell_type": "code",
   "execution_count": 3,
   "metadata": {},
   "outputs": [
    {
     "name": "stdout",
     "output_type": "stream",
     "text": [
      "2-->4-->3-->\n"
     ]
    }
   ],
   "source": [
    "ll_1 = LinkedList()\n",
    "ll_1.insert_values(data_list=[2, 4, 3])\n",
    "ll_1.print()"
   ]
  },
  {
   "cell_type": "code",
   "execution_count": 4,
   "metadata": {},
   "outputs": [
    {
     "name": "stdout",
     "output_type": "stream",
     "text": [
      "5-->6-->4-->\n"
     ]
    }
   ],
   "source": [
    "ll_2 = LinkedList()\n",
    "ll_2.insert_values(data_list=[5, 6, 4])\n",
    "ll_2.print()"
   ]
  },
  {
   "cell_type": "code",
   "execution_count": 5,
   "metadata": {},
   "outputs": [
    {
     "name": "stdout",
     "output_type": "stream",
     "text": [
      "7-->0-->8-->\n"
     ]
    }
   ],
   "source": [
    "addTwoNumbers(ll_1=ll_1, ll_2=ll_2).print()"
   ]
  },
  {
   "attachments": {},
   "cell_type": "markdown",
   "metadata": {},
   "source": [
    "### Example 2"
   ]
  },
  {
   "cell_type": "code",
   "execution_count": 6,
   "metadata": {},
   "outputs": [
    {
     "name": "stdout",
     "output_type": "stream",
     "text": [
      "0-->\n"
     ]
    }
   ],
   "source": [
    "ll_1 = LinkedList()\n",
    "ll_1.insert_values(data_list=[0])\n",
    "ll_1.print()"
   ]
  },
  {
   "cell_type": "code",
   "execution_count": 7,
   "metadata": {},
   "outputs": [
    {
     "name": "stdout",
     "output_type": "stream",
     "text": [
      "0-->\n"
     ]
    }
   ],
   "source": [
    "ll_2 = LinkedList()\n",
    "ll_2.insert_values(data_list=[0])\n",
    "ll_2.print()"
   ]
  },
  {
   "cell_type": "code",
   "execution_count": 8,
   "metadata": {},
   "outputs": [
    {
     "name": "stdout",
     "output_type": "stream",
     "text": [
      "0-->\n"
     ]
    }
   ],
   "source": [
    "addTwoNumbers(ll_1=ll_1, ll_2=ll_2).print()"
   ]
  },
  {
   "attachments": {},
   "cell_type": "markdown",
   "metadata": {},
   "source": [
    "### Example 3"
   ]
  },
  {
   "cell_type": "code",
   "execution_count": 9,
   "metadata": {},
   "outputs": [
    {
     "name": "stdout",
     "output_type": "stream",
     "text": [
      "9-->9-->9-->9-->9-->9-->9-->\n"
     ]
    }
   ],
   "source": [
    "ll_1 = LinkedList()\n",
    "ll_1.insert_values(data_list=[9, 9, 9, 9, 9, 9, 9])\n",
    "ll_1.print()"
   ]
  },
  {
   "cell_type": "code",
   "execution_count": 10,
   "metadata": {},
   "outputs": [
    {
     "name": "stdout",
     "output_type": "stream",
     "text": [
      "9-->9-->9-->9-->\n"
     ]
    }
   ],
   "source": [
    "ll_2 = LinkedList()\n",
    "ll_2.insert_values(data_list=[9, 9, 9, 9])\n",
    "ll_2.print()"
   ]
  },
  {
   "cell_type": "code",
   "execution_count": 11,
   "metadata": {},
   "outputs": [
    {
     "name": "stdout",
     "output_type": "stream",
     "text": [
      "8-->9-->9-->9-->0-->0-->0-->1-->\n"
     ]
    }
   ],
   "source": [
    "addTwoNumbers(ll_1=ll_1, ll_2=ll_2).print()"
   ]
  }
 ],
 "metadata": {
  "kernelspec": {
   "display_name": "Python 3",
   "language": "python",
   "name": "python3"
  },
  "language_info": {
   "codemirror_mode": {
    "name": "ipython",
    "version": 3
   },
   "file_extension": ".py",
   "mimetype": "text/x-python",
   "name": "python",
   "nbconvert_exporter": "python",
   "pygments_lexer": "ipython3",
   "version": "3.10.0"
  },
  "orig_nbformat": 4
 },
 "nbformat": 4,
 "nbformat_minor": 2
}
