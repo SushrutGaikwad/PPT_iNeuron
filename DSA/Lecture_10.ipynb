{
 "cells": [
  {
   "attachments": {},
   "cell_type": "markdown",
   "metadata": {},
   "source": [
    "[Annotated notes](https://pwskills.notion.site/Annotated-Notes-10-fa6b3041ad3d4a3f9a2ca6102c175e12)\\\n",
    "[Notes with code](https://pwskills.notion.site/Class-Notes-10-590f79a6f7104a5e9463cf896d6de86a)"
   ]
  },
  {
   "attachments": {},
   "cell_type": "markdown",
   "metadata": {},
   "source": [
    "# Recursion (Continued)"
   ]
  },
  {
   "attachments": {},
   "cell_type": "markdown",
   "metadata": {},
   "source": [
    "**Question:** Given a number, we need to find sum of its digits using recursion.\n",
    "\n",
    "**Examples:**\n",
    "```\n",
    "Input : 12345\n",
    "Output : 15\n",
    "\n",
    "Input : 45632\n",
    "Output :20\n",
    "```"
   ]
  },
  {
   "attachments": {
    "Lec_10_q1.png": {
     "image/png": "[encoded data removed]"
    }
   },
   "cell_type": "markdown",
   "metadata": {},
   "source": [
    "**Solution:** First of all, to understand the difference between a number and a digit, $123$ is a number, and $1$, $2$, and $3$ are its digits. Now, how do we fetch a digit out of a number? We will use the `%` operator. Any number `% 10` gives the last digit of that number. For example\n",
    "```\n",
    "123 % 10 = 3\n",
    "```\n",
    "What about the other digits? If we want to get $2$ from $123$, we will somehow have to make the last digit as $2$. We can do this using integer division.\n",
    "```\n",
    "123 // 10 = 12\n",
    "```\n",
    "Therefore to get $2$, we can do\n",
    "```\n",
    "(123 // 10) % 10 = 2\n",
    "```\n",
    "Similarly, for the next digit, we can do\n",
    "```\n",
    "123 // 100 = 1\n",
    "```\n",
    "So, as a general formula, we can say that\n",
    "$$\\text{Getting the first digit of a number }m \\text{ from the right} = m \\% 10$$\n",
    "$$\\text{Removing the first digit from the right of a number }m = \\left\\lfloor \\dfrac{m}{10} \\right\\rfloor$$\n",
    "$$\\text{Removing the first }n\\text{ digits of a number }m\\text{ from the right}=\\left\\lfloor \\dfrac{m}{10^n} \\right\\rfloor$$\n",
    "Combining the above three, we can say the following.\n",
    "$$n^{\\text{th}}\\text{ digit of a number } m\\text{ from the right} = \\left\\lfloor\\dfrac{m}{10^n}\\right\\rfloor \\% 10$$\n",
    "So, we will keep removing the first digit from the end till we get $0$, which will be the base case. Have a look at the following example.\n",
    "\n",
    "![Lec_10_q1.png](attachment:Lec_10_q1.png)\n",
    "\n",
    "At the end, will add all the digits. But, how do we make the recursive call? Take the example of the number $N=123$. We can say the following.\n",
    "$$\\text{SumOfDigits}\\left( 123 \\right) = 3 + \\text{SumOfDigits}\\left( 12 \\right)$$\n",
    "Doing this over and over, we will get\n",
    "$$\\text{SumOfDigits}\\left( 123 \\right) = 3 + 2 + 1 + \\text{SumOfDigits}\\left( 0 \\right)$$\n",
    "Where, $\\text{SumOfDigits}\\left( 0 \\right)$ is the base case, whose value is $0$.\n",
    "\n",
    "For the time complexity, as usual, we have to check the number of times the function is recursively called. In this case, for a number $n$, it is $\\mathcal{O}\\left( \\log_{10} n \\right)$. Auxiliary space is $\\mathcal{O}\\left( \\log_{10} n \\right)$."
   ]
  },
  {
   "cell_type": "code",
   "execution_count": 5,
   "metadata": {},
   "outputs": [],
   "source": [
    "# My solution\n",
    "def sum_of_digits(n: int):\n",
    "    if n == 0:\n",
    "        return 0\n",
    "    else:\n",
    "        return n % 10 + sum_of_digits(n // 10)"
   ]
  },
  {
   "cell_type": "code",
   "execution_count": 6,
   "metadata": {},
   "outputs": [
    {
     "data": {
      "text/plain": [
       "6"
      ]
     },
     "execution_count": 6,
     "metadata": {},
     "output_type": "execute_result"
    }
   ],
   "source": [
    "sum_of_digits(123)"
   ]
  },
  {
   "cell_type": "code",
   "execution_count": 7,
   "metadata": {},
   "outputs": [
    {
     "data": {
      "text/plain": [
       "15"
      ]
     },
     "execution_count": 7,
     "metadata": {},
     "output_type": "execute_result"
    }
   ],
   "source": [
    "sum_of_digits(12345)"
   ]
  },
  {
   "cell_type": "code",
   "execution_count": 8,
   "metadata": {},
   "outputs": [
    {
     "data": {
      "text/plain": [
       "20"
      ]
     },
     "execution_count": 8,
     "metadata": {},
     "output_type": "execute_result"
    }
   ],
   "source": [
    "sum_of_digits(45632)"
   ]
  },
  {
   "attachments": {},
   "cell_type": "markdown",
   "metadata": {},
   "source": [
    "**Question:** Given two numbers `a` and `b`, the task is to find the GCD of the two numbers.\n",
    "\n",
    "*Note:* GCD (Greatest Common Divisor) or HCF (Highest Common Factor) of two numbers is the largest number that divides both of them.\n",
    "\n",
    "Input: `a = 20`, `b = 28`.\n",
    "\n",
    "Output: `4`.\n",
    "\n",
    "Explanation: The factors of `20` are `1`, `2`, `4`, `5`, `10`, and `20`. The factors of `28` are `1`, `2`, `4`, `7`, `14`, and `28`. Among these factors, `1`, `2`, and `4` are the common factors of both `20` and `28`. The greatest among the common factors is `4`.\n",
    "\n",
    "Input: `a = 60`, `b = 36`.\n",
    "\n",
    "Output: `12`."
   ]
  },
  {
   "attachments": {},
   "cell_type": "markdown",
   "metadata": {},
   "source": [
    "**Solution:**\n",
    "\n",
    "There is a Euclidean algorithm to solve this problem. Let us take an example to find the GCD of $24$ and $16$. The algorithm first asks to subtract the smaller number from the larger number. In other words, $\\text{GCD}\\left( 24,16 \\right)=\\text{GCD}\\left( 24-16,16 \\right) = \\text{GCD}\\left( 8,16 \\right)$. We repeat this. So, we get $\\text{GCD}\\left( 8,16 \\right) = \\text{GCD}\\left( 8,16-8 \\right) = \\text{GCD}\\left( 8, 8 \\right)$. Further, $\\text{GCD}\\left( 8-8,8 \\right) = \\text{GCD}\\left( 0,8 \\right)$. Now, we know that the GCD of any number with $0$ is that number. In other words, $\\text{GCD}\\left( n, 0 \\right) = n$. Hence, we get $\\text{GCD}\\left( 0,8 \\right) = 8$."
   ]
  },
  {
   "cell_type": "code",
   "execution_count": 9,
   "metadata": {},
   "outputs": [],
   "source": [
    "# My solution\n",
    "def gcd(a, b):\n",
    "    if a == 0:\n",
    "        return b\n",
    "    if b == 0:\n",
    "        return a\n",
    "    if a == b:\n",
    "        return a\n",
    "    else:\n",
    "        if a > b:\n",
    "            return gcd(a - b, b)\n",
    "        if b > a:\n",
    "            return gcd(a, b - a)"
   ]
  },
  {
   "cell_type": "code",
   "execution_count": 10,
   "metadata": {},
   "outputs": [
    {
     "data": {
      "text/plain": [
       "4"
      ]
     },
     "execution_count": 10,
     "metadata": {},
     "output_type": "execute_result"
    }
   ],
   "source": [
    "gcd(20, 28)"
   ]
  },
  {
   "cell_type": "code",
   "execution_count": 11,
   "metadata": {},
   "outputs": [
    {
     "data": {
      "text/plain": [
       "8"
      ]
     },
     "execution_count": 11,
     "metadata": {},
     "output_type": "execute_result"
    }
   ],
   "source": [
    "gcd(24, 16)"
   ]
  },
  {
   "cell_type": "code",
   "execution_count": 12,
   "metadata": {},
   "outputs": [
    {
     "data": {
      "text/plain": [
       "10"
      ]
     },
     "execution_count": 12,
     "metadata": {},
     "output_type": "execute_result"
    }
   ],
   "source": [
    "gcd(10, 10)"
   ]
  },
  {
   "cell_type": "code",
   "execution_count": 13,
   "metadata": {},
   "outputs": [
    {
     "data": {
      "text/plain": [
       "10"
      ]
     },
     "execution_count": 13,
     "metadata": {},
     "output_type": "execute_result"
    }
   ],
   "source": [
    "gcd(10, 20)"
   ]
  },
  {
   "cell_type": "code",
   "execution_count": 14,
   "metadata": {},
   "outputs": [
    {
     "data": {
      "text/plain": [
       "5"
      ]
     },
     "execution_count": 14,
     "metadata": {},
     "output_type": "execute_result"
    }
   ],
   "source": [
    "gcd(15, 20)"
   ]
  },
  {
   "attachments": {},
   "cell_type": "markdown",
   "metadata": {},
   "source": [
    "Now, there is a better way to do this. If we have two numbers with a huge difference, e.g., $\\text{GCD}\\left( 100, 5 \\right)$, we will have to keep subtracting $5$ from $100$, until we reach $\\text{GCD}\\left( 0, 5 \\right)$. There is a better way to reach here. This is by doing $100\\%5=0$."
   ]
  },
  {
   "cell_type": "code",
   "execution_count": 15,
   "metadata": {},
   "outputs": [],
   "source": [
    "def gcd(a, b):\n",
    "    if b == 0:\n",
    "        return a\n",
    "    return gcd(b, a%b)"
   ]
  },
  {
   "cell_type": "code",
   "execution_count": 16,
   "metadata": {},
   "outputs": [
    {
     "data": {
      "text/plain": [
       "4"
      ]
     },
     "execution_count": 16,
     "metadata": {},
     "output_type": "execute_result"
    }
   ],
   "source": [
    "gcd(20, 24)"
   ]
  },
  {
   "cell_type": "code",
   "execution_count": 19,
   "metadata": {},
   "outputs": [
    {
     "data": {
      "text/plain": [
       "4"
      ]
     },
     "execution_count": 19,
     "metadata": {},
     "output_type": "execute_result"
    }
   ],
   "source": [
    "gcd(24, 20)"
   ]
  },
  {
   "cell_type": "code",
   "execution_count": 17,
   "metadata": {},
   "outputs": [
    {
     "data": {
      "text/plain": [
       "5"
      ]
     },
     "execution_count": 17,
     "metadata": {},
     "output_type": "execute_result"
    }
   ],
   "source": [
    "gcd(100, 5)"
   ]
  },
  {
   "cell_type": "code",
   "execution_count": 18,
   "metadata": {},
   "outputs": [
    {
     "data": {
      "text/plain": [
       "4"
      ]
     },
     "execution_count": 18,
     "metadata": {},
     "output_type": "execute_result"
    }
   ],
   "source": [
    "gcd(20, 28)"
   ]
  },
  {
   "attachments": {},
   "cell_type": "markdown",
   "metadata": {},
   "source": [
    "The time complexity for this is $\\mathcal{O}\\left( \\log_2 n \\right)$. This is because each number after `%` will at least become half of what it was earlier. Here, $n$ is $\\min{\\left(a, b\\right)}$. As this is recursion, due to the recursive stacks, the auxiliary space will also be $\\mathcal{O}\\left( \\log_2 n \\right)$ with $n$ as $\\min{\\left(a, b\\right)}$."
   ]
  },
  {
   "attachments": {},
   "cell_type": "markdown",
   "metadata": {},
   "source": [
    "**Question:** Given an array of integers, print sums of all subsets in it. Output sums can be printed in any order.\n",
    "\n",
    "**Example:**\n",
    "```\n",
    "Input : arr[] = {2, 3}\n",
    "Output: 0 2 3 5\n",
    "\n",
    "Input : arr[] = {2, 4, 5}\n",
    "Output : 0 2 4 5 6 7 9 11\n",
    "```"
   ]
  },
  {
   "attachments": {},
   "cell_type": "markdown",
   "metadata": {},
   "source": [
    "**Solution:**"
   ]
  }
 ],
 "metadata": {
  "kernelspec": {
   "display_name": "Python 3",
   "language": "python",
   "name": "python3"
  },
  "language_info": {
   "codemirror_mode": {
    "name": "ipython",
    "version": 3
   },
   "file_extension": ".py",
   "mimetype": "text/x-python",
   "name": "python",
   "nbconvert_exporter": "python",
   "pygments_lexer": "ipython3",
   "version": "3.10.0"
  },
  "orig_nbformat": 4
 },
 "nbformat": 4,
 "nbformat_minor": 2
}
