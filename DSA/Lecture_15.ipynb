{
 "cells": [
  {
   "attachments": {},
   "cell_type": "markdown",
   "metadata": {},
   "source": [
    "[Annotated notes](https://pwskills.notion.site/Annotated-Notes-15-6b7c0e92f36c46d0a7e2a3f649829969)\\\n",
    "[Notes with code](https://pwskills.notion.site/Class-Notes-15-3c96468575d243a398c28c7228d60acf)"
   ]
  },
  {
   "attachments": {},
   "cell_type": "markdown",
   "metadata": {},
   "source": [
    "# Stacks"
   ]
  }
 ],
 "metadata": {
  "language_info": {
   "name": "python"
  },
  "orig_nbformat": 4
 },
 "nbformat": 4,
 "nbformat_minor": 2
}
