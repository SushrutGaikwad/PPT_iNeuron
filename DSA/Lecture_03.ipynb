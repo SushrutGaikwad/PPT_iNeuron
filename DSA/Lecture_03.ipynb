{
 "cells": [
  {
   "attachments": {},
   "cell_type": "markdown",
   "metadata": {},
   "source": [
    "[Annotated notes](https://drive.google.com/file/d/1XDlEl16MxEprRojRVe2lrIWOwtg5JgiE/view)\\\n",
    "[Notes with code](https://drive.google.com/file/d/1tfNS-AhkwEHBFdMs394xtH-Le3rHYuM6/view)"
   ]
  },
  {
   "attachments": {},
   "cell_type": "markdown",
   "metadata": {},
   "source": [
    "# Arrays (Continued)"
   ]
  },
  {
   "attachments": {},
   "cell_type": "markdown",
   "metadata": {},
   "source": [
    "**Question:** Implement `pow(x, n)`, which calculates `x` raised to the power `n` (i.e., $x^n$).\n",
    "\n",
    "**Example:**\n",
    "\n",
    "Input: `x = 2.00000`, `n = 10`.\n",
    "\n",
    "Output: `1024.00000`."
   ]
  },
  {
   "attachments": {},
   "cell_type": "markdown",
   "metadata": {},
   "source": [
    "**Solution:**\n",
    "\n",
    "The brute force approach is to multiply `x` for `n` number of times. The time complexity of this is $\\mathcal{O}\\left( n \\right)$.\n",
    "\n",
    "For a better approach, notice the following:\n",
    "* If $n$ is even, we can write $x^n=\\left( x^2 \\right)^{\\left\\lfloor \\frac{n}{2} \\right\\rfloor}$.\n",
    "* If $n$ is odd, we can write $x^n = x \\left( x^2 \\right)^{\\left\\lfloor \\frac{n}{2} \\right\\rfloor}$.\n",
    "\n",
    "For example, $3^6=\\left( 3^2 \\right)^{\\left\\lfloor \\frac{6}{2} \\right\\rfloor} = 3^{2\\times 3}$, and $3^7 = 3 \\left( 3^2 \\right)^{\\left\\lfloor \\frac{7}{2} \\right\\rfloor} = 3^{1+6}$. So, the algorithm is the following:\n",
    "\n",
    "`pow(x, n)`:\n",
    "1. First, we will take care of the boundary condition of `n = 0`. So, if `n == 0`, we will return `1`.\n",
    "2. If `n < 0`, we will do `n = -n`, and `x = 1/x`.\n",
    "    - If `n%2 == 0`, we will return `pow(x*x, n//2)`.\n",
    "    - Else, we will return `x*pow(x*x, n//2)`.\n",
    "\n",
    "To find the time complexity, notice that as with the iterations, $n\\rightarrow \\frac{n}{2}\\rightarrow \\frac{n}{4}\\rightarrow \\cdots \\rightarrow 1$. So, we have $\\frac{n}{2^k} = 1$ for some $k$ iterations, which means that $k=\\log n$. This means that the time complexity is $\\mathcal{O}\\left( \\log n \\right)$. The space complexity is also $\\mathcal{O}\\left( \\log n \\right)$ since it is a recursion."
   ]
  },
  {
   "cell_type": "code",
   "execution_count": 1,
   "metadata": {},
   "outputs": [],
   "source": [
    "class Solution:\n",
    "    def pow(self, x, n):\n",
    "        if n == 0:\n",
    "            return 1\n",
    "        if n < 0:\n",
    "            if x == 0:\n",
    "                raise(ZeroDivisionError)\n",
    "            else:\n",
    "                n = -n\n",
    "                x = 1 / x\n",
    "        return x * self.pow(x*x, n//2) if n%2 else self.pow(x*x, n//2)\n",
    "\n",
    "solution = Solution()"
   ]
  },
  {
   "cell_type": "code",
   "execution_count": 2,
   "metadata": {},
   "outputs": [
    {
     "data": {
      "text/plain": [
       "1024"
      ]
     },
     "execution_count": 2,
     "metadata": {},
     "output_type": "execute_result"
    }
   ],
   "source": [
    "x = 2\n",
    "n = 10\n",
    "\n",
    "solution.pow(x, n)"
   ]
  },
  {
   "cell_type": "code",
   "execution_count": 3,
   "metadata": {},
   "outputs": [
    {
     "data": {
      "text/plain": [
       "0.0009765625"
      ]
     },
     "execution_count": 3,
     "metadata": {},
     "output_type": "execute_result"
    }
   ],
   "source": [
    "x = 2\n",
    "n = -10\n",
    "\n",
    "solution.pow(x, n)"
   ]
  },
  {
   "cell_type": "code",
   "execution_count": 4,
   "metadata": {},
   "outputs": [
    {
     "ename": "ZeroDivisionError",
     "evalue": "",
     "output_type": "error",
     "traceback": [
      "\u001b[1;31m---------------------------------------------------------------------------\u001b[0m",
      "\u001b[1;31mZeroDivisionError\u001b[0m                         Traceback (most recent call last)",
      "Cell \u001b[1;32mIn[4], line 4\u001b[0m\n\u001b[0;32m      1\u001b[0m x \u001b[39m=\u001b[39m \u001b[39m0\u001b[39m\n\u001b[0;32m      2\u001b[0m n \u001b[39m=\u001b[39m \u001b[39m-\u001b[39m\u001b[39m10\u001b[39m\n\u001b[1;32m----> 4\u001b[0m solution\u001b[39m.\u001b[39;49mpow(x, n)\n",
      "Cell \u001b[1;32mIn[1], line 7\u001b[0m, in \u001b[0;36mSolution.pow\u001b[1;34m(self, x, n)\u001b[0m\n\u001b[0;32m      5\u001b[0m \u001b[39mif\u001b[39;00m n \u001b[39m<\u001b[39m \u001b[39m0\u001b[39m:\n\u001b[0;32m      6\u001b[0m     \u001b[39mif\u001b[39;00m x \u001b[39m==\u001b[39m \u001b[39m0\u001b[39m:\n\u001b[1;32m----> 7\u001b[0m         \u001b[39mraise\u001b[39;00m(\u001b[39mZeroDivisionError\u001b[39;00m)\n\u001b[0;32m      8\u001b[0m     \u001b[39melse\u001b[39;00m:\n\u001b[0;32m      9\u001b[0m         n \u001b[39m=\u001b[39m \u001b[39m-\u001b[39mn\n",
      "\u001b[1;31mZeroDivisionError\u001b[0m: "
     ]
    }
   ],
   "source": [
    "x = 0\n",
    "n = -10\n",
    "\n",
    "solution.pow(x, n)"
   ]
  },
  {
   "attachments": {},
   "cell_type": "markdown",
   "metadata": {},
   "source": [
    "**Question:** A permutation of an array of integers is an arrangement of its members into a sequence or linear order.\n",
    "* For example, for `arr = [1, 2, 3]`, the following are all the permutations of `arr`: `[1, 2, 3]`, `[1, 3, 2]`, `[2, 1, 3]`, `[2, 3, 1]`, `[3, 1, 2]`, `[3, 2, 1]`.\n",
    "\n",
    "The next permutation of an array of integers is the next lexicographically greater permutation of its integer. More formally, if all the permutations of the array are sorted in one container according to their lexicographical order, then the next permutation of that array is the permutation that follows it in the sorted container. If such arrangement is not possible, the array must be rearranged as the lowest possible order (i.e., sorted in ascending order). For example:\n",
    "* The next permutation of `arr = [1, 2, 3]` is `[1, 3, 2]`.\n",
    "* Similarly, the next permutation of `arr = [2, 3, 1]` is `[3, 1, 2]`.\n",
    "* While the next permutation of `arr = [3, 2, 1]` is `[1, 2, 3]` because `[3, 2, 1]` does not have a lexicographical larger rearrangement.\n",
    "\n",
    "Given an array of integers `nums`, find the next permutation of `nums`. The replacement must be in place and use only constant extra memory.\n",
    "\n",
    "**Example:**\n",
    "\n",
    "Input: `nums = [1, 2, 3]`.\n",
    "\n",
    "Output: `[1, 3, 2]`."
   ]
  },
  {
   "attachments": {},
   "cell_type": "markdown",
   "metadata": {},
   "source": [
    "**Solution:**\n",
    "\n",
    "See the following examples of arrays and their next permutations.\n",
    "* `[1, 2, 3]` $\\rightarrow$ `[1, 3, 2]`.\n",
    "* `[7, 5, 8, 3]` $\\rightarrow$ `[7, 8, 3, 5]`.\n",
    "* `[1, 3, 8, 3, 5 ,7]` $\\rightarrow$ `[1, 3, 8, 3, 7, 5]`.\n",
    "* `[3, 2, 1]` $\\rightarrow$ `[1, 2, 3]`.\n",
    "* `[1, 5, 8, 4, 5, 6, 3, 7, 1]` $\\rightarrow$ `[1, 5, 8, 4, 5, 6, 7, 1, 3]`.\n",
    "\n",
    "We start from the rightmost element of the array, and see if the element at any `i`-th position is less than the element at the `i+1`-th position (i.e., an element which is lesser than the element on its right). If there exists such a pair of elements, we will swap them both, and sort the remaining elements on the right in increasing order. So, the algorithm is the following.\n",
    "1. We will find first pair (from the right) of two successive numbers in the array, say `a[i-1]` and `a[i]`, such that `a[i-1] < a[i]`.\n",
    "2. From the end, find a number, say `a[j]` which is just greater than `a[i-1]`.\n",
    "3. Swap `a[i-1]` and `a[j]`.\n",
    "4. Reverse the array from position `i` (i.e., sorting from position `i`).\n",
    "\n",
    "The time complexity of this algorithm is $\\mathcal{O}\\left( n \\right)$, and the space complexity is $\\mathcal{O}\\left( 1 \\right)$."
   ]
  },
  {
   "cell_type": "code",
   "execution_count": 5,
   "metadata": {},
   "outputs": [],
   "source": [
    "def next_permutation(nums):\n",
    "    i = len(nums) - 2\n",
    "    while i >= 0 and nums[i + 1] <= nums[i]:\n",
    "        i -= 1\n",
    "    if i >= 0:\n",
    "        j = len(nums) - 1\n",
    "        while nums[j] <= nums[i]:\n",
    "            j -= 1\n",
    "        nums[i], nums[j] = nums[j], nums[i]\n",
    "    reverse(nums, i + 1)\n",
    " \n",
    "def reverse(nums, start):\n",
    "    i, j = start, len(nums) - 1\n",
    "    while i < j:\n",
    "        nums[i], nums[j] = nums[j], nums[i]\n",
    "        i += 1\n",
    "        j -= 1"
   ]
  },
  {
   "cell_type": "code",
   "execution_count": 6,
   "metadata": {},
   "outputs": [
    {
     "data": {
      "text/plain": [
       "[1, 3, 2]"
      ]
     },
     "execution_count": 6,
     "metadata": {},
     "output_type": "execute_result"
    }
   ],
   "source": [
    "nums = [1, 2, 3]\n",
    "\n",
    "next_permutation(nums)\n",
    "nums"
   ]
  },
  {
   "cell_type": "code",
   "execution_count": 7,
   "metadata": {},
   "outputs": [
    {
     "data": {
      "text/plain": [
       "[7, 8, 3, 5]"
      ]
     },
     "execution_count": 7,
     "metadata": {},
     "output_type": "execute_result"
    }
   ],
   "source": [
    "nums = [7, 5, 8, 3]\n",
    "\n",
    "next_permutation(nums)\n",
    "nums"
   ]
  },
  {
   "cell_type": "code",
   "execution_count": 8,
   "metadata": {},
   "outputs": [
    {
     "data": {
      "text/plain": [
       "[1, 3, 8, 3, 7, 5]"
      ]
     },
     "execution_count": 8,
     "metadata": {},
     "output_type": "execute_result"
    }
   ],
   "source": [
    "nums = [1, 3, 8, 3, 5, 7]\n",
    "\n",
    "next_permutation(nums)\n",
    "nums"
   ]
  },
  {
   "cell_type": "code",
   "execution_count": 9,
   "metadata": {},
   "outputs": [
    {
     "data": {
      "text/plain": [
       "[1, 5, 8, 4, 5, 6, 7, 1, 3]"
      ]
     },
     "execution_count": 9,
     "metadata": {},
     "output_type": "execute_result"
    }
   ],
   "source": [
    "nums = [1, 5, 8, 4, 5, 6, 3, 7, 1]\n",
    "\n",
    "next_permutation(nums)\n",
    "nums"
   ]
  },
  {
   "cell_type": "code",
   "execution_count": 10,
   "metadata": {},
   "outputs": [
    {
     "data": {
      "text/plain": [
       "[1, 2, 3]"
      ]
     },
     "execution_count": 10,
     "metadata": {},
     "output_type": "execute_result"
    }
   ],
   "source": [
    "nums = [3, 2, 1]\n",
    "\n",
    "next_permutation(nums)\n",
    "nums"
   ]
  },
  {
   "cell_type": "code",
   "execution_count": 11,
   "metadata": {},
   "outputs": [
    {
     "data": {
      "text/plain": [
       "[1, 5, 8, 4, 5, 6, 4, 1, 3, 7]"
      ]
     },
     "execution_count": 11,
     "metadata": {},
     "output_type": "execute_result"
    }
   ],
   "source": [
    "nums = [1, 5, 8, 4, 5, 6, 3, 7, 4, 1]\n",
    "\n",
    "next_permutation(nums)\n",
    "nums"
   ]
  },
  {
   "attachments": {},
   "cell_type": "markdown",
   "metadata": {},
   "source": [
    "**Question:** Given an array `arr[]` of distinct elements size `N` that is sorted and then around an unknown point, the task is to check if the array has a pair with a given sum `X`.\n",
    "\n",
    "**Example:**\n",
    "\n",
    "Input: `arr[] = {11, 15, 6, 8, 9, 10}`, `X = 16`.\n",
    "\n",
    "Output: `True`.\n",
    "\n",
    "Explanation: There is a pair `(6, 10)` with sum `16`."
   ]
  },
  {
   "attachments": {},
   "cell_type": "markdown",
   "metadata": {},
   "source": [
    "**Solution:**\n",
    "\n",
    "The given rotated-sorted array is `[11, 15, 6, 8, 9, 10]`, with `X = 16`. We will use the 2-pointer approach, with `l` pointing at the smallest element, i.e., `6`, and `r` pointing at the greatest element, i.e., `15`. In the first iteration, `l + r = 21`, which is `> 16`, which means we will do `r -= 1`. In the next iteration, the sum is `6 + 11`, which is `17`, which is again `> 16`, so we will look to decrease `r`. However, in this case, `r` is already at the first position. Hence, we will set `r` to the last value of the array, i.e., `10`. Here, `l + r = 6 + 10 = 16`, which is the sum we were checking. Hence, we return `True`. To move `l` and `r`, we can use the formulas `l = (l + 1) % N` and `r = (r - 1 + N) % N`. The algorithm is the following:\n",
    "1. We will run a loop from `0` to `N - 1` to find pivot points.\n",
    "2. The left `l` pointer points to the smallest element, and the right pointer `r` points to the greatest element.\n",
    "3. While `l != r`, we will keep checking if `arr[l] + arr[r] == sum`.\n",
    "    - If `arr[l] + arr[r] > sum`, we update `r = (r - 1 + N) % N`.\n",
    "    - Else, we update `l = (l + 1) % N`.\n",
    "    - If `arr[l] + arr[r] == sum`, we will return `True`, else `False`.\n",
    "\n",
    "The time complexity is $\\mathcal{O}\\left( n \\right)$, and the space complexity is $\\mathcal{O}\\left( 1 \\right)$."
   ]
  },
  {
   "cell_type": "code",
   "execution_count": 12,
   "metadata": {},
   "outputs": [],
   "source": [
    "def find_pair(arr, x):\n",
    "    n = len(arr)\n",
    "    # find pivot element\n",
    "    pivot = 0\n",
    "    for i in range(n - 1):\n",
    "        if arr[i] > arr[i + 1]:\n",
    "            pivot = i + 1\n",
    "            break\n",
    "    left = pivot\n",
    "    right = pivot - 1\n",
    "    while left != right:\n",
    "        if arr[left] + arr[right] == x:\n",
    "            return True\n",
    "        elif arr[left] + arr[right] < x:\n",
    "            left = (left + 1) % n\n",
    "        else:\n",
    "            right = (right - 1 + n) % n\n",
    "    return False"
   ]
  },
  {
   "cell_type": "code",
   "execution_count": 13,
   "metadata": {},
   "outputs": [
    {
     "data": {
      "text/plain": [
       "True"
      ]
     },
     "execution_count": 13,
     "metadata": {},
     "output_type": "execute_result"
    }
   ],
   "source": [
    "arr = [11, 15, 6, 8, 9, 10]\n",
    "x = 16\n",
    "find_pair(arr, x)"
   ]
  },
  {
   "attachments": {},
   "cell_type": "markdown",
   "metadata": {},
   "source": [
    "**Question:** Given an array `nums` with `n` objects colored red, white, or blue, sort them in-place so that objects of the same color are adjacent, with the colors in the order red, white, and blue. We will use the integers `0`, `1`, and `2` to represent the color red, white, and blue, respectively. You must solve this problem without using the library's sort function.\n",
    "\n",
    "**Example:**\n",
    "\n",
    "Input: `nums = [2, 0, 2, 1, 1, 0]`.\n",
    "\n",
    "Output: `[0, 0, 1, 1, 2, 2]`."
   ]
  },
  {
   "attachments": {},
   "cell_type": "markdown",
   "metadata": {},
   "source": [
    "**Solution:**\n",
    "\n",
    "This is also known as the Dutch national flag problem. We have the input as `[2, 0, 2, 1, 1, 0]`. All the `0`'s should come in the beginning, all the `1`s in the middle, and all the `2`'s at the end. We will initialize three pointers, `p0` (which will tell us where `0`'s are present), `p2` (which will tell us where `2`'s are present), and one more pointer that will tell us the current element, i.e., `curr`. We will initialize `p0` at the beginning of the array, `p2` at the end of the array.\n",
    "\n",
    "In the first iteration, `p0` will point at `2` and `p2` will point at `0`. So, we will swap them, giving us `[0, 0, 2, 1, 1, 2]`. Here, `p2` is pointing to `2`, which is the correct position. Hence, we will move it down by one. So now, `p0` is pointing at `0` and `p2` is pointing at `1`. `p0` is at the correct position, hence we will move it up, and again up (since it is again at the correct position). So now, `p0` is pointing at `2` and `p2` is pointing at `1`. And so on. The algorithm is the following:\n",
    "1. Initialize the boundary of `0`'s by `p0 = 0`, boundary of `2`'s by `p2 = n - 1`, and `curr` by `curr = 0`.\n",
    "2. While `curr <= p2`\n",
    "    - If `nums[curr] = 0`, swap `curr` and `p0`, and move both of these pointers.\n",
    "    - If `nums[curr] = 2`, swap `curr` and `p2`, and move `p2` to the left, i.e., `p2 -= 1`.\n",
    "    - If `nums[curr] = 1`, `curr =+ 1`.\n",
    "\n",
    "The time complexity is $\\mathcal{O}\\left( n \\right)$, and space complexity is $\\mathcal{O}\\left( 1 \\right)$."
   ]
  },
  {
   "cell_type": "code",
   "execution_count": 14,
   "metadata": {},
   "outputs": [],
   "source": [
    "def sort_colors(nums):\n",
    "    p0 = 0\n",
    "    curr = 0\n",
    "    p2 = len(nums) - 1\n",
    " \n",
    "    while curr <= p2:\n",
    "        if nums[curr] == 0:\n",
    "            nums[p0], nums[curr] = nums[curr], nums[p0]\n",
    "            p0 += 1\n",
    "            curr += 1\n",
    "        elif nums[curr] == 2:\n",
    "            nums[curr], nums[p2] = nums[p2], nums[curr]\n",
    "            p2 -= 1\n",
    "        else:\n",
    "            curr += 1\n",
    "    \n",
    "    return nums"
   ]
  },
  {
   "cell_type": "code",
   "execution_count": 15,
   "metadata": {},
   "outputs": [
    {
     "data": {
      "text/plain": [
       "[0, 0, 1, 1, 2, 2]"
      ]
     },
     "execution_count": 15,
     "metadata": {},
     "output_type": "execute_result"
    }
   ],
   "source": [
    "nums = [2, 0, 2, 1, 1, 0]\n",
    "sort_colors(nums)"
   ]
  },
  {
   "attachments": {},
   "cell_type": "markdown",
   "metadata": {},
   "source": [
    "**Question:** Given an integer array `nums`, rotate the array to the right by `k` steps, where `k` is non-negative.\n",
    "\n",
    "**Example:**\n",
    "\n",
    "Input: `nums = [1, 2, 3, 4, 5, 6, 7]`, `k = 3`.\n",
    "\n",
    "Output: `[5, 6, 7, 1, 2, 3, 4]`.\n",
    "\n",
    "Explanation:\n",
    "\n",
    "rotate 1 steps to the right: `[7, 1, 2, 3, 4, 5, 6]`.\\\n",
    "rotate 2 steps to the right: `[6, 7, 1, 2, 3, 4, 5]`.\\\n",
    "rotate 3 steps to the right: `[5, 6, 7, 1, 2, 3, 4]`."
   ]
  },
  {
   "attachments": {},
   "cell_type": "markdown",
   "metadata": {},
   "source": [
    "**Solution:**\n",
    "\n",
    "The brute force approach is to shift (rotate) all the `n` numbers `k` times. This will have a time complexity of $\\mathcal{O}\\left( nk \\right)$.\n",
    "\n",
    "Another approach is by creating another array and for each element in the original array, put the element in the new array at the correct location. This will have a complexity as well as a space complexity of $\\mathcal{O}\\left( n \\right)$.\n",
    "\n",
    "The best approach will be the following. We are supposed to have `nums = [1, 2, 3, 4, 5, 6, 7]` $\\rightarrow$ `rotated = [5, 6, 7, 1, 2, 3, 4]`. If we reverse all the elements in the original array, we will get `nums_rev = [7, 6, 5, 4, 3, 2, 1]`. We can observe in the `rotated` that the first three (`k`) elements in it are just a reverse of what they are in `nums_rev`. The remaining elements (`n - k`) elements are also reversed. So, the algorithm is the following.\n",
    "1. Reverse all the elements in `num`.\n",
    "2. Reverse the first `k` elements.\n",
    "3. Reverse the last `n - k` elements.\n",
    "\n",
    "The time complexity for this is $\\mathcal{O}\\left( n \\right)$ and the space complexity is $\\mathcal{O}\\left( 1 \\right)$."
   ]
  },
  {
   "cell_type": "code",
   "execution_count": 16,
   "metadata": {},
   "outputs": [],
   "source": [
    "def rotate(nums, k):\n",
    "    k = k % len(nums)\n",
    "    reverse(nums, 0, len(nums) - 1)\n",
    "    reverse(nums, 0, k - 1)\n",
    "    reverse(nums, k, len(nums) - 1)\n",
    "    return nums\n",
    " \n",
    "def reverse(nums, start, end):\n",
    "    while start < end:\n",
    "        nums[start], nums[end] = nums[end], nums[start]\n",
    "        start += 1\n",
    "        end -= 1"
   ]
  },
  {
   "cell_type": "code",
   "execution_count": 17,
   "metadata": {},
   "outputs": [
    {
     "data": {
      "text/plain": [
       "[5, 6, 7, 1, 2, 3, 4]"
      ]
     },
     "execution_count": 17,
     "metadata": {},
     "output_type": "execute_result"
    }
   ],
   "source": [
    "nums = [1, 2, 3, 4, 5, 6, 7]\n",
    "k = 3\n",
    "\n",
    "rotate(nums, k)"
   ]
  },
  {
   "cell_type": "code",
   "execution_count": 18,
   "metadata": {},
   "outputs": [
    {
     "data": {
      "text/plain": [
       "[1, 2, 3, 4, 5, 6, 7]"
      ]
     },
     "execution_count": 18,
     "metadata": {},
     "output_type": "execute_result"
    }
   ],
   "source": [
    "nums = [1, 2, 3, 4, 5, 6, 7]\n",
    "k = 7\n",
    "\n",
    "rotate(nums, k)"
   ]
  },
  {
   "attachments": {},
   "cell_type": "markdown",
   "metadata": {},
   "source": [
    "**Question** Given a binary array `nums`, return the maximum number of consecutive `1`'s in the array.\n",
    "\n",
    "**Example:**\n",
    "\n",
    "Input: `nums = [1, 1, 0, 1, 1, 1]`.\n",
    "\n",
    "Output: `3`.\n",
    "\n",
    "Explanation: The first two digits or the last three digits are consecutive `1`s. The maximum number of consecutive `1`s is `3`."
   ]
  },
  {
   "attachments": {},
   "cell_type": "markdown",
   "metadata": {},
   "source": [
    "**Solution:**\n",
    "\n",
    "We will maintain two counters, `count` and `max_count`. The algorithm is the following.\n",
    "1. Initialize `count = 0` and `max_count = 0`.\n",
    "2. `count += 1` when there is `1` in the array.\n",
    "3. When we see `0`, update `max_count`, and reset `count = 0`.\n",
    "4. Return `max_count`.\n",
    "\n",
    "The time complexity is $\\mathcal{O}\\left( n \\right)$, and the space complexity is $\\mathcal{O}\\left( 1 \\right)$."
   ]
  },
  {
   "cell_type": "code",
   "execution_count": 19,
   "metadata": {},
   "outputs": [],
   "source": [
    "def findMaxConsecutiveOnes(nums):\n",
    "    count = 0\n",
    "    maxCount = 0\n",
    "    for i in range(len(nums)):\n",
    "        if nums[i] == 1:\n",
    "            count += 1\n",
    "        else:\n",
    "            maxCount = max(maxCount, count)\n",
    "            count = 0\n",
    "    return max(maxCount, count)"
   ]
  },
  {
   "cell_type": "code",
   "execution_count": 20,
   "metadata": {},
   "outputs": [
    {
     "data": {
      "text/plain": [
       "3"
      ]
     },
     "execution_count": 20,
     "metadata": {},
     "output_type": "execute_result"
    }
   ],
   "source": [
    "nums = [1, 1, 0, 1, 1, 1]\n",
    "\n",
    "findMaxConsecutiveOnes(nums)"
   ]
  }
 ],
 "metadata": {
  "kernelspec": {
   "display_name": "Python 3",
   "language": "python",
   "name": "python3"
  },
  "language_info": {
   "codemirror_mode": {
    "name": "ipython",
    "version": 3
   },
   "file_extension": ".py",
   "mimetype": "text/x-python",
   "name": "python",
   "nbconvert_exporter": "python",
   "pygments_lexer": "ipython3",
   "version": "3.10.0"
  },
  "orig_nbformat": 4
 },
 "nbformat": 4,
 "nbformat_minor": 2
}
