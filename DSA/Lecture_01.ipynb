{
 "cells": [
  {
   "attachments": {},
   "cell_type": "markdown",
   "metadata": {},
   "source": [
    "# Data Structure"
   ]
  },
  {
   "attachments": {},
   "cell_type": "markdown",
   "metadata": {},
   "source": [
    "A *data structure* is a storage used to organize the data, for example a library of books. Books properly organized in a library makes their searching and retrieval easier and more efficient.\n",
    "\n",
    "Data structures can be classified into different types in the following way.\n",
    "\n",
    "* Types of Data Structures:\n",
    "    - Linear\n",
    "        + Static\n",
    "            * Arrays\n",
    "        + Dynamic\n",
    "            * Queues, linked lists, stacks\n",
    "    - Non-linear\n",
    "        + Trees\n",
    "        + Graphs\n",
    "\n",
    "A *linear* data structure in which elements are arranged in a sequential way, e.g., an array. In a *non-linear* data structure, the data is arranged in a non-sequential (or a non-linear) fashion. A *static* data structure has a fixed size, whereas a *dynamic* data structure has a varying size. The more we keep adding elements in a dynamic data structure, the more its size increases. The system keeps on allocating more memory to such structures as we keep on adding more elements in them, and as soon as we remove elements, the memory is deallocated."
   ]
  },
  {
   "attachments": {},
   "cell_type": "markdown",
   "metadata": {},
   "source": [
    "**Question:** Given an array of size $N$, the task is to find the maximum and minimum element present in it using the least number of comparisons.\n",
    "\n",
    "**Example:**\n",
    "\n",
    "**Input:** `arr[] = {3, 5, 4, 1, 9}`\n",
    "\n",
    "**Output:** Minimum element is `1`, and the maximum element is `9`.\n",
    "\n",
    "**Solution:** Say, we have an array `{1000, 1, -1, 2, 70, -8}`. The brute force approach will be to start comparing the first element, i.e., `1000`, with all the elements. Doing this, we will end up putting `1000` at the end of the array. We now pick the next element and compare it with all the remaining element. We will keep on doing this until we sort the array in ascending order. The time complexity will be the following. The first element goes through $n-1$ comparisons, the second element goes through $n-2$ comparisons, and so on. So, the total number of comparisons will be\n",
    "$$n-1+n-2+⋯+1=\\dfrac{n(n+1)}{2}\\Rightarrow \\mathcal{O}\\left(n^2\\right)$$\n",
    "\n",
    "A second, and more optimal solution is the following:\n",
    "1. We first sort the array in ascending order.\n",
    "2. Return the first and the last elements.\n",
    "\n",
    "The time complexity for the best sorting algorithm is $\\mathcal{O}\\left( n\\log n \\right)$\n",
    "\n",
    "An even more optimal solution is the following:\n",
    "1. We can initialize the minimum and maximum by the first element (or with $0$).\n",
    "2. Keep on comparing the elements with them on the go and updating the minimum and maximum.\n",
    "3. Return the minimum and maximum at the end.\n",
    "\n",
    "The time complexity for this solution will be $\\mathcal{O}\\left( n \\right)$ as we are traversing the array just once. Also, make sure to check the corner cases, e.g., what to return if the input array is empty, or if the array has just a single element. The following is the python code for this solution."
   ]
  },
  {
   "cell_type": "code",
   "execution_count": 1,
   "metadata": {},
   "outputs": [
    {
     "name": "stdout",
     "output_type": "stream",
     "text": [
      "Minimum element is 1\n",
      "Maximum element is 3000\n"
     ]
    }
   ],
   "source": [
    "class pair:\n",
    "\tdef __init__(self):\n",
    "\t\tself.min = 0\n",
    "\t\tself.max = 0\n",
    "\n",
    "def getMinMax(arr: list, n: int) -> pair:\n",
    "\tminmax = pair()\n",
    "\n",
    "\t# If there is only one element then return it as min and max both\n",
    "\tif n == 1:\n",
    "\t\tminmax.max = arr[0]\n",
    "\t\tminmax.min = arr[0]\n",
    "\t\treturn minmax\n",
    "\n",
    "\t# If there are more than one elements, then initialize min\n",
    "\t# and max\n",
    "\tif arr[0] > arr[1]:\n",
    "\t\tminmax.max = arr[0]\n",
    "\t\tminmax.min = arr[1]\n",
    "\telse:\n",
    "\t\tminmax.max = arr[1]\n",
    "\t\tminmax.min = arr[0]\n",
    "\n",
    "\tfor i in range(2, n):\n",
    "\t\tif arr[i] > minmax.max:\n",
    "\t\t\tminmax.max = arr[i]\n",
    "\t\telif arr[i] < minmax.min:\n",
    "\t\t\tminmax.min = arr[i]\n",
    "\n",
    "\treturn minmax\n",
    "\n",
    "# Driver Code\n",
    "if __name__ == \"__main__\":\n",
    "\tarr = [1000, 11, 445, 1, 330, 3000]\n",
    "\tarr_size = len(arr)\n",
    "\tminmax = getMinMax(arr, arr_size)\n",
    "\tprint(\"Minimum element is\", minmax.min)\n",
    "\tprint(\"Maximum element is\", minmax.max)"
   ]
  },
  {
   "cell_type": "code",
   "execution_count": null,
   "metadata": {},
   "outputs": [],
   "source": []
  }
 ],
 "metadata": {
  "kernelspec": {
   "display_name": "Python 3",
   "language": "python",
   "name": "python3"
  },
  "language_info": {
   "codemirror_mode": {
    "name": "ipython",
    "version": 3
   },
   "file_extension": ".py",
   "mimetype": "text/x-python",
   "name": "python",
   "nbconvert_exporter": "python",
   "pygments_lexer": "ipython3",
   "version": "3.10.0"
  },
  "orig_nbformat": 4
 },
 "nbformat": 4,
 "nbformat_minor": 2
}
